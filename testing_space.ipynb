{
 "cells": [
  {
   "cell_type": "code",
   "execution_count": 42,
   "id": "996f36d2-b8ef-4b9a-a454-0313d75847f6",
   "metadata": {
    "tags": []
   },
   "outputs": [],
   "source": [
    "import pandas as pd\n",
    "import numpy as np\n",
    "df = pd.DataFrame({'f': [1,0,0,1,2,3,1], 'm': [1,1,1,1,1,1,0], 'col3': [np.nan, np.nan, 'Alone', np.nan, np.nan, 'Something', np.nan] })\n"
   ]
  },
  {
   "cell_type": "code",
   "execution_count": 43,
   "id": "9a9e039f-6ce7-4aed-b678-e2959f8a1503",
   "metadata": {
    "tags": []
   },
   "outputs": [
    {
     "data": {
      "text/html": [
       "<div>\n",
       "<style scoped>\n",
       "    .dataframe tbody tr th:only-of-type {\n",
       "        vertical-align: middle;\n",
       "    }\n",
       "\n",
       "    .dataframe tbody tr th {\n",
       "        vertical-align: top;\n",
       "    }\n",
       "\n",
       "    .dataframe thead th {\n",
       "        text-align: right;\n",
       "    }\n",
       "</style>\n",
       "<table border=\"1\" class=\"dataframe\">\n",
       "  <thead>\n",
       "    <tr style=\"text-align: right;\">\n",
       "      <th></th>\n",
       "      <th>f</th>\n",
       "      <th>m</th>\n",
       "      <th>col3</th>\n",
       "    </tr>\n",
       "  </thead>\n",
       "  <tbody>\n",
       "    <tr>\n",
       "      <th>0</th>\n",
       "      <td>1</td>\n",
       "      <td>1</td>\n",
       "      <td>NaN</td>\n",
       "    </tr>\n",
       "    <tr>\n",
       "      <th>1</th>\n",
       "      <td>0</td>\n",
       "      <td>1</td>\n",
       "      <td>Very Alone all</td>\n",
       "    </tr>\n",
       "    <tr>\n",
       "      <th>2</th>\n",
       "      <td>0</td>\n",
       "      <td>1</td>\n",
       "      <td>Very Alone all</td>\n",
       "    </tr>\n",
       "    <tr>\n",
       "      <th>3</th>\n",
       "      <td>1</td>\n",
       "      <td>1</td>\n",
       "      <td>NaN</td>\n",
       "    </tr>\n",
       "    <tr>\n",
       "      <th>4</th>\n",
       "      <td>2</td>\n",
       "      <td>1</td>\n",
       "      <td>NaN</td>\n",
       "    </tr>\n",
       "    <tr>\n",
       "      <th>5</th>\n",
       "      <td>3</td>\n",
       "      <td>1</td>\n",
       "      <td>Something</td>\n",
       "    </tr>\n",
       "    <tr>\n",
       "      <th>6</th>\n",
       "      <td>1</td>\n",
       "      <td>0</td>\n",
       "      <td>Very Alone all</td>\n",
       "    </tr>\n",
       "  </tbody>\n",
       "</table>\n",
       "</div>"
      ],
      "text/plain": [
       "   f  m            col3\n",
       "0  1  1             NaN\n",
       "1  0  1  Very Alone all\n",
       "2  0  1  Very Alone all\n",
       "3  1  1             NaN\n",
       "4  2  1             NaN\n",
       "5  3  1       Something\n",
       "6  1  0  Very Alone all"
      ]
     },
     "execution_count": 43,
     "metadata": {},
     "output_type": "execute_result"
    }
   ],
   "source": [
    "mask1 = df['f']==0\n",
    "mask2 = df['m']==1\n",
    "df.loc[mask1 & mask2, 'col3'] = 'Very Alone males'\n",
    "\n",
    "mask3 = df['f']==1\n",
    "mask4 = df['m']==0\n",
    "df.loc[mask3 & mask4, 'col3'] = 'Very Alone females'\n",
    "\n",
    "df.loc[(mask1 & mask2) | (mask3 & mask4), 'col3'] = 'Very Alone all'\n",
    "\n",
    "df"
   ]
  },
  {
   "cell_type": "markdown",
   "id": "749c408b-cbb0-40bd-a539-a0c83b35c563",
   "metadata": {},
   "source": [
    "# Dump/Load Models"
   ]
  },
  {
   "cell_type": "code",
   "execution_count": 2,
   "id": "b064899e-b227-47a4-af0f-28619261aff8",
   "metadata": {},
   "outputs": [
    {
     "data": {
      "text/plain": [
       "{'Hablas español?': 'Sí, señora!'}"
      ]
     },
     "execution_count": 2,
     "metadata": {},
     "output_type": "execute_result"
    }
   ],
   "source": [
    "from scripts.model_serializer import ModelSerializer\n",
    "\n",
    "ModelSerializer('models/blabla.bla').dump({'Hablas español?': 'Sí, señora!'})\n",
    "ModelSerializer('models/blabla.bla').load()\n"
   ]
  },
  {
   "cell_type": "code",
   "execution_count": null,
   "id": "f9d8a514-8ec2-414b-a681-c33b62dd2ef1",
   "metadata": {},
   "outputs": [],
   "source": []
  },
  {
   "cell_type": "code",
   "execution_count": null,
   "id": "bbb9fed1-a364-4ddc-aef0-19d245fc4121",
   "metadata": {},
   "outputs": [],
   "source": []
  },
  {
   "cell_type": "code",
   "execution_count": null,
   "id": "447aae9c-6a57-4110-9e29-ba552beaeb3b",
   "metadata": {},
   "outputs": [],
   "source": []
  },
  {
   "cell_type": "code",
   "execution_count": null,
   "id": "9616a18b-cbc2-4366-987d-5c0cec147ac3",
   "metadata": {
    "tags": []
   },
   "outputs": [],
   "source": [
    "# Evaluate the best model\n",
    "print('Best Model:', best_model.named_steps['classifier'])\n",
    "print('Mean Absolute Percentage Error:', round(mean_absolute_percentage_error(y_train, y_pred_train), 2))\n",
    "print('Mean Absolute Error:', round(np.sqrt(mean_absolute_error(y_test, y_pred_test)), 2))\n",
    "print('Mean Squared Error:', round(np.sqrt(mean_squared_error(y_test, y_pred_test)), 2))\n",
    "print('R-squared:', round(r2_score(y_test, y_pred_test), 2))\n",
    "\n",
    "\n",
    "\n",
    "\n",
    "\n",
    "\n",
    "\n",
    "\n",
    "def coeff_info(model):\n",
    "    coeff_used = np.sum(model.coef_!=0)\n",
    "    print('The model is using', coeff_used, 'out of 66 features.')\n",
    "    print( \"The highest coefficient has a value of:\", max(model.coef_.round(3)))\n",
    "\n",
    "    \n",
    "#coeff_info(best_model)"
   ]
  }
 ],
 "metadata": {
  "kernelspec": {
   "display_name": "Python 3 (ipykernel)",
   "language": "python",
   "name": "python3"
  },
  "language_info": {
   "codemirror_mode": {
    "name": "ipython",
    "version": 3
   },
   "file_extension": ".py",
   "mimetype": "text/x-python",
   "name": "python",
   "nbconvert_exporter": "python",
   "pygments_lexer": "ipython3",
   "version": "3.11.3"
  },
  "toc-showcode": true
 },
 "nbformat": 4,
 "nbformat_minor": 5
}
