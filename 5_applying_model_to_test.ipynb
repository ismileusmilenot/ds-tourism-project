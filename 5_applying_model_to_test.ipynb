{
 "cells": [
  {
   "cell_type": "markdown",
   "id": "488574ff-81e5-40b1-a348-dd2236102e41",
   "metadata": {},
   "source": [
    "# Applying the model to \"Test.csv\""
   ]
  },
  {
   "cell_type": "code",
   "execution_count": 5,
   "id": "4073fd71-1d94-428a-bd86-1f6e93d9186d",
   "metadata": {
    "tags": []
   },
   "outputs": [],
   "source": [
    "import pandas as pd\n",
    "from scripts.model_serializer import ModelSerializer\n",
    "from scripts.clean_dataset import clean_dataset\n",
    "from scripts.helper import currency"
   ]
  },
  {
   "cell_type": "code",
   "execution_count": 6,
   "id": "a4d07015-5f8a-4525-9fad-77ecc9e566fc",
   "metadata": {
    "tags": []
   },
   "outputs": [],
   "source": [
    "model = ModelSerializer('models/best_model.sav').load()"
   ]
  },
  {
   "cell_type": "code",
   "execution_count": 12,
   "id": "2a72fd92-234d-4f6a-b0a6-4352e1117699",
   "metadata": {
    "tags": []
   },
   "outputs": [],
   "source": [
    "reat_test_dataset = pd.read_csv('data/Test.csv')"
   ]
  },
  {
   "cell_type": "code",
   "execution_count": 13,
   "id": "1f556232-4f9a-4a22-b9c3-7473ccec02af",
   "metadata": {
    "tags": []
   },
   "outputs": [],
   "source": [
    "ids = reat_test_dataset['ID']"
   ]
  },
  {
   "cell_type": "code",
   "execution_count": 14,
   "id": "8c6ba4b3-cdbc-43b2-8836-9b72ad3191e9",
   "metadata": {
    "tags": []
   },
   "outputs": [],
   "source": [
    "real_test = clean_dataset(reat_test_dataset)"
   ]
  },
  {
   "cell_type": "code",
   "execution_count": 16,
   "id": "c8f0afad-7498-4597-a4e6-06e283a274f1",
   "metadata": {},
   "outputs": [],
   "source": [
    "model = ModelSerializer('models/best_model.sav').load()\n",
    "real_predictions =  pd.Series(model.predict(real_test), name='Predictions')\n",
    "\n",
    "# Concatenate the Series and ndarray into a DataFrame\n",
    "result_df = pd.concat([ids, real_predictions], axis=1)\n",
    "result_df.columns = ['ids', 'predictions']"
   ]
  },
  {
   "cell_type": "code",
   "execution_count": 17,
   "id": "499679fd-47da-405c-ab3d-421c76067812",
   "metadata": {
    "tags": []
   },
   "outputs": [
    {
     "name": "stdout",
     "output_type": "stream",
     "text": [
      "ids             0\n",
      "predictions    27\n",
      "dtype: int64\n"
     ]
    },
    {
     "data": {
      "text/html": [
       "<div>\n",
       "<style scoped>\n",
       "    .dataframe tbody tr th:only-of-type {\n",
       "        vertical-align: middle;\n",
       "    }\n",
       "\n",
       "    .dataframe tbody tr th {\n",
       "        vertical-align: top;\n",
       "    }\n",
       "\n",
       "    .dataframe thead th {\n",
       "        text-align: right;\n",
       "    }\n",
       "</style>\n",
       "<table border=\"1\" class=\"dataframe\">\n",
       "  <thead>\n",
       "    <tr style=\"text-align: right;\">\n",
       "      <th></th>\n",
       "      <th>ids</th>\n",
       "      <th>predictions</th>\n",
       "    </tr>\n",
       "  </thead>\n",
       "  <tbody>\n",
       "    <tr>\n",
       "      <th>0</th>\n",
       "      <td>tour_1</td>\n",
       "      <td>very high</td>\n",
       "    </tr>\n",
       "    <tr>\n",
       "      <th>1</th>\n",
       "      <td>tour_100</td>\n",
       "      <td>very high</td>\n",
       "    </tr>\n",
       "    <tr>\n",
       "      <th>2</th>\n",
       "      <td>tour_1001</td>\n",
       "      <td>medium</td>\n",
       "    </tr>\n",
       "    <tr>\n",
       "      <th>3</th>\n",
       "      <td>tour_1006</td>\n",
       "      <td>medium</td>\n",
       "    </tr>\n",
       "    <tr>\n",
       "      <th>4</th>\n",
       "      <td>tour_1009</td>\n",
       "      <td>very high</td>\n",
       "    </tr>\n",
       "    <tr>\n",
       "      <th>...</th>\n",
       "      <td>...</td>\n",
       "      <td>...</td>\n",
       "    </tr>\n",
       "    <tr>\n",
       "      <th>1596</th>\n",
       "      <td>tour_988</td>\n",
       "      <td>NaN</td>\n",
       "    </tr>\n",
       "    <tr>\n",
       "      <th>1597</th>\n",
       "      <td>tour_990</td>\n",
       "      <td>NaN</td>\n",
       "    </tr>\n",
       "    <tr>\n",
       "      <th>1598</th>\n",
       "      <td>tour_992</td>\n",
       "      <td>NaN</td>\n",
       "    </tr>\n",
       "    <tr>\n",
       "      <th>1599</th>\n",
       "      <td>tour_996</td>\n",
       "      <td>NaN</td>\n",
       "    </tr>\n",
       "    <tr>\n",
       "      <th>1600</th>\n",
       "      <td>tour_998</td>\n",
       "      <td>NaN</td>\n",
       "    </tr>\n",
       "  </tbody>\n",
       "</table>\n",
       "<p>1601 rows × 2 columns</p>\n",
       "</div>"
      ],
      "text/plain": [
       "            ids predictions\n",
       "0        tour_1   very high\n",
       "1      tour_100   very high\n",
       "2     tour_1001      medium\n",
       "3     tour_1006      medium\n",
       "4     tour_1009   very high\n",
       "...         ...         ...\n",
       "1596   tour_988         NaN\n",
       "1597   tour_990         NaN\n",
       "1598   tour_992         NaN\n",
       "1599   tour_996         NaN\n",
       "1600   tour_998         NaN\n",
       "\n",
       "[1601 rows x 2 columns]"
      ]
     },
     "execution_count": 17,
     "metadata": {},
     "output_type": "execute_result"
    }
   ],
   "source": [
    "print(result_df.isna().sum())\n",
    "result_df"
   ]
  },
  {
   "cell_type": "code",
   "execution_count": 18,
   "id": "709ac442-6181-4834-a95f-f536c1aac510",
   "metadata": {
    "tags": []
   },
   "outputs": [],
   "source": [
    "result_df.to_csv('data/Test_computed.csv', index=False)"
   ]
  }
 ],
 "metadata": {
  "kernelspec": {
   "display_name": "Python 3 (ipykernel)",
   "language": "python",
   "name": "python3"
  },
  "language_info": {
   "codemirror_mode": {
    "name": "ipython",
    "version": 3
   },
   "file_extension": ".py",
   "mimetype": "text/x-python",
   "name": "python",
   "nbconvert_exporter": "python",
   "pygments_lexer": "ipython3",
   "version": "3.11.3"
  }
 },
 "nbformat": 4,
 "nbformat_minor": 5
}
