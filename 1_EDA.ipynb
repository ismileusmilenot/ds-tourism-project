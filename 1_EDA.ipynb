{
 "cells": [
  {
   "cell_type": "markdown",
   "id": "21f797c9-a46a-4891-8195-72633bd7f0db",
   "metadata": {},
   "source": [
    "# Tansania Travel Spendings Predictions"
   ]
  },
  {
   "cell_type": "markdown",
   "id": "e32888c4-a11e-4cb7-a0af-0a95e6f57171",
   "metadata": {},
   "source": [
    "## Importing libraries"
   ]
  },
  {
   "cell_type": "code",
   "execution_count": 1,
   "id": "b378766d-e0d3-4b1c-b973-8abab782cf72",
   "metadata": {
    "tags": []
   },
   "outputs": [],
   "source": [
    "import pandas as pd\n",
    "import numpy as np\n",
    "import matplotlib.pyplot as plt\n",
    "import seaborn as sns\n",
    "from scripts.helper import currency, remove_outliers"
   ]
  },
  {
   "cell_type": "markdown",
   "id": "de1923ed-e5c5-4ab5-8f38-ea9731ec54fa",
   "metadata": {
    "tags": []
   },
   "source": [
    "## Importing the dataset"
   ]
  },
  {
   "cell_type": "code",
   "execution_count": 2,
   "id": "ff1c9369-5ab6-4a11-b7fa-9d265833a6a0",
   "metadata": {
    "tags": []
   },
   "outputs": [],
   "source": [
    "df_train = pd.read_csv('data/Train.csv')\n",
    "df_test  = pd.read_csv('data/Test.csv')"
   ]
  },
  {
   "cell_type": "markdown",
   "id": "4c9380f7-9891-4f04-88ac-def245f055bb",
   "metadata": {
    "tags": []
   },
   "source": [
    "## Overview of the dataset"
   ]
  },
  {
   "cell_type": "markdown",
   "id": "6b22f234-9292-47fb-b430-87567e63e0a4",
   "metadata": {},
   "source": [
    "There are 4809 rows and 23 columns in this dataset."
   ]
  },
  {
   "cell_type": "code",
   "execution_count": 3,
   "id": "032ac98a-2b16-4720-a177-3715a2b00aa9",
   "metadata": {
    "tags": []
   },
   "outputs": [
    {
     "data": {
      "text/plain": [
       "(4809, 23)"
      ]
     },
     "execution_count": 3,
     "metadata": {},
     "output_type": "execute_result"
    }
   ],
   "source": [
    "df_train.shape"
   ]
  },
  {
   "cell_type": "code",
   "execution_count": 4,
   "id": "48c66712-ec68-4c22-91fe-5c46e09b5c2d",
   "metadata": {
    "tags": []
   },
   "outputs": [
    {
     "name": "stdout",
     "output_type": "stream",
     "text": [
      "<class 'pandas.core.frame.DataFrame'>\n",
      "RangeIndex: 4809 entries, 0 to 4808\n",
      "Data columns (total 23 columns):\n",
      " #   Column                 Non-Null Count  Dtype  \n",
      "---  ------                 --------------  -----  \n",
      " 0   ID                     4809 non-null   object \n",
      " 1   country                4809 non-null   object \n",
      " 2   age_group              4809 non-null   object \n",
      " 3   travel_with            3695 non-null   object \n",
      " 4   total_female           4806 non-null   float64\n",
      " 5   total_male             4804 non-null   float64\n",
      " 6   purpose                4809 non-null   object \n",
      " 7   main_activity          4809 non-null   object \n",
      " 8   info_source            4809 non-null   object \n",
      " 9   tour_arrangement       4809 non-null   object \n",
      " 10  package_transport_int  4809 non-null   object \n",
      " 11  package_accomodation   4809 non-null   object \n",
      " 12  package_food           4809 non-null   object \n",
      " 13  package_transport_tz   4809 non-null   object \n",
      " 14  package_sightseeing    4809 non-null   object \n",
      " 15  package_guided_tour    4809 non-null   object \n",
      " 16  package_insurance      4809 non-null   object \n",
      " 17  night_mainland         4809 non-null   float64\n",
      " 18  night_zanzibar         4809 non-null   float64\n",
      " 19  payment_mode           4809 non-null   object \n",
      " 20  first_trip_tz          4809 non-null   object \n",
      " 21  most_impressing        4496 non-null   object \n",
      " 22  total_cost             4809 non-null   float64\n",
      "dtypes: float64(5), object(18)\n",
      "memory usage: 864.2+ KB\n"
     ]
    }
   ],
   "source": [
    "df_train.info()"
   ]
  },
  {
   "cell_type": "code",
   "execution_count": 5,
   "id": "38e3aaad-0982-4a81-b5fb-9ea09e6a3323",
   "metadata": {
    "tags": []
   },
   "outputs": [
    {
     "data": {
      "text/html": [
       "<div>\n",
       "<style scoped>\n",
       "    .dataframe tbody tr th:only-of-type {\n",
       "        vertical-align: middle;\n",
       "    }\n",
       "\n",
       "    .dataframe tbody tr th {\n",
       "        vertical-align: top;\n",
       "    }\n",
       "\n",
       "    .dataframe thead th {\n",
       "        text-align: right;\n",
       "    }\n",
       "</style>\n",
       "<table border=\"1\" class=\"dataframe\">\n",
       "  <thead>\n",
       "    <tr style=\"text-align: right;\">\n",
       "      <th></th>\n",
       "      <th>count</th>\n",
       "      <th>mean</th>\n",
       "      <th>std</th>\n",
       "      <th>min</th>\n",
       "      <th>25%</th>\n",
       "      <th>50%</th>\n",
       "      <th>75%</th>\n",
       "      <th>max</th>\n",
       "    </tr>\n",
       "  </thead>\n",
       "  <tbody>\n",
       "    <tr>\n",
       "      <th>total_female</th>\n",
       "      <td>4806.0</td>\n",
       "      <td>1.0</td>\n",
       "      <td>1.0</td>\n",
       "      <td>0.0</td>\n",
       "      <td>0.0</td>\n",
       "      <td>1.0</td>\n",
       "      <td>1.0</td>\n",
       "      <td>49.0</td>\n",
       "    </tr>\n",
       "    <tr>\n",
       "      <th>total_male</th>\n",
       "      <td>4804.0</td>\n",
       "      <td>1.0</td>\n",
       "      <td>1.0</td>\n",
       "      <td>0.0</td>\n",
       "      <td>1.0</td>\n",
       "      <td>1.0</td>\n",
       "      <td>1.0</td>\n",
       "      <td>44.0</td>\n",
       "    </tr>\n",
       "    <tr>\n",
       "      <th>night_mainland</th>\n",
       "      <td>4809.0</td>\n",
       "      <td>8.0</td>\n",
       "      <td>10.0</td>\n",
       "      <td>0.0</td>\n",
       "      <td>3.0</td>\n",
       "      <td>6.0</td>\n",
       "      <td>11.0</td>\n",
       "      <td>145.0</td>\n",
       "    </tr>\n",
       "    <tr>\n",
       "      <th>night_zanzibar</th>\n",
       "      <td>4809.0</td>\n",
       "      <td>2.0</td>\n",
       "      <td>4.0</td>\n",
       "      <td>0.0</td>\n",
       "      <td>0.0</td>\n",
       "      <td>0.0</td>\n",
       "      <td>4.0</td>\n",
       "      <td>61.0</td>\n",
       "    </tr>\n",
       "    <tr>\n",
       "      <th>total_cost</th>\n",
       "      <td>4809.0</td>\n",
       "      <td>8114389.0</td>\n",
       "      <td>12224903.0</td>\n",
       "      <td>49000.0</td>\n",
       "      <td>812175.0</td>\n",
       "      <td>3397875.0</td>\n",
       "      <td>9945000.0</td>\n",
       "      <td>99532875.0</td>\n",
       "    </tr>\n",
       "  </tbody>\n",
       "</table>\n",
       "</div>"
      ],
      "text/plain": [
       "                 count       mean         std      min       25%        50%   \n",
       "total_female    4806.0        1.0         1.0      0.0       0.0        1.0  \\\n",
       "total_male      4804.0        1.0         1.0      0.0       1.0        1.0   \n",
       "night_mainland  4809.0        8.0        10.0      0.0       3.0        6.0   \n",
       "night_zanzibar  4809.0        2.0         4.0      0.0       0.0        0.0   \n",
       "total_cost      4809.0  8114389.0  12224903.0  49000.0  812175.0  3397875.0   \n",
       "\n",
       "                      75%         max  \n",
       "total_female          1.0        49.0  \n",
       "total_male            1.0        44.0  \n",
       "night_mainland       11.0       145.0  \n",
       "night_zanzibar        4.0        61.0  \n",
       "total_cost      9945000.0  99532875.0  "
      ]
     },
     "execution_count": 5,
     "metadata": {},
     "output_type": "execute_result"
    }
   ],
   "source": [
    "df_train.describe().round().T"
   ]
  },
  {
   "cell_type": "markdown",
   "id": "1294c359-39eb-454f-90a9-3240e5dedb17",
   "metadata": {
    "tags": []
   },
   "source": [
    "## Check for duplicates"
   ]
  },
  {
   "cell_type": "markdown",
   "id": "f72575f4-c2bb-4771-8faf-adfc2309e87f",
   "metadata": {
    "tags": []
   },
   "source": [
    "There are no duplicate rows in the dataset."
   ]
  },
  {
   "cell_type": "code",
   "execution_count": 6,
   "id": "c267aa8f-3130-4492-adc3-805be500bda7",
   "metadata": {
    "tags": []
   },
   "outputs": [
    {
     "data": {
      "text/plain": [
       "0"
      ]
     },
     "execution_count": 6,
     "metadata": {},
     "output_type": "execute_result"
    }
   ],
   "source": [
    "df_train.duplicated().sum()"
   ]
  },
  {
   "cell_type": "markdown",
   "id": "7b5d15ae-f860-43c8-bd0b-1c44eb3f8e94",
   "metadata": {
    "tags": []
   },
   "source": [
    "## Basic logical cleanups"
   ]
  },
  {
   "cell_type": "markdown",
   "id": "c7882fbf-8c8d-40aa-83ab-f1f0a32d7bc4",
   "metadata": {
    "tags": []
   },
   "source": [
    "### Drop ID column"
   ]
  },
  {
   "cell_type": "code",
   "execution_count": 7,
   "id": "7c1067f0-845a-4d19-8309-6df55b6107a1",
   "metadata": {
    "tags": []
   },
   "outputs": [],
   "source": [
    "df_train.drop('ID', axis=1, inplace=True)"
   ]
  },
  {
   "cell_type": "markdown",
   "id": "c8c59c31-a7b1-4beb-8b77-c73a8fe59576",
   "metadata": {},
   "source": [
    "### Fix typographical error (leading whitespace) for all \"Wildlife\" entries"
   ]
  },
  {
   "cell_type": "code",
   "execution_count": 8,
   "id": "62e960c2-b901-45e2-ba25-bffbcb439eac",
   "metadata": {
    "tags": []
   },
   "outputs": [],
   "source": [
    "df_train.replace({' Wildlife': 'Wildlife'}, inplace=True)"
   ]
  },
  {
   "cell_type": "markdown",
   "id": "3b749dbf-4895-4fc9-9328-41d96ec50884",
   "metadata": {},
   "source": [
    "### Fix 24-Jan age group entries"
   ]
  },
  {
   "cell_type": "code",
   "execution_count": 9,
   "id": "4645aa2e-05b3-4cdb-9274-39aadefb221c",
   "metadata": {
    "tags": []
   },
   "outputs": [],
   "source": [
    "df_train['age_group'] = df_train['age_group'].replace('24-Jan', '1-24')"
   ]
  },
  {
   "cell_type": "markdown",
   "id": "be6df8db-6c15-4478-b750-42078f4f6ffc",
   "metadata": {
    "tags": [],
    "toc-hr-collapsed": true
   },
   "source": [
    "### Replace Yes/No with True/False"
   ]
  },
  {
   "cell_type": "code",
   "execution_count": 10,
   "id": "3cf5e155-ef96-41d5-8091-e08a830ff3ba",
   "metadata": {
    "tags": []
   },
   "outputs": [],
   "source": [
    "yesno = {'Yes': True, 'No': False}\n",
    "#yesno = {'Yes': 1, 'No': 0}\n",
    "df_train.replace(yesno, inplace=True)"
   ]
  },
  {
   "cell_type": "markdown",
   "id": "f0766443-5ed7-4343-a021-741e0af58501",
   "metadata": {},
   "source": [
    "### Convert Currency to EUR"
   ]
  },
  {
   "cell_type": "markdown",
   "id": "988d9f74-bcf4-419a-84c4-4de750e5c08c",
   "metadata": {},
   "source": [
    "Tanzanian Schillings are quite big. Let's convert them to Euros to better a better picture of the spendings."
   ]
  },
  {
   "cell_type": "code",
   "execution_count": 11,
   "id": "222be129-6437-491f-8667-a813c6683e33",
   "metadata": {
    "tags": []
   },
   "outputs": [],
   "source": [
    "conversion_rate =  0.000365"
   ]
  },
  {
   "cell_type": "code",
   "execution_count": 12,
   "id": "6292700d-e790-452a-917f-085dd365c58c",
   "metadata": {
    "tags": []
   },
   "outputs": [],
   "source": [
    "df_train['total_cost_euro'] = round(df_train['total_cost'] * conversion_rate, 2)"
   ]
  },
  {
   "cell_type": "code",
   "execution_count": 13,
   "id": "8b1bd5f5-356a-4646-b8ef-c6087e62292a",
   "metadata": {
    "tags": []
   },
   "outputs": [
    {
     "data": {
      "text/plain": [
       "count     4809.000000\n",
       "mean      2961.751703\n",
       "std       4462.089690\n",
       "min         17.880000\n",
       "25%        296.440000\n",
       "50%       1240.220000\n",
       "75%       3629.920000\n",
       "max      36329.500000\n",
       "Name: total_cost_euro, dtype: float64"
      ]
     },
     "execution_count": 13,
     "metadata": {},
     "output_type": "execute_result"
    }
   ],
   "source": [
    "df_train['total_cost_euro'].describe()"
   ]
  },
  {
   "cell_type": "markdown",
   "id": "d63004e3-92f1-44cb-b66b-e0418a1ffc34",
   "metadata": {},
   "source": [
    "We can see that the average spending is about 3000 Euros. "
   ]
  },
  {
   "cell_type": "markdown",
   "id": "6ec892b1-d8b0-4638-88c4-7b11ab20bfbb",
   "metadata": {
    "tags": []
   },
   "source": [
    "### Fixing country names"
   ]
  },
  {
   "cell_type": "code",
   "execution_count": 14,
   "id": "f87ad35e-53a6-4dae-8ee5-f61b124dd8f7",
   "metadata": {
    "tags": []
   },
   "outputs": [],
   "source": [
    "country_replacements = {\n",
    "    \"SWIZERLAND\": \"SWITZERLAND\",\n",
    "    \"BURGARIA\":   \"BULGARIA\",\n",
    "    \"MALT\":       \"MALTA\",\n",
    "    \"DRC\":        \"DEMOCRATIC REPUBLIC OF THE CONGO\",\n",
    "    \"SCOTLAND\":   \"UNITED KINGDOM\",\n",
    "    \"UAE\":        \"UNITED ARAB EMIRATES\",\n",
    "    \"PHILIPINES\": \"PHILIPPINES\",\n",
    "    \"DJIBOUT\":    \"DJIBOUTI\",\n",
    "    \"MORROCO\":    \"MOROCCO\"\n",
    "}\n",
    "df_train.country = df_train.country.replace(country_replacements)"
   ]
  },
  {
   "cell_type": "markdown",
   "id": "a9e0428f-948b-4346-9df4-fbf57de3b8b4",
   "metadata": {},
   "source": [
    "## Missing Data"
   ]
  },
  {
   "cell_type": "code",
   "execution_count": 15,
   "id": "5f0b6989-6886-4351-87b8-0bf50f6d9269",
   "metadata": {
    "tags": []
   },
   "outputs": [
    {
     "name": "stdout",
     "output_type": "stream",
     "text": [
      "Sum of all missing fields: 1435\n",
      "country                     0\n",
      "age_group                   0\n",
      "travel_with              1114\n",
      "total_female                3\n",
      "total_male                  5\n",
      "purpose                     0\n",
      "main_activity               0\n",
      "info_source                 0\n",
      "tour_arrangement            0\n",
      "package_transport_int       0\n",
      "package_accomodation        0\n",
      "package_food                0\n",
      "package_transport_tz        0\n",
      "package_sightseeing         0\n",
      "package_guided_tour         0\n",
      "package_insurance           0\n",
      "night_mainland              0\n",
      "night_zanzibar              0\n",
      "payment_mode                0\n",
      "first_trip_tz               0\n",
      "most_impressing           313\n",
      "total_cost                  0\n",
      "total_cost_euro             0\n",
      "dtype: int64\n"
     ]
    }
   ],
   "source": [
    "missing_fields = df_train.isna().sum()\n",
    "\n",
    "print(\"Sum of all missing fields:\", missing_fields.sum())\n",
    "print(missing_fields)"
   ]
  },
  {
   "cell_type": "markdown",
   "id": "6906fe07-0d38-4fdf-9de5-a0c50dd80760",
   "metadata": {},
   "source": [
    "There are four columns with missing values:   \n",
    "- `travel_with` has a very high number of missing values (1114).   \n",
    "- `most_impressing` has 313 missing values.  \n",
    "- The missing values for `total_female` and `total_male` are almost insignificant (3 and 5). \n",
    "\n",
    "After further investigation we figured that most of the missing `travel_with` values can be deducted by looking at the `total_female` and `total_male` columns. If `total_female` equals 1 and `total_male` equals 0, that means it's a single female traveler and the value for `travel_with` should be `Alone`. And vice versa for single male travelers."
   ]
  },
  {
   "cell_type": "markdown",
   "id": "571b1dce-6cb0-448b-89bd-78ba927ea193",
   "metadata": {
    "tags": []
   },
   "source": [
    "### Deducting missing 'travel_with' values"
   ]
  },
  {
   "cell_type": "code",
   "execution_count": 16,
   "id": "e6d61d65-584b-48df-8748-c436e7ebcb9d",
   "metadata": {
    "tags": []
   },
   "outputs": [
    {
     "data": {
      "text/html": [
       "<div>\n",
       "<style scoped>\n",
       "    .dataframe tbody tr th:only-of-type {\n",
       "        vertical-align: middle;\n",
       "    }\n",
       "\n",
       "    .dataframe tbody tr th {\n",
       "        vertical-align: top;\n",
       "    }\n",
       "\n",
       "    .dataframe thead th {\n",
       "        text-align: right;\n",
       "    }\n",
       "</style>\n",
       "<table border=\"1\" class=\"dataframe\">\n",
       "  <thead>\n",
       "    <tr style=\"text-align: right;\">\n",
       "      <th></th>\n",
       "      <th>country</th>\n",
       "      <th>age_group</th>\n",
       "      <th>travel_with</th>\n",
       "      <th>total_female</th>\n",
       "      <th>total_male</th>\n",
       "      <th>purpose</th>\n",
       "      <th>main_activity</th>\n",
       "      <th>info_source</th>\n",
       "      <th>tour_arrangement</th>\n",
       "      <th>package_transport_int</th>\n",
       "      <th>...</th>\n",
       "      <th>package_insurance</th>\n",
       "      <th>night_mainland</th>\n",
       "      <th>night_zanzibar</th>\n",
       "      <th>payment_mode</th>\n",
       "      <th>first_trip_tz</th>\n",
       "      <th>most_impressing</th>\n",
       "      <th>total_cost</th>\n",
       "      <th>total_cost_euro</th>\n",
       "      <th>single_female</th>\n",
       "      <th>single_male</th>\n",
       "    </tr>\n",
       "  </thead>\n",
       "  <tbody>\n",
       "    <tr>\n",
       "      <th>638</th>\n",
       "      <td>UNITED KINGDOM</td>\n",
       "      <td>25-44</td>\n",
       "      <td>NaN</td>\n",
       "      <td>1.0</td>\n",
       "      <td>1.0</td>\n",
       "      <td>Leisure and Holidays</td>\n",
       "      <td>Wildlife tourism</td>\n",
       "      <td>Travel, agent, tour operator</td>\n",
       "      <td>Package Tour</td>\n",
       "      <td>False</td>\n",
       "      <td>...</td>\n",
       "      <td>False</td>\n",
       "      <td>7.0</td>\n",
       "      <td>0.0</td>\n",
       "      <td>Cash</td>\n",
       "      <td>True</td>\n",
       "      <td>Friendly People</td>\n",
       "      <td>3149250.0</td>\n",
       "      <td>1149.48</td>\n",
       "      <td>False</td>\n",
       "      <td>False</td>\n",
       "    </tr>\n",
       "    <tr>\n",
       "      <th>681</th>\n",
       "      <td>UNITED STATES OF AMERICA</td>\n",
       "      <td>1-24</td>\n",
       "      <td>NaN</td>\n",
       "      <td>0.0</td>\n",
       "      <td>4.0</td>\n",
       "      <td>Leisure and Holidays</td>\n",
       "      <td>Conference tourism</td>\n",
       "      <td>Radio, TV, Web</td>\n",
       "      <td>Package Tour</td>\n",
       "      <td>False</td>\n",
       "      <td>...</td>\n",
       "      <td>False</td>\n",
       "      <td>10.0</td>\n",
       "      <td>0.0</td>\n",
       "      <td>Cash</td>\n",
       "      <td>True</td>\n",
       "      <td>No comments</td>\n",
       "      <td>4309500.0</td>\n",
       "      <td>1572.97</td>\n",
       "      <td>False</td>\n",
       "      <td>False</td>\n",
       "    </tr>\n",
       "    <tr>\n",
       "      <th>706</th>\n",
       "      <td>UNITED STATES OF AMERICA</td>\n",
       "      <td>45-64</td>\n",
       "      <td>NaN</td>\n",
       "      <td>0.0</td>\n",
       "      <td>0.0</td>\n",
       "      <td>Leisure and Holidays</td>\n",
       "      <td>Wildlife tourism</td>\n",
       "      <td>Travel, agent, tour operator</td>\n",
       "      <td>Package Tour</td>\n",
       "      <td>True</td>\n",
       "      <td>...</td>\n",
       "      <td>True</td>\n",
       "      <td>7.0</td>\n",
       "      <td>0.0</td>\n",
       "      <td>Cash</td>\n",
       "      <td>True</td>\n",
       "      <td>No comments</td>\n",
       "      <td>21713250.0</td>\n",
       "      <td>7925.34</td>\n",
       "      <td>False</td>\n",
       "      <td>False</td>\n",
       "    </tr>\n",
       "    <tr>\n",
       "      <th>717</th>\n",
       "      <td>UNITED STATES OF AMERICA</td>\n",
       "      <td>45-64</td>\n",
       "      <td>NaN</td>\n",
       "      <td>7.0</td>\n",
       "      <td>2.0</td>\n",
       "      <td>Scientific and Academic</td>\n",
       "      <td>Wildlife tourism</td>\n",
       "      <td>Newspaper, magazines,brochures</td>\n",
       "      <td>Package Tour</td>\n",
       "      <td>True</td>\n",
       "      <td>...</td>\n",
       "      <td>False</td>\n",
       "      <td>14.0</td>\n",
       "      <td>0.0</td>\n",
       "      <td>Cash</td>\n",
       "      <td>True</td>\n",
       "      <td>Friendly People</td>\n",
       "      <td>8038875.0</td>\n",
       "      <td>2934.19</td>\n",
       "      <td>False</td>\n",
       "      <td>False</td>\n",
       "    </tr>\n",
       "    <tr>\n",
       "      <th>778</th>\n",
       "      <td>EGYPT</td>\n",
       "      <td>25-44</td>\n",
       "      <td>NaN</td>\n",
       "      <td>1.0</td>\n",
       "      <td>1.0</td>\n",
       "      <td>Leisure and Holidays</td>\n",
       "      <td>Wildlife tourism</td>\n",
       "      <td>Newspaper, magazines,brochures</td>\n",
       "      <td>Independent</td>\n",
       "      <td>False</td>\n",
       "      <td>...</td>\n",
       "      <td>False</td>\n",
       "      <td>23.0</td>\n",
       "      <td>3.0</td>\n",
       "      <td>Cash</td>\n",
       "      <td>True</td>\n",
       "      <td>Wildlife</td>\n",
       "      <td>5304000.0</td>\n",
       "      <td>1935.96</td>\n",
       "      <td>False</td>\n",
       "      <td>False</td>\n",
       "    </tr>\n",
       "  </tbody>\n",
       "</table>\n",
       "<p>5 rows × 25 columns</p>\n",
       "</div>"
      ],
      "text/plain": [
       "                      country age_group travel_with  total_female  total_male   \n",
       "638            UNITED KINGDOM     25-44         NaN           1.0         1.0  \\\n",
       "681  UNITED STATES OF AMERICA      1-24         NaN           0.0         4.0   \n",
       "706  UNITED STATES OF AMERICA     45-64         NaN           0.0         0.0   \n",
       "717  UNITED STATES OF AMERICA     45-64         NaN           7.0         2.0   \n",
       "778                     EGYPT     25-44         NaN           1.0         1.0   \n",
       "\n",
       "                     purpose       main_activity   \n",
       "638     Leisure and Holidays    Wildlife tourism  \\\n",
       "681     Leisure and Holidays  Conference tourism   \n",
       "706     Leisure and Holidays    Wildlife tourism   \n",
       "717  Scientific and Academic    Wildlife tourism   \n",
       "778     Leisure and Holidays    Wildlife tourism   \n",
       "\n",
       "                        info_source tour_arrangement  package_transport_int   \n",
       "638    Travel, agent, tour operator     Package Tour                  False  \\\n",
       "681                  Radio, TV, Web     Package Tour                  False   \n",
       "706    Travel, agent, tour operator     Package Tour                   True   \n",
       "717  Newspaper, magazines,brochures     Package Tour                   True   \n",
       "778  Newspaper, magazines,brochures      Independent                  False   \n",
       "\n",
       "     ...  package_insurance  night_mainland  night_zanzibar  payment_mode   \n",
       "638  ...              False             7.0             0.0          Cash  \\\n",
       "681  ...              False            10.0             0.0          Cash   \n",
       "706  ...               True             7.0             0.0          Cash   \n",
       "717  ...              False            14.0             0.0          Cash   \n",
       "778  ...              False            23.0             3.0          Cash   \n",
       "\n",
       "     first_trip_tz  most_impressing  total_cost  total_cost_euro   \n",
       "638           True  Friendly People   3149250.0          1149.48  \\\n",
       "681           True      No comments   4309500.0          1572.97   \n",
       "706           True      No comments  21713250.0          7925.34   \n",
       "717           True  Friendly People   8038875.0          2934.19   \n",
       "778           True         Wildlife   5304000.0          1935.96   \n",
       "\n",
       "    single_female  single_male  \n",
       "638         False        False  \n",
       "681         False        False  \n",
       "706         False        False  \n",
       "717         False        False  \n",
       "778         False        False  \n",
       "\n",
       "[5 rows x 25 columns]"
      ]
     },
     "execution_count": 16,
     "metadata": {},
     "output_type": "execute_result"
    }
   ],
   "source": [
    "no_women  = df_train['total_female'] == 0\n",
    "one_woman = df_train['total_female'] == 1\n",
    "no_men    = df_train['total_male']   == 0\n",
    "one_man   = df_train['total_male']   == 1\n",
    "singles   = (one_woman & no_men) | (no_women & one_man)\n",
    "\n",
    "# set single travelers to 'Alone'\n",
    "df_train.loc[singles, 'travel_with'] = 'Alone'\n",
    "\n",
    "# create new columns for single travelers (OHE)\n",
    "df_train['single_female']   = one_woman & no_men\n",
    "df_train['single_male']     = no_women & one_man\n",
    "\n",
    "# the rest without travel_with field: 26 Rows\n",
    "df_train[df_train.travel_with.isna()].head()"
   ]
  },
  {
   "cell_type": "code",
   "execution_count": null,
   "id": "c3903a41-4e66-4b07-990b-6a46fcc7d47e",
   "metadata": {
    "tags": []
   },
   "outputs": [],
   "source": []
  },
  {
   "cell_type": "code",
   "execution_count": 17,
   "id": "4cbf62ce-83aa-4642-a6eb-fd3c61723cd7",
   "metadata": {
    "tags": []
   },
   "outputs": [],
   "source": [
    "# update total_travelers\n",
    "df_train[\"total_travelers\"] = df_train[\"total_female\"] + df_train[\"total_male\"]"
   ]
  },
  {
   "cell_type": "markdown",
   "id": "abc4553a-46e7-44f3-a528-c890662d8a0e",
   "metadata": {
    "tags": []
   },
   "source": [
    "### Correction values where number of travelers is zero!!!"
   ]
  },
  {
   "cell_type": "code",
   "execution_count": 18,
   "id": "e90850be-0351-499a-b790-00d9c2c3d1fe",
   "metadata": {
    "tags": []
   },
   "outputs": [],
   "source": [
    "# when traveling alone choose either male or female\n",
    "random_field = np.random.choice(['total_female', 'total_male'])\n",
    "df_train.loc[no_women & no_men & (df_train['travel_with'] == 'Alone'),  [random_field]] = 1\n",
    "\n",
    "# when traveling with spouse\n",
    "df_train.loc[no_women & no_men & (df_train['travel_with'] == 'Spouse'), ['total_male', 'total_female']] = 1\n",
    "\n",
    "# the rest (a few entries) is spouse + children or friends and relatives.\n",
    "# lets assume this:\n",
    "df_train.loc[df_train.total_travelers == 0, ['total_male', 'total_female']] = 2"
   ]
  },
  {
   "cell_type": "code",
   "execution_count": 19,
   "id": "27a2bd52-4019-4c84-9f20-98a1ffa6aee9",
   "metadata": {},
   "outputs": [],
   "source": [
    "# update total_travelers\n",
    "df_train[\"total_travelers\"] = df_train[\"total_female\"] + df_train[\"total_male\"]"
   ]
  },
  {
   "cell_type": "markdown",
   "id": "f9bf5281-2d30-4026-b03b-7866d37a1a15",
   "metadata": {},
   "source": [
    "### Let's just drop the entries with missing values"
   ]
  },
  {
   "cell_type": "code",
   "execution_count": 20,
   "id": "3dd0cc93-6386-420a-93d9-fe6e48f4df87",
   "metadata": {
    "tags": []
   },
   "outputs": [],
   "source": [
    "df_train.dropna(inplace=True)"
   ]
  },
  {
   "cell_type": "code",
   "execution_count": 21,
   "id": "702f0299-ad49-474e-81fb-1394906e9393",
   "metadata": {
    "tags": []
   },
   "outputs": [
    {
     "data": {
      "text/plain": [
       "country                  0\n",
       "age_group                0\n",
       "travel_with              0\n",
       "total_female             0\n",
       "total_male               0\n",
       "purpose                  0\n",
       "main_activity            0\n",
       "info_source              0\n",
       "tour_arrangement         0\n",
       "package_transport_int    0\n",
       "package_accomodation     0\n",
       "package_food             0\n",
       "package_transport_tz     0\n",
       "package_sightseeing      0\n",
       "package_guided_tour      0\n",
       "package_insurance        0\n",
       "night_mainland           0\n",
       "night_zanzibar           0\n",
       "payment_mode             0\n",
       "first_trip_tz            0\n",
       "most_impressing          0\n",
       "total_cost               0\n",
       "total_cost_euro          0\n",
       "single_female            0\n",
       "single_male              0\n",
       "total_travelers          0\n",
       "dtype: int64"
      ]
     },
     "execution_count": 21,
     "metadata": {},
     "output_type": "execute_result"
    }
   ],
   "source": [
    "df_train.isna().sum()"
   ]
  },
  {
   "cell_type": "markdown",
   "id": "af561200-43db-4532-9eea-bab5297ddbbe",
   "metadata": {
    "tags": []
   },
   "source": [
    "## Convert Float columns to Integer"
   ]
  },
  {
   "cell_type": "code",
   "execution_count": 22,
   "id": "6a088f4d-b3f2-45da-a556-b8c8a815485c",
   "metadata": {
    "tags": []
   },
   "outputs": [],
   "source": [
    "columns_to_convert = ['total_female', 'total_male', 'night_mainland', 'night_zanzibar']\n",
    "df_train[columns_to_convert] = df_train[columns_to_convert].astype(int)"
   ]
  },
  {
   "cell_type": "markdown",
   "id": "9b88ab24-6bfb-4710-b345-53aca391373c",
   "metadata": {},
   "source": [
    "## Adding Features"
   ]
  },
  {
   "cell_type": "code",
   "execution_count": 23,
   "id": "37a8111e-77b8-45a5-867c-049552ddd6c7",
   "metadata": {
    "tags": []
   },
   "outputs": [],
   "source": [
    "# create a new feature 'night_total'\n",
    "df_train['night_total'] = df_train['night_zanzibar'] + df_train['night_mainland']"
   ]
  },
  {
   "cell_type": "markdown",
   "id": "4d0582c8-1639-4916-8862-8a2a5b37df02",
   "metadata": {},
   "source": [
    "### Nights spend on Mainland vs. Zanzibar"
   ]
  },
  {
   "cell_type": "code",
   "execution_count": 24,
   "id": "acfcad7c-8dc1-4919-8809-c8ca40b88e7f",
   "metadata": {
    "tags": []
   },
   "outputs": [
    {
     "data": {
      "text/html": [
       "<div>\n",
       "<style scoped>\n",
       "    .dataframe tbody tr th:only-of-type {\n",
       "        vertical-align: middle;\n",
       "    }\n",
       "\n",
       "    .dataframe tbody tr th {\n",
       "        vertical-align: top;\n",
       "    }\n",
       "\n",
       "    .dataframe thead th {\n",
       "        text-align: right;\n",
       "    }\n",
       "</style>\n",
       "<table border=\"1\" class=\"dataframe\">\n",
       "  <thead>\n",
       "    <tr style=\"text-align: right;\">\n",
       "      <th></th>\n",
       "      <th>count</th>\n",
       "      <th>mean</th>\n",
       "      <th>std</th>\n",
       "      <th>min</th>\n",
       "      <th>25%</th>\n",
       "      <th>50%</th>\n",
       "      <th>75%</th>\n",
       "      <th>max</th>\n",
       "    </tr>\n",
       "  </thead>\n",
       "  <tbody>\n",
       "    <tr>\n",
       "      <th>night_zanzibar</th>\n",
       "      <td>4465.0</td>\n",
       "      <td>2.0</td>\n",
       "      <td>4.0</td>\n",
       "      <td>0.0</td>\n",
       "      <td>0.0</td>\n",
       "      <td>0.0</td>\n",
       "      <td>4.0</td>\n",
       "      <td>61.0</td>\n",
       "    </tr>\n",
       "    <tr>\n",
       "      <th>night_mainland</th>\n",
       "      <td>4465.0</td>\n",
       "      <td>9.0</td>\n",
       "      <td>10.0</td>\n",
       "      <td>0.0</td>\n",
       "      <td>3.0</td>\n",
       "      <td>6.0</td>\n",
       "      <td>11.0</td>\n",
       "      <td>145.0</td>\n",
       "    </tr>\n",
       "    <tr>\n",
       "      <th>night_total</th>\n",
       "      <td>4465.0</td>\n",
       "      <td>11.0</td>\n",
       "      <td>11.0</td>\n",
       "      <td>0.0</td>\n",
       "      <td>4.0</td>\n",
       "      <td>8.0</td>\n",
       "      <td>14.0</td>\n",
       "      <td>145.0</td>\n",
       "    </tr>\n",
       "  </tbody>\n",
       "</table>\n",
       "</div>"
      ],
      "text/plain": [
       "                 count  mean   std  min  25%  50%   75%    max\n",
       "night_zanzibar  4465.0   2.0   4.0  0.0  0.0  0.0   4.0   61.0\n",
       "night_mainland  4465.0   9.0  10.0  0.0  3.0  6.0  11.0  145.0\n",
       "night_total     4465.0  11.0  11.0  0.0  4.0  8.0  14.0  145.0"
      ]
     },
     "execution_count": 24,
     "metadata": {},
     "output_type": "execute_result"
    }
   ],
   "source": [
    "df_train[['night_zanzibar', 'night_mainland', 'night_total']].describe().round().T"
   ]
  },
  {
   "cell_type": "markdown",
   "id": "2ed6da09-0d5b-468a-8266-4d3430c758d8",
   "metadata": {
    "tags": []
   },
   "source": [
    "People spend on average two nights on Zanzibar, while they stayed eight nights on the mainland.\n"
   ]
  },
  {
   "cell_type": "code",
   "execution_count": 25,
   "id": "764d1855-33c3-461a-8892-182ef7a15e53",
   "metadata": {
    "tags": []
   },
   "outputs": [
    {
     "data": {
      "image/png": "[encoded data removed]",
      "text/plain": [
       "<Figure size 640x480 with 1 Axes>"
      ]
     },
     "metadata": {},
     "output_type": "display_data"
    }
   ],
   "source": [
    "sns.histplot(df_train['night_total'], kde=True)\n",
    "plt.title('Distribution of Total Nights spend in Tanzania')\n",
    "plt.xlabel('Night Total')\n",
    "plt.ylabel('Frequency')\n",
    "plt.show()"
   ]
  },
  {
   "cell_type": "markdown",
   "id": "ea8ce8b5-370e-4b25-8df9-2005bef0022c",
   "metadata": {
    "tags": []
   },
   "source": [
    "## Outlier removal for very long stays"
   ]
  },
  {
   "cell_type": "code",
   "execution_count": 26,
   "id": "1542ec83-274c-45ec-b118-184cb1a37878",
   "metadata": {
    "tags": []
   },
   "outputs": [
    {
     "data": {
      "text/plain": [
       "night_total\n",
       "7     484\n",
       "2     340\n",
       "14    334\n",
       "3     333\n",
       "4     308\n",
       "10    304\n",
       "6     283\n",
       "5     265\n",
       "12    203\n",
       "9     182\n",
       "Name: count, dtype: int64"
      ]
     },
     "execution_count": 26,
     "metadata": {},
     "output_type": "execute_result"
    }
   ],
   "source": [
    "df_train['night_total'].value_counts().head(10)"
   ]
  },
  {
   "cell_type": "code",
   "execution_count": 27,
   "id": "27270291-bafe-411e-819a-dc2de0462f98",
   "metadata": {
    "tags": []
   },
   "outputs": [],
   "source": [
    "df_train = remove_outliers(df_train, 'night_total', 10, 71)"
   ]
  },
  {
   "cell_type": "code",
   "execution_count": 28,
   "id": "c28c143a-acab-4ea8-a997-8383a615579f",
   "metadata": {
    "tags": []
   },
   "outputs": [
    {
     "data": {
      "image/png": "[encoded data removed]",
      "text/plain": [
       "<Figure size 640x480 with 1 Axes>"
      ]
     },
     "metadata": {},
     "output_type": "display_data"
    }
   ],
   "source": [
    "sns.histplot(df_train['night_total'], kde=True)\n",
    "plt.title('Distribution of Total Nights spend in Tanzania')\n",
    "plt.xlabel('Night Total')\n",
    "plt.ylabel('Frequency')\n",
    "plt.show()"
   ]
  },
  {
   "cell_type": "code",
   "execution_count": 29,
   "id": "fe3b4c55-5eb9-4f5e-93ce-432740e00b6a",
   "metadata": {},
   "outputs": [],
   "source": [
    "# Spikes: 7 Days, 10 Days, 14 Days, (21 Days)"
   ]
  },
  {
   "cell_type": "code",
   "execution_count": 30,
   "id": "dd8076a8-d036-4343-b37e-a40558d37806",
   "metadata": {
    "tags": []
   },
   "outputs": [
    {
     "data": {
      "image/png": "[encoded data removed]",
      "text/plain": [
       "<Figure size 640x480 with 1 Axes>"
      ]
     },
     "metadata": {},
     "output_type": "display_data"
    }
   ],
   "source": [
    "sns.histplot(df_train['total_cost_euro'], kde=True)\n",
    "plt.title('Distribution of Total Nights spend in Tanzania')\n",
    "plt.xlabel('Night Total')\n",
    "plt.ylabel('Frequency')\n",
    "plt.show()\n"
   ]
  },
  {
   "cell_type": "code",
   "execution_count": 31,
   "id": "1e8b8565-64c2-49a7-9229-dd18f82d3786",
   "metadata": {
    "tags": []
   },
   "outputs": [
    {
     "data": {
      "image/png": "[encoded data removed]",
      "text/plain": [
       "<Figure size 640x480 with 1 Axes>"
      ]
     },
     "metadata": {},
     "output_type": "display_data"
    }
   ],
   "source": [
    "df_train2 = remove_outliers(df_train, 'total_cost_euro', 5, 95)\n",
    "sns.histplot(df_train2['total_cost_euro'], kde=True)\n",
    "plt.title('Distribution of Total Nights spend in Tanzania')\n",
    "plt.xlabel('Night Total')\n",
    "plt.ylabel('Frequency')\n",
    "plt.show()"
   ]
  },
  {
   "cell_type": "markdown",
   "id": "f7bddda2-7172-49a4-b097-264ffc17762e",
   "metadata": {
    "tags": []
   },
   "source": [
    "## Unique values of categorial columns"
   ]
  },
  {
   "cell_type": "code",
   "execution_count": 32,
   "id": "1bc4af2c-2d13-4edc-91f6-ed13110edc31",
   "metadata": {
    "tags": []
   },
   "outputs": [
    {
     "name": "stdout",
     "output_type": "stream",
     "text": [
      "--------------------------------------------------------------------------------\n",
      "[Category: most_impressing] - [Null: 0]\n",
      "\n",
      "most_impressing\n",
      "Friendly People                         1069\n",
      "Wildlife                                 753\n",
      "No comments                              480\n",
      "Wonderful Country, Landscape, Nature     337\n",
      "Good service                             243\n",
      "Excellent Experience                     189\n",
      "Satisfies and Hope Come Back              28\n",
      "Name: count, dtype: int64\n",
      "--------------------------------------------------------------------------------\n",
      "[Category: purpose] - [Null: 0]\n",
      "\n",
      "purpose\n",
      "Leisure and Holidays              1929\n",
      "Business                           443\n",
      "Visiting Friends and Relatives     334\n",
      "Meetings and Conference            237\n",
      "Other                               77\n",
      "Scientific and Academic             45\n",
      "Volunteering                        34\n",
      "Name: count, dtype: int64\n",
      "--------------------------------------------------------------------------------\n",
      "[Category: main_activity] - [Null: 0]\n",
      "\n",
      "main_activity\n",
      "Wildlife tourism            1472\n",
      "Beach tourism                708\n",
      "Hunting tourism              270\n",
      "Conference tourism           220\n",
      "Cultural tourism             193\n",
      "Mountain climbing            169\n",
      "business                      38\n",
      "Bird watching                 23\n",
      "Diving and Sport Fishing       6\n",
      "Name: count, dtype: int64\n",
      "--------------------------------------------------------------------------------\n",
      "[Category: info_source] - [Null: 0]\n",
      "\n",
      "info_source\n",
      "Travel, agent, tour operator      1358\n",
      "Friends, relatives                 958\n",
      "others                             320\n",
      "Newspaper, magazines,brochures     225\n",
      "Radio, TV, Web                     155\n",
      "Trade fair                          39\n",
      "Tanzania Mission Abroad             35\n",
      "inflight magazines                   9\n",
      "Name: count, dtype: int64\n",
      "--------------------------------------------------------------------------------\n",
      "[Category: tour_arrangement] - [Null: 0]\n",
      "\n",
      "tour_arrangement\n",
      "Package Tour    1583\n",
      "Independent     1516\n",
      "Name: count, dtype: int64\n",
      "--------------------------------------------------------------------------------\n",
      "[Category: payment_mode] - [Null: 0]\n",
      "\n",
      "payment_mode\n",
      "Cash                 2649\n",
      "Credit Card           440\n",
      "Other                   7\n",
      "Travellers Cheque       3\n",
      "Name: count, dtype: int64\n"
     ]
    }
   ],
   "source": [
    "categories = ['most_impressing', 'purpose', 'main_activity', 'info_source', 'tour_arrangement', 'payment_mode']\n",
    "\n",
    "for cat in categories:\n",
    "    print('-'*80)\n",
    "    print(f\"[Category: {cat}] - [Null: {df_train[cat].isna().sum()}]\\n\")\n",
    "    print(df_train[cat].value_counts())"
   ]
  },
  {
   "cell_type": "markdown",
   "id": "d0c1ffe5-d536-4fae-b1b8-719dde2b1b5a",
   "metadata": {},
   "source": [
    "## Save cleaned dataset to file"
   ]
  },
  {
   "cell_type": "code",
   "execution_count": 33,
   "id": "882a7e4c-e0e4-49aa-82ea-cb36f1a18be4",
   "metadata": {
    "tags": []
   },
   "outputs": [],
   "source": [
    "df_train.to_csv('data/Train_cleaned.csv', index=False)"
   ]
  }
 ],
 "metadata": {
  "kernelspec": {
   "display_name": "Python 3 (ipykernel)",
   "language": "python",
   "name": "python3"
  },
  "language_info": {
   "codemirror_mode": {
    "name": "ipython",
    "version": 3
   },
   "file_extension": ".py",
   "mimetype": "text/x-python",
   "name": "python",
   "nbconvert_exporter": "python",
   "pygments_lexer": "ipython3",
   "version": "3.11.3"
  },
  "toc-autonumbering": false,
  "toc-showcode": false,
  "toc-showmarkdowntxt": false
 },
 "nbformat": 4,
 "nbformat_minor": 5
}
