{
 "cells": [
  {
   "cell_type": "markdown",
   "id": "fe7d5293-bec2-49de-b0cf-ccdbb793c3e7",
   "metadata": {},
   "source": [
    "# Importing Libraries"
   ]
  },
  {
   "cell_type": "code",
   "execution_count": 85,
   "id": "1634e0bc-fceb-4417-992b-22b008efdfa0",
   "metadata": {
    "tags": []
   },
   "outputs": [],
   "source": [
    "import pandas as pd\n",
    "import numpy as np\n",
    "import matplotlib.pyplot as plt\n",
    "import seaborn as sns\n",
    "\n",
    "from sklearn.pipeline import Pipeline\n",
    "from sklearn.compose import ColumnTransformer\n",
    "from sklearn.impute import SimpleImputer\n",
    "from sklearn.preprocessing import (\n",
    "    PolynomialFeatures, \n",
    "    LabelEncoder,\n",
    "    StandardScaler, \n",
    "    MinMaxScaler, \n",
    "    OneHotEncoder, \n",
    "    KBinsDiscretizer\n",
    ")\n",
    "from sklearn.linear_model import (\n",
    "    LinearRegression, \n",
    "    LogisticRegression,\n",
    "    Ridge, \n",
    "    Lasso,\n",
    "    ElasticNet\n",
    ")\n",
    "from sklearn.tree import (\n",
    "    DecisionTreeRegressor,\n",
    "    DecisionTreeClassifier\n",
    ")\n",
    "from sklearn.ensemble import (\n",
    "    RandomForestRegressor,\n",
    "    RandomForestClassifier,\n",
    ")   \n",
    "from sklearn.model_selection import (\n",
    "    train_test_split,\n",
    "    cross_val_predict,\n",
    "    GridSearchCV,\n",
    ")\n",
    "from sklearn.metrics import (\n",
    "    mean_absolute_percentage_error,\n",
    "    mean_absolute_error, \n",
    "    mean_squared_error, \n",
    "    r2_score, \n",
    "    confusion_matrix, \n",
    "    accuracy_score, \n",
    "    classification_report,\n",
    "    recall_score,\n",
    "    precision_score\n",
    ")\n",
    "\n",
    "\n",
    "from scripts.clean_dataset import clean_dataset\n",
    "from scripts.helper import currency, cal_accuracy\n"
   ]
  },
  {
   "cell_type": "markdown",
   "id": "bd997e6f-b372-479f-8bea-94e85673b0a5",
   "metadata": {
    "toc-hr-collapsed": true
   },
   "source": [
    "# Importing the cleaned dataset"
   ]
  },
  {
   "cell_type": "code",
   "execution_count": 19,
   "id": "7b3bf664-0d75-4c29-a2d4-431dab4568fa",
   "metadata": {
    "tags": []
   },
   "outputs": [],
   "source": [
    "df_train = pd.read_csv('data/Train_cleaned.csv')\n",
    "#df_train = pd.read_csv('data/Train_cleaned_log_transformed.csv')\n",
    "#df_test  = pd.read_csv('data/Test.csv')\n",
    "#df_test  = clean_dataset(df_test)"
   ]
  },
  {
   "cell_type": "code",
   "execution_count": 20,
   "id": "26064d66-aa1c-4021-b0a0-f64d108639a5",
   "metadata": {
    "tags": []
   },
   "outputs": [
    {
     "data": {
      "text/plain": [
       "(3099, 27)"
      ]
     },
     "execution_count": 20,
     "metadata": {},
     "output_type": "execute_result"
    }
   ],
   "source": [
    "df_train.shape"
   ]
  },
  {
   "cell_type": "markdown",
   "id": "ed84d88c-3fd6-471d-9eaa-2849542f1ce9",
   "metadata": {},
   "source": [
    "## Categorization of total_cost (manually)"
   ]
  },
  {
   "cell_type": "code",
   "execution_count": 21,
   "id": "283b3796-3aed-429a-8759-4988b956c63a",
   "metadata": {
    "tags": []
   },
   "outputs": [],
   "source": [
    "#bin_edges  = [0, 500, 1500, 5000, float('inf')]\n",
    "#bin_labels = ['Low', 'Medium', 'High', 'Very High']\n",
    "\n",
    "# Create a new column 'cost_category' based on the binning\n",
    "#df_train['total_cost_category'] = pd.cut(\n",
    "#    df_train['total_cost_euro'], \n",
    "#    bins=bin_edges, \n",
    "#    labels=bin_labels, \n",
    "#    right=False,\n",
    "#    include_lowest=True,\n",
    "#)"
   ]
  },
  {
   "cell_type": "markdown",
   "id": "2676a7c0-a266-48c7-93a3-7afe590fd125",
   "metadata": {},
   "source": [
    "## Categorization of total_cost (using KBins)"
   ]
  },
  {
   "cell_type": "code",
   "execution_count": 64,
   "id": "8851ab36-70cd-46a3-8d2b-2b450de06a88",
   "metadata": {
    "tags": []
   },
   "outputs": [],
   "source": [
    "kbins = KBinsDiscretizer(\n",
    "    n_bins=5,\n",
    "    encode='onehot-dense', # onehot, onehoe-dense, ordinal\n",
    "    strategy='quantile',   # kmeans, uniform, quantile\n",
    ")\n",
    "bin_data  = kbins.fit_transform(df_train[['total_cost_euro']])\n",
    "bin_names = ['very low', 'low', 'medium', 'high', 'very high']\n",
    "bin_edges = kbins.bin_edges_[0].round()\n",
    "\n",
    "# Apply pd.cut with custom bin edges to start the first bin at zero\n",
    "bin_edges = np.concatenate(([0], bin_edges[1:]))\n",
    "\n",
    "df_train['total_cost_category'] = pd.cut(\n",
    "    df_train['total_cost_euro'], \n",
    "    bins=bin_edges, \n",
    "    labels=bin_names, \n",
    "    include_lowest=True,\n",
    ")"
   ]
  },
  {
   "cell_type": "code",
   "execution_count": 65,
   "id": "33b4cba5-780f-402b-b49a-2a4746cddf81",
   "metadata": {
    "tags": []
   },
   "outputs": [
    {
     "name": "stdout",
     "output_type": "stream",
     "text": [
      "very low         0.00 €  -     208.00 €\n",
      "low            208.00 €  -     708.00 €\n",
      "medium         708.00 €  -   1,976.00 €\n",
      "high         1,976.00 €  -   4,537.00 €\n",
      "very high    4,537.00 €  -  36,330.00 €\n"
     ]
    }
   ],
   "source": [
    "# show the bins\n",
    "for i in range(len(bin_names)):\n",
    "    print(bin_names[i].ljust(11), currency(bin_edges[i]).rjust(11), \" - \", currency(bin_edges[i+1]).rjust(11))"
   ]
  },
  {
   "cell_type": "markdown",
   "id": "8f4514e7-6958-48fd-9026-e7c6cdc531e4",
   "metadata": {
    "toc-hr-collapsed": true
   },
   "source": [
    "# Target and Features"
   ]
  },
  {
   "cell_type": "code",
   "execution_count": 73,
   "id": "71d440c0-a5a1-4194-90f9-c17a4abc3ab6",
   "metadata": {
    "tags": []
   },
   "outputs": [],
   "source": [
    "# Target:\n",
    "#y = df_train['total_cost_category']\n",
    "y = df_train['total_cost_euro']\n",
    "# Features:\n",
    "X = df_train.drop([\n",
    "    'total_cost', 'total_cost_euro', 'total_cost_category', \n",
    "], axis=1)"
   ]
  },
  {
   "cell_type": "markdown",
   "id": "a81835de-853f-4554-8902-c794f4feeef8",
   "metadata": {
    "tags": []
   },
   "source": [
    "## Seperate numerical and categorical features"
   ]
  },
  {
   "cell_type": "code",
   "execution_count": 67,
   "id": "565f6ed8-9d6d-4bd0-b5d1-77fa0a5cb2f0",
   "metadata": {},
   "outputs": [],
   "source": [
    "num_features = list(X.select_dtypes(include=['number']).columns)\n",
    "cat_features = list(X.select_dtypes(exclude=['number']).columns)"
   ]
  },
  {
   "cell_type": "code",
   "execution_count": 70,
   "id": "39d9b1fe-e3b7-4417-9474-416a02a78516",
   "metadata": {
    "tags": []
   },
   "outputs": [],
   "source": [
    "cat_features = list(set(cat_features) - set(['single_male', 'single_female']))\n",
    "num_features = ['total_travelers', 'night_total', 'total_female']"
   ]
  },
  {
   "cell_type": "code",
   "execution_count": 10,
   "id": "502b61f3-5503-4a2c-b4d5-29633f9cd5cf",
   "metadata": {
    "tags": []
   },
   "outputs": [],
   "source": [
    "#num_features = ['total_travelers', 'night_total', 'total_female']\n",
    "#cat_features = ['country', 'age_group', 'travel_with', 'main_activity', 'tour_arrangement', 'purpose']"
   ]
  },
  {
   "cell_type": "code",
   "execution_count": 71,
   "id": "3bf3ea04-6bb0-4bb2-811f-03da5e67db4a",
   "metadata": {
    "tags": []
   },
   "outputs": [
    {
     "data": {
      "text/plain": [
       "(['most_impressing',\n",
       "  'package_food',\n",
       "  'package_transport_int',\n",
       "  'package_guided_tour',\n",
       "  'travel_with',\n",
       "  'info_source',\n",
       "  'main_activity',\n",
       "  'age_group',\n",
       "  'tour_arrangement',\n",
       "  'package_accomodation',\n",
       "  'package_transport_tz',\n",
       "  'package_sightseeing',\n",
       "  'package_insurance',\n",
       "  'first_trip_tz',\n",
       "  'country',\n",
       "  'purpose',\n",
       "  'payment_mode'],\n",
       " ['total_travelers', 'night_total', 'total_female'])"
      ]
     },
     "execution_count": 71,
     "metadata": {},
     "output_type": "execute_result"
    }
   ],
   "source": [
    "cat_features, num_features"
   ]
  },
  {
   "cell_type": "markdown",
   "id": "16cfbe6e-6f01-4291-93b2-c8971e4d57d8",
   "metadata": {
    "tags": []
   },
   "source": [
    "# Splitting the dataset"
   ]
  },
  {
   "cell_type": "code",
   "execution_count": 56,
   "id": "f5c82b90-cd6d-41f7-bfd7-f7d31e130edb",
   "metadata": {
    "tags": []
   },
   "outputs": [],
   "source": [
    "X_train, X_test, y_train, y_test = train_test_split(X, y, test_size=.2)#, stratify=y)#, random_state=47)"
   ]
  },
  {
   "cell_type": "markdown",
   "id": "e2d5ccf9-9596-4c3d-91df-9c0f1792fdc9",
   "metadata": {
    "tags": [],
    "toc-hr-collapsed": true
   },
   "source": [
    "# Baseline Model"
   ]
  },
  {
   "cell_type": "markdown",
   "id": "f26aecda-f510-4d45-8f29-7567f94bd8b4",
   "metadata": {
    "tags": []
   },
   "source": [
    "Given our target variable ('total_cost') is a continuous variable, this is a regression problem. "
   ]
  },
  {
   "cell_type": "code",
   "execution_count": 57,
   "id": "9e693285-bdf8-4f17-865c-2b9383b72930",
   "metadata": {
    "tags": []
   },
   "outputs": [
    {
     "name": "stdout",
     "output_type": "stream",
     "text": [
      "Mean:   2,958.33 €\n",
      "Median: 1,209.97 €\n"
     ]
    }
   ],
   "source": [
    "print('Mean:  ', currency(df_train.total_cost_euro.mean()))\n",
    "print('Median:', currency(df_train.total_cost_euro.median()))"
   ]
  },
  {
   "cell_type": "code",
   "execution_count": 58,
   "id": "492ae180-d7a0-4b73-a5e9-581142e43f0c",
   "metadata": {
    "tags": []
   },
   "outputs": [
    {
     "data": {
      "text/plain": [
       "count     3,099.00 €\n",
       "mean      2,958.33 €\n",
       "std       4,396.78 €\n",
       "min          17.88 €\n",
       "25%         302.49 €\n",
       "50%       1,209.97 €\n",
       "75%       3,629.92 €\n",
       "max      36,329.50 €\n",
       "Name: total_cost_euro, dtype: object"
      ]
     },
     "execution_count": 58,
     "metadata": {},
     "output_type": "execute_result"
    }
   ],
   "source": [
    "df_train.total_cost_euro.describe().apply(lambda x: currency(x))"
   ]
  },
  {
   "cell_type": "markdown",
   "id": "e2e1c47a-a091-48a7-8297-0a779eb38d5c",
   "metadata": {
    "tags": []
   },
   "source": [
    "# Create a pipeline"
   ]
  },
  {
   "cell_type": "markdown",
   "id": "b5ec3025-b461-4d18-bcfd-4caf60bc2b4e",
   "metadata": {
    "tags": []
   },
   "source": [
    "## Building the pipeline"
   ]
  },
  {
   "cell_type": "code",
   "execution_count": 102,
   "id": "e5bfe17b-6e0d-4deb-a699-fa9fc04f0287",
   "metadata": {
    "tags": []
   },
   "outputs": [
    {
     "data": {
      "text/html": [
       "<style>#sk-container-id-10 {color: black;background-color: white;}#sk-container-id-10 pre{padding: 0;}#sk-container-id-10 div.sk-toggleable {background-color: white;}#sk-container-id-10 label.sk-toggleable__label {cursor: pointer;display: block;width: 100%;margin-bottom: 0;padding: 0.3em;box-sizing: border-box;text-align: center;}#sk-container-id-10 label.sk-toggleable__label-arrow:before {content: \"▸\";float: left;margin-right: 0.25em;color: #696969;}#sk-container-id-10 label.sk-toggleable__label-arrow:hover:before {color: black;}#sk-container-id-10 div.sk-estimator:hover label.sk-toggleable__label-arrow:before {color: black;}#sk-container-id-10 div.sk-toggleable__content {max-height: 0;max-width: 0;overflow: hidden;text-align: left;background-color: #f0f8ff;}#sk-container-id-10 div.sk-toggleable__content pre {margin: 0.2em;color: black;border-radius: 0.25em;background-color: #f0f8ff;}#sk-container-id-10 input.sk-toggleable__control:checked~div.sk-toggleable__content {max-height: 200px;max-width: 100%;overflow: auto;}#sk-container-id-10 input.sk-toggleable__control:checked~label.sk-toggleable__label-arrow:before {content: \"▾\";}#sk-container-id-10 div.sk-estimator input.sk-toggleable__control:checked~label.sk-toggleable__label {background-color: #d4ebff;}#sk-container-id-10 div.sk-label input.sk-toggleable__control:checked~label.sk-toggleable__label {background-color: #d4ebff;}#sk-container-id-10 input.sk-hidden--visually {border: 0;clip: rect(1px 1px 1px 1px);clip: rect(1px, 1px, 1px, 1px);height: 1px;margin: -1px;overflow: hidden;padding: 0;position: absolute;width: 1px;}#sk-container-id-10 div.sk-estimator {font-family: monospace;background-color: #f0f8ff;border: 1px dotted black;border-radius: 0.25em;box-sizing: border-box;margin-bottom: 0.5em;}#sk-container-id-10 div.sk-estimator:hover {background-color: #d4ebff;}#sk-container-id-10 div.sk-parallel-item::after {content: \"\";width: 100%;border-bottom: 1px solid gray;flex-grow: 1;}#sk-container-id-10 div.sk-label:hover label.sk-toggleable__label {background-color: #d4ebff;}#sk-container-id-10 div.sk-serial::before {content: \"\";position: absolute;border-left: 1px solid gray;box-sizing: border-box;top: 0;bottom: 0;left: 50%;z-index: 0;}#sk-container-id-10 div.sk-serial {display: flex;flex-direction: column;align-items: center;background-color: white;padding-right: 0.2em;padding-left: 0.2em;position: relative;}#sk-container-id-10 div.sk-item {position: relative;z-index: 1;}#sk-container-id-10 div.sk-parallel {display: flex;align-items: stretch;justify-content: center;background-color: white;position: relative;}#sk-container-id-10 div.sk-item::before, #sk-container-id-10 div.sk-parallel-item::before {content: \"\";position: absolute;border-left: 1px solid gray;box-sizing: border-box;top: 0;bottom: 0;left: 50%;z-index: -1;}#sk-container-id-10 div.sk-parallel-item {display: flex;flex-direction: column;z-index: 1;position: relative;background-color: white;}#sk-container-id-10 div.sk-parallel-item:first-child::after {align-self: flex-end;width: 50%;}#sk-container-id-10 div.sk-parallel-item:last-child::after {align-self: flex-start;width: 50%;}#sk-container-id-10 div.sk-parallel-item:only-child::after {width: 0;}#sk-container-id-10 div.sk-dashed-wrapped {border: 1px dashed gray;margin: 0 0.4em 0.5em 0.4em;box-sizing: border-box;padding-bottom: 0.4em;background-color: white;}#sk-container-id-10 div.sk-label label {font-family: monospace;font-weight: bold;display: inline-block;line-height: 1.2em;}#sk-container-id-10 div.sk-label-container {text-align: center;}#sk-container-id-10 div.sk-container {/* jupyter's `normalize.less` sets `[hidden] { display: none; }` but bootstrap.min.css set `[hidden] { display: none !important; }` so we also need the `!important` here to be able to override the default hidden behavior on the sphinx rendered scikit-learn.org. See: https://github.com/scikit-learn/scikit-learn/issues/21755 */display: inline-block !important;position: relative;}#sk-container-id-10 div.sk-text-repr-fallback {display: none;}</style><div id=\"sk-container-id-10\" class=\"sk-top-container\"><div class=\"sk-text-repr-fallback\"><pre>Pipeline(steps=[(&#x27;preprocessor&#x27;,\n",
       "                 ColumnTransformer(transformers=[(&#x27;num&#x27;,\n",
       "                                                  Pipeline(steps=[(&#x27;imputer&#x27;,\n",
       "                                                                   SimpleImputer(strategy=&#x27;most_frequent&#x27;)),\n",
       "                                                                  (&#x27;scaler&#x27;,\n",
       "                                                                   StandardScaler())]),\n",
       "                                                  [&#x27;total_travelers&#x27;,\n",
       "                                                   &#x27;night_total&#x27;,\n",
       "                                                   &#x27;total_female&#x27;]),\n",
       "                                                 (&#x27;cat&#x27;,\n",
       "                                                  Pipeline(steps=[(&#x27;imputer&#x27;,\n",
       "                                                                   SimpleImputer(strategy=&#x27;most_frequent&#x27;)),\n",
       "                                                                  (&#x27;encoder&#x27;,\n",
       "                                                                   OneHotEncoder(handle_unknown=&#x27;ignore&#x27;))]),\n",
       "                                                  [&#x27;most_impressing&#x27;,\n",
       "                                                   &#x27;package_food&#x27;,\n",
       "                                                   &#x27;package_transport_int&#x27;,\n",
       "                                                   &#x27;package_guided_tour&#x27;,\n",
       "                                                   &#x27;travel_with&#x27;, &#x27;info_source&#x27;,\n",
       "                                                   &#x27;main_activity&#x27;, &#x27;age_group&#x27;,\n",
       "                                                   &#x27;tour_arrangement&#x27;,\n",
       "                                                   &#x27;package_accomodation&#x27;,\n",
       "                                                   &#x27;package_transport_tz&#x27;,\n",
       "                                                   &#x27;package_sightseeing&#x27;,\n",
       "                                                   &#x27;package_insurance&#x27;,\n",
       "                                                   &#x27;first_trip_tz&#x27;, &#x27;country&#x27;,\n",
       "                                                   &#x27;purpose&#x27;,\n",
       "                                                   &#x27;payment_mode&#x27;])])),\n",
       "                (&#x27;classifier&#x27;, Ridge(alpha=0.1))])</pre><b>In a Jupyter environment, please rerun this cell to show the HTML representation or trust the notebook. <br />On GitHub, the HTML representation is unable to render, please try loading this page with nbviewer.org.</b></div><div class=\"sk-container\" hidden><div class=\"sk-item sk-dashed-wrapped\"><div class=\"sk-label-container\"><div class=\"sk-label sk-toggleable\"><input class=\"sk-toggleable__control sk-hidden--visually\" id=\"sk-estimator-id-85\" type=\"checkbox\" ><label for=\"sk-estimator-id-85\" class=\"sk-toggleable__label sk-toggleable__label-arrow\">Pipeline</label><div class=\"sk-toggleable__content\"><pre>Pipeline(steps=[(&#x27;preprocessor&#x27;,\n",
       "                 ColumnTransformer(transformers=[(&#x27;num&#x27;,\n",
       "                                                  Pipeline(steps=[(&#x27;imputer&#x27;,\n",
       "                                                                   SimpleImputer(strategy=&#x27;most_frequent&#x27;)),\n",
       "                                                                  (&#x27;scaler&#x27;,\n",
       "                                                                   StandardScaler())]),\n",
       "                                                  [&#x27;total_travelers&#x27;,\n",
       "                                                   &#x27;night_total&#x27;,\n",
       "                                                   &#x27;total_female&#x27;]),\n",
       "                                                 (&#x27;cat&#x27;,\n",
       "                                                  Pipeline(steps=[(&#x27;imputer&#x27;,\n",
       "                                                                   SimpleImputer(strategy=&#x27;most_frequent&#x27;)),\n",
       "                                                                  (&#x27;encoder&#x27;,\n",
       "                                                                   OneHotEncoder(handle_unknown=&#x27;ignore&#x27;))]),\n",
       "                                                  [&#x27;most_impressing&#x27;,\n",
       "                                                   &#x27;package_food&#x27;,\n",
       "                                                   &#x27;package_transport_int&#x27;,\n",
       "                                                   &#x27;package_guided_tour&#x27;,\n",
       "                                                   &#x27;travel_with&#x27;, &#x27;info_source&#x27;,\n",
       "                                                   &#x27;main_activity&#x27;, &#x27;age_group&#x27;,\n",
       "                                                   &#x27;tour_arrangement&#x27;,\n",
       "                                                   &#x27;package_accomodation&#x27;,\n",
       "                                                   &#x27;package_transport_tz&#x27;,\n",
       "                                                   &#x27;package_sightseeing&#x27;,\n",
       "                                                   &#x27;package_insurance&#x27;,\n",
       "                                                   &#x27;first_trip_tz&#x27;, &#x27;country&#x27;,\n",
       "                                                   &#x27;purpose&#x27;,\n",
       "                                                   &#x27;payment_mode&#x27;])])),\n",
       "                (&#x27;classifier&#x27;, Ridge(alpha=0.1))])</pre></div></div></div><div class=\"sk-serial\"><div class=\"sk-item sk-dashed-wrapped\"><div class=\"sk-label-container\"><div class=\"sk-label sk-toggleable\"><input class=\"sk-toggleable__control sk-hidden--visually\" id=\"sk-estimator-id-86\" type=\"checkbox\" ><label for=\"sk-estimator-id-86\" class=\"sk-toggleable__label sk-toggleable__label-arrow\">preprocessor: ColumnTransformer</label><div class=\"sk-toggleable__content\"><pre>ColumnTransformer(transformers=[(&#x27;num&#x27;,\n",
       "                                 Pipeline(steps=[(&#x27;imputer&#x27;,\n",
       "                                                  SimpleImputer(strategy=&#x27;most_frequent&#x27;)),\n",
       "                                                 (&#x27;scaler&#x27;, StandardScaler())]),\n",
       "                                 [&#x27;total_travelers&#x27;, &#x27;night_total&#x27;,\n",
       "                                  &#x27;total_female&#x27;]),\n",
       "                                (&#x27;cat&#x27;,\n",
       "                                 Pipeline(steps=[(&#x27;imputer&#x27;,\n",
       "                                                  SimpleImputer(strategy=&#x27;most_frequent&#x27;)),\n",
       "                                                 (&#x27;encoder&#x27;,\n",
       "                                                  OneHotEncoder(handle_unknown=&#x27;ignore&#x27;))]),\n",
       "                                 [&#x27;most_impressing&#x27;, &#x27;package_food&#x27;,\n",
       "                                  &#x27;package_transport_int&#x27;,\n",
       "                                  &#x27;package_guided_tour&#x27;, &#x27;travel_with&#x27;,\n",
       "                                  &#x27;info_source&#x27;, &#x27;main_activity&#x27;, &#x27;age_group&#x27;,\n",
       "                                  &#x27;tour_arrangement&#x27;, &#x27;package_accomodation&#x27;,\n",
       "                                  &#x27;package_transport_tz&#x27;, &#x27;package_sightseeing&#x27;,\n",
       "                                  &#x27;package_insurance&#x27;, &#x27;first_trip_tz&#x27;,\n",
       "                                  &#x27;country&#x27;, &#x27;purpose&#x27;, &#x27;payment_mode&#x27;])])</pre></div></div></div><div class=\"sk-parallel\"><div class=\"sk-parallel-item\"><div class=\"sk-item\"><div class=\"sk-label-container\"><div class=\"sk-label sk-toggleable\"><input class=\"sk-toggleable__control sk-hidden--visually\" id=\"sk-estimator-id-87\" type=\"checkbox\" ><label for=\"sk-estimator-id-87\" class=\"sk-toggleable__label sk-toggleable__label-arrow\">num</label><div class=\"sk-toggleable__content\"><pre>[&#x27;total_travelers&#x27;, &#x27;night_total&#x27;, &#x27;total_female&#x27;]</pre></div></div></div><div class=\"sk-serial\"><div class=\"sk-item\"><div class=\"sk-serial\"><div class=\"sk-item\"><div class=\"sk-estimator sk-toggleable\"><input class=\"sk-toggleable__control sk-hidden--visually\" id=\"sk-estimator-id-88\" type=\"checkbox\" ><label for=\"sk-estimator-id-88\" class=\"sk-toggleable__label sk-toggleable__label-arrow\">SimpleImputer</label><div class=\"sk-toggleable__content\"><pre>SimpleImputer(strategy=&#x27;most_frequent&#x27;)</pre></div></div></div><div class=\"sk-item\"><div class=\"sk-estimator sk-toggleable\"><input class=\"sk-toggleable__control sk-hidden--visually\" id=\"sk-estimator-id-89\" type=\"checkbox\" ><label for=\"sk-estimator-id-89\" class=\"sk-toggleable__label sk-toggleable__label-arrow\">StandardScaler</label><div class=\"sk-toggleable__content\"><pre>StandardScaler()</pre></div></div></div></div></div></div></div></div><div class=\"sk-parallel-item\"><div class=\"sk-item\"><div class=\"sk-label-container\"><div class=\"sk-label sk-toggleable\"><input class=\"sk-toggleable__control sk-hidden--visually\" id=\"sk-estimator-id-90\" type=\"checkbox\" ><label for=\"sk-estimator-id-90\" class=\"sk-toggleable__label sk-toggleable__label-arrow\">cat</label><div class=\"sk-toggleable__content\"><pre>[&#x27;most_impressing&#x27;, &#x27;package_food&#x27;, &#x27;package_transport_int&#x27;, &#x27;package_guided_tour&#x27;, &#x27;travel_with&#x27;, &#x27;info_source&#x27;, &#x27;main_activity&#x27;, &#x27;age_group&#x27;, &#x27;tour_arrangement&#x27;, &#x27;package_accomodation&#x27;, &#x27;package_transport_tz&#x27;, &#x27;package_sightseeing&#x27;, &#x27;package_insurance&#x27;, &#x27;first_trip_tz&#x27;, &#x27;country&#x27;, &#x27;purpose&#x27;, &#x27;payment_mode&#x27;]</pre></div></div></div><div class=\"sk-serial\"><div class=\"sk-item\"><div class=\"sk-serial\"><div class=\"sk-item\"><div class=\"sk-estimator sk-toggleable\"><input class=\"sk-toggleable__control sk-hidden--visually\" id=\"sk-estimator-id-91\" type=\"checkbox\" ><label for=\"sk-estimator-id-91\" class=\"sk-toggleable__label sk-toggleable__label-arrow\">SimpleImputer</label><div class=\"sk-toggleable__content\"><pre>SimpleImputer(strategy=&#x27;most_frequent&#x27;)</pre></div></div></div><div class=\"sk-item\"><div class=\"sk-estimator sk-toggleable\"><input class=\"sk-toggleable__control sk-hidden--visually\" id=\"sk-estimator-id-92\" type=\"checkbox\" ><label for=\"sk-estimator-id-92\" class=\"sk-toggleable__label sk-toggleable__label-arrow\">OneHotEncoder</label><div class=\"sk-toggleable__content\"><pre>OneHotEncoder(handle_unknown=&#x27;ignore&#x27;)</pre></div></div></div></div></div></div></div></div></div></div><div class=\"sk-item\"><div class=\"sk-estimator sk-toggleable\"><input class=\"sk-toggleable__control sk-hidden--visually\" id=\"sk-estimator-id-93\" type=\"checkbox\" ><label for=\"sk-estimator-id-93\" class=\"sk-toggleable__label sk-toggleable__label-arrow\">Ridge</label><div class=\"sk-toggleable__content\"><pre>Ridge(alpha=0.1)</pre></div></div></div></div></div></div></div>"
      ],
      "text/plain": [
       "Pipeline(steps=[('preprocessor',\n",
       "                 ColumnTransformer(transformers=[('num',\n",
       "                                                  Pipeline(steps=[('imputer',\n",
       "                                                                   SimpleImputer(strategy='most_frequent')),\n",
       "                                                                  ('scaler',\n",
       "                                                                   StandardScaler())]),\n",
       "                                                  ['total_travelers',\n",
       "                                                   'night_total',\n",
       "                                                   'total_female']),\n",
       "                                                 ('cat',\n",
       "                                                  Pipeline(steps=[('imputer',\n",
       "                                                                   SimpleImputer(strategy='most_frequent')),\n",
       "                                                                  ('encoder',\n",
       "                                                                   OneHotEncoder(handle_unknown='ignore'))]),\n",
       "                                                  ['most_impressing',\n",
       "                                                   'package_food',\n",
       "                                                   'package_transport_int',\n",
       "                                                   'package_guided_tour',\n",
       "                                                   'travel_with', 'info_source',\n",
       "                                                   'main_activity', 'age_group',\n",
       "                                                   'tour_arrangement',\n",
       "                                                   'package_accomodation',\n",
       "                                                   'package_transport_tz',\n",
       "                                                   'package_sightseeing',\n",
       "                                                   'package_insurance',\n",
       "                                                   'first_trip_tz', 'country',\n",
       "                                                   'purpose',\n",
       "                                                   'payment_mode'])])),\n",
       "                ('classifier', Ridge(alpha=0.1))])"
      ]
     },
     "execution_count": 102,
     "metadata": {},
     "output_type": "execute_result"
    }
   ],
   "source": [
    "num_transformer = Pipeline(steps=[\n",
    "    ('imputer', SimpleImputer(strategy='most_frequent')),\n",
    "    ('scaler',  StandardScaler()),\n",
    "#    ('poly',    PolynomialFeatures(degree=10))\n",
    "])\n",
    "\n",
    "cat_transformer = Pipeline(steps=[\n",
    "    ('imputer', SimpleImputer(strategy='most_frequent')),\n",
    "    ('encoder', OneHotEncoder(handle_unknown='ignore'))\n",
    "])\n",
    "\n",
    "# Combine transformers into a preprocessor using ColumnTransformer\n",
    "preprocessor = ColumnTransformer(transformers=[\n",
    "    (\"num\", num_transformer, num_features),\n",
    "    (\"cat\", cat_transformer, cat_features),\n",
    "])\n",
    "\n",
    "# Create a Logistic Regression pipeline\n",
    "estimator = Pipeline(steps=[\n",
    "    ('preprocessor', preprocessor),\n",
    "#    ('classifier',   LogisticRegression(max_iter=10_000, class_weight=\"balanced\"))\n",
    "#    ('classifier',   RandomForestClassifier())\n",
    "#    ('classifier',   RandomForestRegressor(min_samples_leaf=5, max_depth=3))\n",
    "#    ('classifier', Ridge(alpha=0.1)),\n",
    "#('classifier', DecisionTreeRegressor())\n",
    "#    ('classifier', ElasticNet(max_iter=10_000))\n",
    "\n",
    "])\n",
    "\n",
    "estimator.fit(X_train, y_train)"
   ]
  },
  {
   "cell_type": "markdown",
   "id": "ec1ff422-7ed0-4466-801c-1cd6a8726bc0",
   "metadata": {
    "tags": []
   },
   "source": [
    "## Predicting"
   ]
  },
  {
   "cell_type": "code",
   "execution_count": 103,
   "id": "115208f6-c4e2-4846-8579-4643fb6474fa",
   "metadata": {
    "tags": []
   },
   "outputs": [],
   "source": [
    "# Predict for training and test sets\n",
    "y_pred_train = estimator.predict(X_train)\n",
    "y_pred_test  = estimator.predict(X_test)"
   ]
  },
  {
   "cell_type": "markdown",
   "id": "beeeaa7a-1f45-4dbe-a7f1-cc01ae42b4cc",
   "metadata": {
    "tags": [],
    "toc-hr-collapsed": true
   },
   "source": [
    "## Evaluation"
   ]
  },
  {
   "cell_type": "markdown",
   "id": "d9c6718b-f572-45bb-80bb-b4f9fa26f621",
   "metadata": {
    "tags": []
   },
   "source": [
    "### Training set evaluation"
   ]
  },
  {
   "cell_type": "code",
   "execution_count": 104,
   "id": "921f193e-1a9f-4f7a-aab1-fbf8ad4fd69b",
   "metadata": {
    "tags": []
   },
   "outputs": [
    {
     "name": "stdout",
     "output_type": "stream",
     "text": [
      "Accuracy on train set: 0.43\n"
     ]
    },
    {
     "ename": "ValueError",
     "evalue": "continuous is not supported",
     "output_type": "error",
     "traceback": [
      "\u001b[0;31m---------------------------------------------------------------------------\u001b[0m",
      "\u001b[0;31mValueError\u001b[0m                                Traceback (most recent call last)",
      "Cell \u001b[0;32mIn[104], line 3\u001b[0m\n\u001b[1;32m      1\u001b[0m train_score  \u001b[38;5;241m=\u001b[39m estimator\u001b[38;5;241m.\u001b[39mscore(X_train, y_train)\n\u001b[1;32m      2\u001b[0m \u001b[38;5;28mprint\u001b[39m(\u001b[38;5;124m\"\u001b[39m\u001b[38;5;124mAccuracy on train set:\u001b[39m\u001b[38;5;124m\"\u001b[39m, \u001b[38;5;28mround\u001b[39m(train_score, \u001b[38;5;241m2\u001b[39m))\n\u001b[0;32m----> 3\u001b[0m \u001b[38;5;28mprint\u001b[39m(\u001b[38;5;124m\"\u001b[39m\u001b[38;5;124mAccuracy on train set:\u001b[39m\u001b[38;5;124m\"\u001b[39m, \u001b[38;5;28mround\u001b[39m(\u001b[43maccuracy_score\u001b[49m\u001b[43m(\u001b[49m\u001b[43my_train\u001b[49m\u001b[43m,\u001b[49m\u001b[43m \u001b[49m\u001b[43my_pred_train\u001b[49m\u001b[43m)\u001b[49m, \u001b[38;5;241m2\u001b[39m))\n\u001b[1;32m      4\u001b[0m \u001b[38;5;28mprint\u001b[39m(classification_report(y_train, y_pred_train))\n\u001b[1;32m      5\u001b[0m cf_train \u001b[38;5;241m=\u001b[39m confusion_matrix(y_train, y_pred_train)\n",
      "File \u001b[0;32m~/.pyenv/versions/3.11.3/lib/python3.11/site-packages/sklearn/utils/_param_validation.py:192\u001b[0m, in \u001b[0;36mvalidate_params.<locals>.decorator.<locals>.wrapper\u001b[0;34m(*args, **kwargs)\u001b[0m\n\u001b[1;32m    187\u001b[0m validate_parameter_constraints(\n\u001b[1;32m    188\u001b[0m     parameter_constraints, params, caller_name\u001b[38;5;241m=\u001b[39mfunc\u001b[38;5;241m.\u001b[39m\u001b[38;5;18m__qualname__\u001b[39m\n\u001b[1;32m    189\u001b[0m )\n\u001b[1;32m    191\u001b[0m \u001b[38;5;28;01mtry\u001b[39;00m:\n\u001b[0;32m--> 192\u001b[0m     \u001b[38;5;28;01mreturn\u001b[39;00m \u001b[43mfunc\u001b[49m\u001b[43m(\u001b[49m\u001b[38;5;241;43m*\u001b[39;49m\u001b[43margs\u001b[49m\u001b[43m,\u001b[49m\u001b[43m \u001b[49m\u001b[38;5;241;43m*\u001b[39;49m\u001b[38;5;241;43m*\u001b[39;49m\u001b[43mkwargs\u001b[49m\u001b[43m)\u001b[49m\n\u001b[1;32m    193\u001b[0m \u001b[38;5;28;01mexcept\u001b[39;00m InvalidParameterError \u001b[38;5;28;01mas\u001b[39;00m e:\n\u001b[1;32m    194\u001b[0m     \u001b[38;5;66;03m# When the function is just a wrapper around an estimator, we allow\u001b[39;00m\n\u001b[1;32m    195\u001b[0m     \u001b[38;5;66;03m# the function to delegate validation to the estimator, but we replace\u001b[39;00m\n\u001b[1;32m    196\u001b[0m     \u001b[38;5;66;03m# the name of the estimator by the name of the function in the error\u001b[39;00m\n\u001b[1;32m    197\u001b[0m     \u001b[38;5;66;03m# message to avoid confusion.\u001b[39;00m\n\u001b[1;32m    198\u001b[0m     msg \u001b[38;5;241m=\u001b[39m re\u001b[38;5;241m.\u001b[39msub(\n\u001b[1;32m    199\u001b[0m         \u001b[38;5;124mr\u001b[39m\u001b[38;5;124m\"\u001b[39m\u001b[38;5;124mparameter of \u001b[39m\u001b[38;5;124m\\\u001b[39m\u001b[38;5;124mw+ must be\u001b[39m\u001b[38;5;124m\"\u001b[39m,\n\u001b[1;32m    200\u001b[0m         \u001b[38;5;124mf\u001b[39m\u001b[38;5;124m\"\u001b[39m\u001b[38;5;124mparameter of \u001b[39m\u001b[38;5;132;01m{\u001b[39;00mfunc\u001b[38;5;241m.\u001b[39m\u001b[38;5;18m__qualname__\u001b[39m\u001b[38;5;132;01m}\u001b[39;00m\u001b[38;5;124m must be\u001b[39m\u001b[38;5;124m\"\u001b[39m,\n\u001b[1;32m    201\u001b[0m         \u001b[38;5;28mstr\u001b[39m(e),\n\u001b[1;32m    202\u001b[0m     )\n",
      "File \u001b[0;32m~/.pyenv/versions/3.11.3/lib/python3.11/site-packages/sklearn/metrics/_classification.py:221\u001b[0m, in \u001b[0;36maccuracy_score\u001b[0;34m(y_true, y_pred, normalize, sample_weight)\u001b[0m\n\u001b[1;32m    155\u001b[0m \u001b[38;5;250m\u001b[39m\u001b[38;5;124;03m\"\"\"Accuracy classification score.\u001b[39;00m\n\u001b[1;32m    156\u001b[0m \n\u001b[1;32m    157\u001b[0m \u001b[38;5;124;03mIn multilabel classification, this function computes subset accuracy:\u001b[39;00m\n\u001b[0;32m   (...)\u001b[0m\n\u001b[1;32m    217\u001b[0m \u001b[38;5;124;03m0.5\u001b[39;00m\n\u001b[1;32m    218\u001b[0m \u001b[38;5;124;03m\"\"\"\u001b[39;00m\n\u001b[1;32m    220\u001b[0m \u001b[38;5;66;03m# Compute accuracy for each possible representation\u001b[39;00m\n\u001b[0;32m--> 221\u001b[0m y_type, y_true, y_pred \u001b[38;5;241m=\u001b[39m \u001b[43m_check_targets\u001b[49m\u001b[43m(\u001b[49m\u001b[43my_true\u001b[49m\u001b[43m,\u001b[49m\u001b[43m \u001b[49m\u001b[43my_pred\u001b[49m\u001b[43m)\u001b[49m\n\u001b[1;32m    222\u001b[0m check_consistent_length(y_true, y_pred, sample_weight)\n\u001b[1;32m    223\u001b[0m \u001b[38;5;28;01mif\u001b[39;00m y_type\u001b[38;5;241m.\u001b[39mstartswith(\u001b[38;5;124m\"\u001b[39m\u001b[38;5;124mmultilabel\u001b[39m\u001b[38;5;124m\"\u001b[39m):\n",
      "File \u001b[0;32m~/.pyenv/versions/3.11.3/lib/python3.11/site-packages/sklearn/metrics/_classification.py:106\u001b[0m, in \u001b[0;36m_check_targets\u001b[0;34m(y_true, y_pred)\u001b[0m\n\u001b[1;32m    104\u001b[0m \u001b[38;5;66;03m# No metrics support \"multiclass-multioutput\" format\u001b[39;00m\n\u001b[1;32m    105\u001b[0m \u001b[38;5;28;01mif\u001b[39;00m y_type \u001b[38;5;129;01mnot\u001b[39;00m \u001b[38;5;129;01min\u001b[39;00m [\u001b[38;5;124m\"\u001b[39m\u001b[38;5;124mbinary\u001b[39m\u001b[38;5;124m\"\u001b[39m, \u001b[38;5;124m\"\u001b[39m\u001b[38;5;124mmulticlass\u001b[39m\u001b[38;5;124m\"\u001b[39m, \u001b[38;5;124m\"\u001b[39m\u001b[38;5;124mmultilabel-indicator\u001b[39m\u001b[38;5;124m\"\u001b[39m]:\n\u001b[0;32m--> 106\u001b[0m     \u001b[38;5;28;01mraise\u001b[39;00m \u001b[38;5;167;01mValueError\u001b[39;00m(\u001b[38;5;124m\"\u001b[39m\u001b[38;5;132;01m{0}\u001b[39;00m\u001b[38;5;124m is not supported\u001b[39m\u001b[38;5;124m\"\u001b[39m\u001b[38;5;241m.\u001b[39mformat(y_type))\n\u001b[1;32m    108\u001b[0m \u001b[38;5;28;01mif\u001b[39;00m y_type \u001b[38;5;129;01min\u001b[39;00m [\u001b[38;5;124m\"\u001b[39m\u001b[38;5;124mbinary\u001b[39m\u001b[38;5;124m\"\u001b[39m, \u001b[38;5;124m\"\u001b[39m\u001b[38;5;124mmulticlass\u001b[39m\u001b[38;5;124m\"\u001b[39m]:\n\u001b[1;32m    109\u001b[0m     y_true \u001b[38;5;241m=\u001b[39m column_or_1d(y_true)\n",
      "\u001b[0;31mValueError\u001b[0m: continuous is not supported"
     ]
    }
   ],
   "source": [
    "train_score  = estimator.score(X_train, y_train)\n",
    "print(\"Accuracy on train set:\", round(train_score, 2))\n",
    "print(\"Accuracy on train set:\", round(accuracy_score(y_train, y_pred_train), 2))\n",
    "print(classification_report(y_train, y_pred_train))\n",
    "cf_train = confusion_matrix(y_train, y_pred_train)\n",
    "sns.set(rc={\"figure.figsize\":(4, 3)})\n",
    "sns.heatmap(cf_train, annot=True, fmt=\"\", cmap='Blues', xticklabels=bin_names, yticklabels=bin_names);"
   ]
  },
  {
   "cell_type": "markdown",
   "id": "043dd2f9-31fa-466b-86d3-939dbf194c4e",
   "metadata": {},
   "source": [
    "### Test set evaluation"
   ]
  },
  {
   "cell_type": "code",
   "execution_count": 101,
   "id": "e0d7437d-10c6-4a29-b114-836d28be434f",
   "metadata": {
    "tags": []
   },
   "outputs": [
    {
     "name": "stdout",
     "output_type": "stream",
     "text": [
      "Accuracy on test set: 0.35\n"
     ]
    },
    {
     "ename": "ValueError",
     "evalue": "continuous is not supported",
     "output_type": "error",
     "traceback": [
      "\u001b[0;31m---------------------------------------------------------------------------\u001b[0m",
      "\u001b[0;31mValueError\u001b[0m                                Traceback (most recent call last)",
      "Cell \u001b[0;32mIn[101], line 3\u001b[0m\n\u001b[1;32m      1\u001b[0m test_score   \u001b[38;5;241m=\u001b[39m estimator\u001b[38;5;241m.\u001b[39mscore(X_test,  y_test)\n\u001b[1;32m      2\u001b[0m \u001b[38;5;28mprint\u001b[39m(\u001b[38;5;124m\"\u001b[39m\u001b[38;5;124mAccuracy on test set:\u001b[39m\u001b[38;5;124m\"\u001b[39m,  \u001b[38;5;28mround\u001b[39m(test_score, \u001b[38;5;241m2\u001b[39m))\n\u001b[0;32m----> 3\u001b[0m \u001b[38;5;28mprint\u001b[39m(\u001b[38;5;124m\"\u001b[39m\u001b[38;5;124mAccuracy on test set:\u001b[39m\u001b[38;5;124m\"\u001b[39m, \u001b[38;5;28mround\u001b[39m(\u001b[43maccuracy_score\u001b[49m\u001b[43m(\u001b[49m\u001b[43my_test\u001b[49m\u001b[43m,\u001b[49m\u001b[43m \u001b[49m\u001b[43my_pred_test\u001b[49m\u001b[43m)\u001b[49m, \u001b[38;5;241m2\u001b[39m))\n\u001b[1;32m      4\u001b[0m \u001b[38;5;28mprint\u001b[39m(classification_report(y_test, y_pred_test))\n\u001b[1;32m      6\u001b[0m cf_test \u001b[38;5;241m=\u001b[39m confusion_matrix(y_test, y_pred_test)\n",
      "File \u001b[0;32m~/.pyenv/versions/3.11.3/lib/python3.11/site-packages/sklearn/utils/_param_validation.py:192\u001b[0m, in \u001b[0;36mvalidate_params.<locals>.decorator.<locals>.wrapper\u001b[0;34m(*args, **kwargs)\u001b[0m\n\u001b[1;32m    187\u001b[0m validate_parameter_constraints(\n\u001b[1;32m    188\u001b[0m     parameter_constraints, params, caller_name\u001b[38;5;241m=\u001b[39mfunc\u001b[38;5;241m.\u001b[39m\u001b[38;5;18m__qualname__\u001b[39m\n\u001b[1;32m    189\u001b[0m )\n\u001b[1;32m    191\u001b[0m \u001b[38;5;28;01mtry\u001b[39;00m:\n\u001b[0;32m--> 192\u001b[0m     \u001b[38;5;28;01mreturn\u001b[39;00m \u001b[43mfunc\u001b[49m\u001b[43m(\u001b[49m\u001b[38;5;241;43m*\u001b[39;49m\u001b[43margs\u001b[49m\u001b[43m,\u001b[49m\u001b[43m \u001b[49m\u001b[38;5;241;43m*\u001b[39;49m\u001b[38;5;241;43m*\u001b[39;49m\u001b[43mkwargs\u001b[49m\u001b[43m)\u001b[49m\n\u001b[1;32m    193\u001b[0m \u001b[38;5;28;01mexcept\u001b[39;00m InvalidParameterError \u001b[38;5;28;01mas\u001b[39;00m e:\n\u001b[1;32m    194\u001b[0m     \u001b[38;5;66;03m# When the function is just a wrapper around an estimator, we allow\u001b[39;00m\n\u001b[1;32m    195\u001b[0m     \u001b[38;5;66;03m# the function to delegate validation to the estimator, but we replace\u001b[39;00m\n\u001b[1;32m    196\u001b[0m     \u001b[38;5;66;03m# the name of the estimator by the name of the function in the error\u001b[39;00m\n\u001b[1;32m    197\u001b[0m     \u001b[38;5;66;03m# message to avoid confusion.\u001b[39;00m\n\u001b[1;32m    198\u001b[0m     msg \u001b[38;5;241m=\u001b[39m re\u001b[38;5;241m.\u001b[39msub(\n\u001b[1;32m    199\u001b[0m         \u001b[38;5;124mr\u001b[39m\u001b[38;5;124m\"\u001b[39m\u001b[38;5;124mparameter of \u001b[39m\u001b[38;5;124m\\\u001b[39m\u001b[38;5;124mw+ must be\u001b[39m\u001b[38;5;124m\"\u001b[39m,\n\u001b[1;32m    200\u001b[0m         \u001b[38;5;124mf\u001b[39m\u001b[38;5;124m\"\u001b[39m\u001b[38;5;124mparameter of \u001b[39m\u001b[38;5;132;01m{\u001b[39;00mfunc\u001b[38;5;241m.\u001b[39m\u001b[38;5;18m__qualname__\u001b[39m\u001b[38;5;132;01m}\u001b[39;00m\u001b[38;5;124m must be\u001b[39m\u001b[38;5;124m\"\u001b[39m,\n\u001b[1;32m    201\u001b[0m         \u001b[38;5;28mstr\u001b[39m(e),\n\u001b[1;32m    202\u001b[0m     )\n",
      "File \u001b[0;32m~/.pyenv/versions/3.11.3/lib/python3.11/site-packages/sklearn/metrics/_classification.py:221\u001b[0m, in \u001b[0;36maccuracy_score\u001b[0;34m(y_true, y_pred, normalize, sample_weight)\u001b[0m\n\u001b[1;32m    155\u001b[0m \u001b[38;5;250m\u001b[39m\u001b[38;5;124;03m\"\"\"Accuracy classification score.\u001b[39;00m\n\u001b[1;32m    156\u001b[0m \n\u001b[1;32m    157\u001b[0m \u001b[38;5;124;03mIn multilabel classification, this function computes subset accuracy:\u001b[39;00m\n\u001b[0;32m   (...)\u001b[0m\n\u001b[1;32m    217\u001b[0m \u001b[38;5;124;03m0.5\u001b[39;00m\n\u001b[1;32m    218\u001b[0m \u001b[38;5;124;03m\"\"\"\u001b[39;00m\n\u001b[1;32m    220\u001b[0m \u001b[38;5;66;03m# Compute accuracy for each possible representation\u001b[39;00m\n\u001b[0;32m--> 221\u001b[0m y_type, y_true, y_pred \u001b[38;5;241m=\u001b[39m \u001b[43m_check_targets\u001b[49m\u001b[43m(\u001b[49m\u001b[43my_true\u001b[49m\u001b[43m,\u001b[49m\u001b[43m \u001b[49m\u001b[43my_pred\u001b[49m\u001b[43m)\u001b[49m\n\u001b[1;32m    222\u001b[0m check_consistent_length(y_true, y_pred, sample_weight)\n\u001b[1;32m    223\u001b[0m \u001b[38;5;28;01mif\u001b[39;00m y_type\u001b[38;5;241m.\u001b[39mstartswith(\u001b[38;5;124m\"\u001b[39m\u001b[38;5;124mmultilabel\u001b[39m\u001b[38;5;124m\"\u001b[39m):\n",
      "File \u001b[0;32m~/.pyenv/versions/3.11.3/lib/python3.11/site-packages/sklearn/metrics/_classification.py:106\u001b[0m, in \u001b[0;36m_check_targets\u001b[0;34m(y_true, y_pred)\u001b[0m\n\u001b[1;32m    104\u001b[0m \u001b[38;5;66;03m# No metrics support \"multiclass-multioutput\" format\u001b[39;00m\n\u001b[1;32m    105\u001b[0m \u001b[38;5;28;01mif\u001b[39;00m y_type \u001b[38;5;129;01mnot\u001b[39;00m \u001b[38;5;129;01min\u001b[39;00m [\u001b[38;5;124m\"\u001b[39m\u001b[38;5;124mbinary\u001b[39m\u001b[38;5;124m\"\u001b[39m, \u001b[38;5;124m\"\u001b[39m\u001b[38;5;124mmulticlass\u001b[39m\u001b[38;5;124m\"\u001b[39m, \u001b[38;5;124m\"\u001b[39m\u001b[38;5;124mmultilabel-indicator\u001b[39m\u001b[38;5;124m\"\u001b[39m]:\n\u001b[0;32m--> 106\u001b[0m     \u001b[38;5;28;01mraise\u001b[39;00m \u001b[38;5;167;01mValueError\u001b[39;00m(\u001b[38;5;124m\"\u001b[39m\u001b[38;5;132;01m{0}\u001b[39;00m\u001b[38;5;124m is not supported\u001b[39m\u001b[38;5;124m\"\u001b[39m\u001b[38;5;241m.\u001b[39mformat(y_type))\n\u001b[1;32m    108\u001b[0m \u001b[38;5;28;01mif\u001b[39;00m y_type \u001b[38;5;129;01min\u001b[39;00m [\u001b[38;5;124m\"\u001b[39m\u001b[38;5;124mbinary\u001b[39m\u001b[38;5;124m\"\u001b[39m, \u001b[38;5;124m\"\u001b[39m\u001b[38;5;124mmulticlass\u001b[39m\u001b[38;5;124m\"\u001b[39m]:\n\u001b[1;32m    109\u001b[0m     y_true \u001b[38;5;241m=\u001b[39m column_or_1d(y_true)\n",
      "\u001b[0;31mValueError\u001b[0m: continuous is not supported"
     ]
    }
   ],
   "source": [
    "test_score   = estimator.score(X_test,  y_test)\n",
    "print(\"Accuracy on test set:\",  round(test_score, 2))\n",
    "print(\"Accuracy on test set:\", round(accuracy_score(y_test, y_pred_test), 2))\n",
    "print(classification_report(y_test, y_pred_test))\n",
    "\n",
    "cf_test = confusion_matrix(y_test, y_pred_test)\n",
    "sns.set(rc={\"figure.figsize\":(4, 3)})\n",
    "sns.heatmap(cf_test, annot=True, fmt=\"\", cmap='Blues', xticklabels=bin_names, yticklabels=bin_names);"
   ]
  },
  {
   "cell_type": "code",
   "execution_count": null,
   "id": "1a106863-08ca-464c-ac81-0935e5ad8b4f",
   "metadata": {
    "tags": []
   },
   "outputs": [],
   "source": [
    "# The evaluation metric for this competition is Mean Absolute Error.\n",
    "\n",
    "#mean_absolute_error(y_train, y_pred_train)"
   ]
  },
  {
   "cell_type": "markdown",
   "id": "6894ab7b-e47a-4df1-be6e-265ca0f8c167",
   "metadata": {
    "tags": []
   },
   "source": [
    "## Cross Validation"
   ]
  },
  {
   "cell_type": "code",
   "execution_count": null,
   "id": "76c85a71-f055-4c83-a0ed-0886580689b4",
   "metadata": {
    "tags": []
   },
   "outputs": [],
   "source": [
    "y_pred_test_cv = cross_val_predict(estimator, X_test, y_test, cv=4)"
   ]
  },
  {
   "cell_type": "code",
   "execution_count": null,
   "id": "24a5ca67-894c-4584-9c84-3299636440f9",
   "metadata": {
    "tags": []
   },
   "outputs": [],
   "source": [
    "cv_score = estimator.score(X_test, y_pred_test_cv)\n",
    "print(\"Cross validation scores:\", round(cv_score, 2))\n",
    "print(classification_report(y_test, y_pred_test_cv))"
   ]
  },
  {
   "cell_type": "markdown",
   "id": "2cd471a5-0339-4138-91e2-7868d2b35666",
   "metadata": {},
   "source": [
    "# Saving the model"
   ]
  },
  {
   "cell_type": "code",
   "execution_count": null,
   "id": "8669f198-4a2e-4063-9b04-91e6426332de",
   "metadata": {
    "tags": []
   },
   "outputs": [],
   "source": [
    "from scripts.model_serializer import ModelSerializer\n",
    "\n",
    "ModelSerializer('models/best_model.sav').save(estimator)"
   ]
  },
  {
   "cell_type": "markdown",
   "id": "4c5c923d-bc87-463f-96f3-8d0766342c5a",
   "metadata": {},
   "source": [
    "# Loading the model"
   ]
  },
  {
   "cell_type": "code",
   "execution_count": null,
   "id": "e58a30cd-8f2f-40dc-ba7d-181e03a6889a",
   "metadata": {
    "tags": []
   },
   "outputs": [],
   "source": [
    "model = ModelSerializer('models/best_model.sav').load()\n",
    "model"
   ]
  },
  {
   "cell_type": "markdown",
   "id": "bf90ce7b-4fb2-4c0b-b3ba-16e484ebd164",
   "metadata": {},
   "source": [
    "# Using \"Test.csv\""
   ]
  },
  {
   "cell_type": "code",
   "execution_count": null,
   "id": "3ba81d0d-496c-4335-884d-a6bafe1a6e02",
   "metadata": {
    "tags": []
   },
   "outputs": [],
   "source": [
    "reat_test_dataset = pd.read_csv('data/Test.csv')\n",
    "ids = reat_test_dataset['ID']\n",
    "real_test = clean_dataset(reat_test_dataset)\n",
    "model = ModelSerializer('models/best_model.sav').load()\n",
    "y_pred_real_test = model.predict(real_test)\n",
    "real_predictions = pd.Series(y_pred_real_test, name='Predictions')\n",
    "\n",
    "# Concatenate the Series and ndarray into a DataFrame\n",
    "result_df = pd.concat([ids, real_predictions], axis=1)\n",
    "result_df.columns = ['ids', 'predictions']\n",
    "result_df"
   ]
  },
  {
   "cell_type": "markdown",
   "id": "04e1d189-4c06-4cc7-8d4f-a8c4ec08dd0e",
   "metadata": {},
   "source": [
    "# Grid Search"
   ]
  },
  {
   "cell_type": "code",
   "execution_count": null,
   "id": "b03ca920-74e9-4a63-a093-bf50fa03e571",
   "metadata": {
    "tags": []
   },
   "outputs": [],
   "source": [
    "\n",
    "\n",
    "\n",
    "# !!!!!!!!!!!!!!!!!!!!!!!!!!!!!!!!!!!!!!!!!!!!!!!!!!!!!!!!!!!!!!!!!!!"
   ]
  },
  {
   "cell_type": "code",
   "execution_count": null,
   "id": "9b017d4f-3451-43e6-a4b7-3c571c77a99a",
   "metadata": {
    "tags": []
   },
   "outputs": [],
   "source": [
    "# Define a parameter grid for GridSearchCV\n",
    "param_grid = {\n",
    "    'classifier': [\n",
    "        LogisticRegression(max_iter=10_000),\n",
    "        Ridge(alpha=0.5),\n",
    "#        DecisionTreeClassifier(),\n",
    "#        RandomForestClassifier(),\n",
    "#        XGBRegressor(),\n",
    "    ],\n",
    "}\n",
    "\n",
    "# Create GridSearchCV,\n",
    "grid_search = GridSearchCV(\n",
    "    estimator,\n",
    "    param_grid,\n",
    "    cv=5,\n",
    "    scoring='neg_mean_squared_error', #'r2', \n",
    "    verbose=1\n",
    ")\n",
    "\n",
    "# Fit the model\n",
    "grid_search.fit(X_train, y_train)\n",
    "\n",
    "# Get the best model from the grid search\n",
    "best_model = grid_search.best_estimator_\n",
    "\n",
    "# Make predictions\\n\",\n",
    "y_pred_train = best_model.predict(X_train)\n",
    "y_pred_test  = best_model.predict(X_test)"
   ]
  },
  {
   "cell_type": "code",
   "execution_count": null,
   "id": "e8e7ed9c-9135-42ea-a86c-154d737a0f87",
   "metadata": {},
   "outputs": [],
   "source": []
  },
  {
   "cell_type": "code",
   "execution_count": null,
   "id": "00d8f9fc-386b-48f8-8cd3-f92bc44a48d7",
   "metadata": {},
   "outputs": [],
   "source": []
  },
  {
   "cell_type": "code",
   "execution_count": null,
   "id": "89c1d580-3cef-47d3-afa2-9cb32d79ee50",
   "metadata": {
    "tags": []
   },
   "outputs": [],
   "source": [
    "# Evaluate the best model\n",
    "print('Best Model:', best_model.named_steps['classifier'])\n",
    "print('Mean Absolute Percentage Error:', round(mean_absolute_percentage_error(y_train, y_pred_train), 2))\n",
    "print('Mean Absolute Error:', round(np.sqrt(mean_absolute_error(y_test, y_pred_test)), 2))\n",
    "print('Mean Squared Error:', round(np.sqrt(mean_squared_error(y_test, y_pred_test)), 2))\n",
    "print('R-squared:', round(r2_score(y_test, y_pred_test), 2))\n",
    "\n",
    "\n",
    "\n",
    "\n",
    "\n",
    "\n",
    "\n",
    "\n",
    "def coeff_info(model):\n",
    "    coeff_used = np.sum(model.coef_!=0)\n",
    "    print('The model is using', coeff_used, 'out of 66 features.')\n",
    "    print( \"The highest coefficient has a value of:\", max(model.coef_.round(3)))\n",
    "\n",
    "    \n",
    "#coeff_info(best_model)"
   ]
  },
  {
   "cell_type": "code",
   "execution_count": null,
   "id": "04d6efbb-aea9-4e17-9e83-ae55f04a4ece",
   "metadata": {},
   "outputs": [],
   "source": []
  },
  {
   "cell_type": "code",
   "execution_count": null,
   "id": "2700da32-570e-4dbd-a59b-e06b35be02c7",
   "metadata": {},
   "outputs": [],
   "source": []
  },
  {
   "cell_type": "code",
   "execution_count": null,
   "id": "af6e808d-1b25-425b-9205-a2481ced4e97",
   "metadata": {},
   "outputs": [],
   "source": []
  },
  {
   "cell_type": "code",
   "execution_count": null,
   "id": "71de7b50-3126-46df-ad12-5dba654a614f",
   "metadata": {},
   "outputs": [],
   "source": []
  },
  {
   "cell_type": "code",
   "execution_count": null,
   "id": "ad0ef5eb-825c-43dc-bb82-8ca47a530c3a",
   "metadata": {},
   "outputs": [],
   "source": []
  },
  {
   "cell_type": "code",
   "execution_count": null,
   "id": "7eded49e-983a-4a32-8e6b-23cbd9ea66d1",
   "metadata": {},
   "outputs": [],
   "source": []
  },
  {
   "cell_type": "code",
   "execution_count": null,
   "id": "a89ce5fa-fef0-4935-95d7-83c2ffadbcc1",
   "metadata": {},
   "outputs": [],
   "source": []
  },
  {
   "cell_type": "code",
   "execution_count": null,
   "id": "ee0418aa-cb3d-4c8f-8f62-ef2905d9ef40",
   "metadata": {
    "tags": []
   },
   "outputs": [],
   "source": [
    "def error_analysis(y_test, y_pred_test):\n",
    "    \"\"\"Generated true vs. predicted values and residual scatter plot for models\n",
    "\n",
    "    Args:\n",
    "        y_test (array): true values for y_test\n",
    "        y_pred_test (array): predicted values of model for y_test\n",
    "    \"\"\"     \n",
    "    # Calculate residuals\n",
    "    residuals = y_test - y_pred_test\n",
    "    \n",
    "    # Plot real vs. predicted values \n",
    "    fig, ax = plt.subplots(1,2, figsize=(15, 5))\n",
    "    plt.subplots_adjust(right=1)\n",
    "    plt.suptitle('Error Analysis')\n",
    "    \n",
    "    ax[0].scatter(y_pred_test, y_test, color=\"#FF5A36\", alpha=0.7)\n",
    "    ax[0].plot([-400, 350], [-400, 350], color=\"#193251\")\n",
    "    ax[0].set_title(\"True vs. predicted values\", fontsize=16)\n",
    "    ax[0].set_xlabel(\"predicted values\")\n",
    "    ax[0].set_ylabel(\"true values\")\n",
    "    ax[0].set_xlim((y_pred_test.min()-10), (y_pred_test.max()+10))\n",
    "    ax[0].set_ylim((y_test.min()-40), (y_test.max()+40))\n",
    "    \n",
    "    ax[1].scatter(y_pred_test, residuals, color=\"#FF5A36\", alpha=0.7)\n",
    "    ax[1].plot([-400, 350], [0,0], color=\"#193251\")\n",
    "    ax[1].set_title(\"Residual Scatter Plot\", fontsize=16)\n",
    "    ax[1].set_xlabel(\"predicted values\")\n",
    "    ax[1].set_ylabel(\"residuals\")\n",
    "    ax[1].set_xlim((y_pred_test.min()-10), (y_pred_test.max()+10))\n",
    "    ax[1].set_ylim((residuals.min()-10), (residuals.max()+10))\n",
    "    \n",
    "error_analysis(y_test, y_pred_test)"
   ]
  },
  {
   "cell_type": "code",
   "execution_count": null,
   "id": "816cab37-57e6-4984-b161-71d42daa5a2a",
   "metadata": {
    "tags": []
   },
   "outputs": [],
   "source": []
  },
  {
   "cell_type": "code",
   "execution_count": null,
   "id": "d6cb3451-f854-4601-9ebf-bae73237b611",
   "metadata": {
    "tags": []
   },
   "outputs": [],
   "source": [
    "\n",
    "# Plotting the results\n",
    "plt.figure(figsize=(8, 6))\n",
    "\n",
    "# Scatter plot of true vs. predicted values\n",
    "plt.scatter(y_test, y_pred_test, color='blue', label='Actual vs. Predicted')\n",
    "\n",
    "# Plot the identity line (y = x)\n",
    "plt.plot([min(y_test), max(y_test)], [min(y_test), max(y_test)], color='red', linestyle='--', label='Identity Line')\n",
    "\n",
    "plt.title('Regression Model: Actual vs. Predicted Values')\n",
    "plt.xlabel('True Values')\n",
    "plt.ylabel('Predicted Values')\n",
    "plt.legend()\n",
    "plt.show()"
   ]
  }
 ],
 "metadata": {
  "kernelspec": {
   "display_name": "Python 3 (ipykernel)",
   "language": "python",
   "name": "python3"
  },
  "language_info": {
   "codemirror_mode": {
    "name": "ipython",
    "version": 3
   },
   "file_extension": ".py",
   "mimetype": "text/x-python",
   "name": "python",
   "nbconvert_exporter": "python",
   "pygments_lexer": "ipython3",
   "version": "3.11.3"
  },
  "toc-showcode": false
 },
 "nbformat": 4,
 "nbformat_minor": 5
}
