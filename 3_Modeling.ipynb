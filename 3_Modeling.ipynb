{
 "cells": [
  {
   "cell_type": "markdown",
   "id": "fe7d5293-bec2-49de-b0cf-ccdbb793c3e7",
   "metadata": {},
   "source": [
    "# Importing Libraries"
   ]
  },
  {
   "cell_type": "code",
   "execution_count": 1,
   "id": "1634e0bc-fceb-4417-992b-22b008efdfa0",
   "metadata": {
    "tags": []
   },
   "outputs": [],
   "source": [
    "import pandas as pd\n",
    "import numpy as np\n",
    "import matplotlib.pyplot as plt\n",
    "import seaborn as sns\n",
    "import timeit\n",
    "\n",
    "from sklearn.pipeline import Pipeline\n",
    "from sklearn.compose import ColumnTransformer\n",
    "from sklearn.impute import SimpleImputer\n",
    "from sklearn.preprocessing import (\n",
    "    PolynomialFeatures, \n",
    "    LabelEncoder,\n",
    "    StandardScaler, \n",
    "    MinMaxScaler, \n",
    "    OneHotEncoder, \n",
    "    KBinsDiscretizer\n",
    ")\n",
    "from sklearn.linear_model import (\n",
    "    LinearRegression, \n",
    "    LogisticRegression,\n",
    "    Ridge, \n",
    "    Lasso,\n",
    "    ElasticNet\n",
    ")\n",
    "from sklearn.tree import (\n",
    "    DecisionTreeRegressor,\n",
    "    DecisionTreeClassifier\n",
    ")\n",
    "from sklearn.ensemble import (\n",
    "    RandomForestRegressor,\n",
    "    RandomForestClassifier,\n",
    "    GradientBoostingClassifier\n",
    ")   \n",
    "from sklearn.model_selection import (\n",
    "    train_test_split,\n",
    "    cross_val_predict,\n",
    "    GridSearchCV,\n",
    ")\n",
    "from sklearn.metrics import (\n",
    "    mean_absolute_percentage_error,\n",
    "    mean_absolute_error, \n",
    "    mean_squared_error, \n",
    "    r2_score, \n",
    "    confusion_matrix, \n",
    "    accuracy_score, \n",
    "    classification_report,\n",
    "    recall_score,\n",
    "    precision_score\n",
    ")\n",
    "\n",
    "\n",
    "from scripts.clean_dataset import clean_dataset\n",
    "from scripts.helper import currency, cal_accuracy\n"
   ]
  },
  {
   "cell_type": "markdown",
   "id": "bd997e6f-b372-479f-8bea-94e85673b0a5",
   "metadata": {
    "toc-hr-collapsed": true
   },
   "source": [
    "# Importing the cleaned dataset"
   ]
  },
  {
   "cell_type": "code",
   "execution_count": 2,
   "id": "7b3bf664-0d75-4c29-a2d4-431dab4568fa",
   "metadata": {
    "tags": []
   },
   "outputs": [],
   "source": [
    "df_train = pd.read_csv('data/Train_cleaned.csv')\n",
    "#df_train = pd.read_csv('data/Train_cleaned_log_transformed.csv')"
   ]
  },
  {
   "cell_type": "code",
   "execution_count": 3,
   "id": "26064d66-aa1c-4021-b0a0-f64d108639a5",
   "metadata": {
    "tags": []
   },
   "outputs": [
    {
     "data": {
      "text/plain": [
       "(3954, 27)"
      ]
     },
     "execution_count": 3,
     "metadata": {},
     "output_type": "execute_result"
    }
   ],
   "source": [
    "df_train.shape"
   ]
  },
  {
   "cell_type": "markdown",
   "id": "2676a7c0-a266-48c7-93a3-7afe590fd125",
   "metadata": {},
   "source": [
    "## Categorization of total_cost (using KBins)"
   ]
  },
  {
   "cell_type": "code",
   "execution_count": 4,
   "id": "8851ab36-70cd-46a3-8d2b-2b450de06a88",
   "metadata": {
    "tags": []
   },
   "outputs": [],
   "source": [
    "kbins = KBinsDiscretizer(\n",
    "    n_bins=5,\n",
    "    encode='onehot-dense', # onehot, onehoe-dense, ordinal\n",
    "    strategy='quantile',   # kmeans, uniform, quantile\n",
    ")\n",
    "bin_data  = kbins.fit_transform(df_train[['total_cost_euro']])\n",
    "bin_names = ['Very low', 'Low', 'Medium', 'High', 'Very high']\n",
    "bin_edges = kbins.bin_edges_[0].round()\n",
    "\n",
    "# Apply pd.cut with custom bin edges to start the first bin at zero\n",
    "bin_edges = np.concatenate(([0], bin_edges[1:]))\n",
    "\n",
    "df_train['total_cost_category'] = pd.cut(\n",
    "    df_train['total_cost_euro'], \n",
    "    bins=bin_edges, \n",
    "    labels=bin_names, \n",
    "    include_lowest=True,\n",
    "    right=False\n",
    ")"
   ]
  },
  {
   "cell_type": "markdown",
   "id": "5b8933b5-508f-42f8-9a1f-1372795e4bbd",
   "metadata": {
    "tags": []
   },
   "source": [
    "### Class-Balance"
   ]
  },
  {
   "cell_type": "code",
   "execution_count": 5,
   "id": "c2d2d1e4-bc5a-4219-a70c-c651e4e51c12",
   "metadata": {
    "tags": []
   },
   "outputs": [
    {
     "data": {
      "text/plain": [
       "total_cost_category\n",
       "Very low     0.203844\n",
       "Medium       0.202833\n",
       "High         0.201821\n",
       "Very high    0.200051\n",
       "Low          0.191452\n",
       "Name: proportion, dtype: float64"
      ]
     },
     "execution_count": 5,
     "metadata": {},
     "output_type": "execute_result"
    }
   ],
   "source": [
    "df_train['total_cost_category'].value_counts(normalize=True)#.apply(lambda x: f\"{round(x*100, 2)}%\")"
   ]
  },
  {
   "cell_type": "code",
   "execution_count": 6,
   "id": "33b4cba5-780f-402b-b49a-2a4746cddf81",
   "metadata": {
    "tags": []
   },
   "outputs": [
    {
     "name": "stdout",
     "output_type": "stream",
     "text": [
      "Very low         0.00 €  -     242.00 €\n",
      "Low            242.00 €  -     907.00 €\n",
      "Medium         907.00 €  -   2,238.00 €\n",
      "High         2,238.00 €  -   5,196.00 €\n",
      "Very high    5,196.00 €  -  36,330.00 €\n"
     ]
    }
   ],
   "source": [
    "# show the bins\n",
    "for i in range(len(bin_names)):\n",
    "    print(bin_names[i].ljust(11), currency(bin_edges[i]).rjust(11), \" - \", currency(bin_edges[i+1]).rjust(11))"
   ]
  },
  {
   "cell_type": "markdown",
   "id": "8f4514e7-6958-48fd-9026-e7c6cdc531e4",
   "metadata": {
    "toc-hr-collapsed": true
   },
   "source": [
    "# Target and Features"
   ]
  },
  {
   "cell_type": "code",
   "execution_count": 7,
   "id": "71d440c0-a5a1-4194-90f9-c17a4abc3ab6",
   "metadata": {
    "tags": []
   },
   "outputs": [],
   "source": [
    "# Target:\n",
    "y = df_train['total_cost_category']\n",
    "#y = df_train['total_cost']\n",
    "# Features:\n",
    "X = df_train.drop([\n",
    "    'total_cost', 'total_cost_euro', 'total_cost_category', \n",
    "], axis=1)"
   ]
  },
  {
   "cell_type": "markdown",
   "id": "a81835de-853f-4554-8902-c794f4feeef8",
   "metadata": {
    "tags": []
   },
   "source": [
    "## Seperate numerical and categorical features"
   ]
  },
  {
   "cell_type": "code",
   "execution_count": 8,
   "id": "565f6ed8-9d6d-4bd0-b5d1-77fa0a5cb2f0",
   "metadata": {},
   "outputs": [],
   "source": [
    "num_features = list(X.select_dtypes(include=['number']).columns)\n",
    "cat_features = list(X.select_dtypes(exclude=['number']).columns)"
   ]
  },
  {
   "cell_type": "code",
   "execution_count": 9,
   "id": "39d9b1fe-e3b7-4417-9474-416a02a78516",
   "metadata": {
    "tags": []
   },
   "outputs": [],
   "source": [
    "cat_features = list(set(cat_features) - set(['info_source', 'payment_mode', 'most_impressing', 'single_male', 'single_female']))\n",
    "num_features = ['total_travelers', 'night_total', 'total_female']"
   ]
  },
  {
   "cell_type": "code",
   "execution_count": 10,
   "id": "98d8a943-62dc-4bb2-87c4-2567c8febe85",
   "metadata": {
    "tags": []
   },
   "outputs": [
    {
     "data": {
      "text/plain": [
       "(['main_activity',\n",
       "  'package_transport_tz',\n",
       "  'age_group',\n",
       "  'package_accomodation',\n",
       "  'package_insurance',\n",
       "  'package_food',\n",
       "  'country',\n",
       "  'package_sightseeing',\n",
       "  'package_transport_int',\n",
       "  'package_guided_tour',\n",
       "  'travel_with',\n",
       "  'first_trip_tz',\n",
       "  'purpose',\n",
       "  'tour_arrangement'],\n",
       " ['total_travelers', 'night_total', 'total_female'])"
      ]
     },
     "execution_count": 10,
     "metadata": {},
     "output_type": "execute_result"
    }
   ],
   "source": [
    "cat_features, num_features"
   ]
  },
  {
   "cell_type": "markdown",
   "id": "16cfbe6e-6f01-4291-93b2-c8971e4d57d8",
   "metadata": {
    "tags": []
   },
   "source": [
    "# Splitting the dataset"
   ]
  },
  {
   "cell_type": "code",
   "execution_count": 11,
   "id": "f5c82b90-cd6d-41f7-bfd7-f7d31e130edb",
   "metadata": {
    "tags": []
   },
   "outputs": [],
   "source": [
    "X_train, X_test, y_train, y_test = train_test_split(X, y, test_size=.3)#, stratify=y)#, random_state=47)"
   ]
  },
  {
   "cell_type": "markdown",
   "id": "e2d5ccf9-9596-4c3d-91df-9c0f1792fdc9",
   "metadata": {
    "tags": [],
    "toc-hr-collapsed": true
   },
   "source": [
    "# Baseline Model"
   ]
  },
  {
   "cell_type": "markdown",
   "id": "7219ea9f-e38f-4498-8be7-0043c900410c",
   "metadata": {
    "tags": []
   },
   "source": [
    "Our baseline model is just using the median of all spendings."
   ]
  },
  {
   "cell_type": "code",
   "execution_count": 12,
   "id": "9e693285-bdf8-4f17-865c-2b9383b72930",
   "metadata": {
    "tags": []
   },
   "outputs": [
    {
     "name": "stdout",
     "output_type": "stream",
     "text": [
      "Mean:   3,209.54 €\n",
      "Median: 1,482.22 €\n"
     ]
    }
   ],
   "source": [
    "print('Mean:  ', currency(df_train.total_cost_euro.mean()))\n",
    "print('Median:', currency(df_train.total_cost_euro.median()))"
   ]
  },
  {
   "cell_type": "code",
   "execution_count": 13,
   "id": "492ae180-d7a0-4b73-a5e9-581142e43f0c",
   "metadata": {
    "tags": []
   },
   "outputs": [
    {
     "data": {
      "text/plain": [
       "count     3,954.00 €\n",
       "mean      3,209.54 €\n",
       "std       4,580.58 €\n",
       "min          17.88 €\n",
       "25%         362.99 €\n",
       "50%       1,482.22 €\n",
       "75%       3,932.42 €\n",
       "max      36,329.50 €\n",
       "Name: total_cost_euro, dtype: object"
      ]
     },
     "execution_count": 13,
     "metadata": {},
     "output_type": "execute_result"
    }
   ],
   "source": [
    "df_train.total_cost_euro.describe().apply(lambda x: currency(x))"
   ]
  },
  {
   "cell_type": "code",
   "execution_count": 14,
   "id": "2159449f-8e80-4ecd-b40a-080456c20553",
   "metadata": {
    "tags": []
   },
   "outputs": [],
   "source": [
    "from sklearn.base import BaseEstimator, ClassifierMixin\n",
    "\n",
    "class BaselineClassifier(BaseEstimator, ClassifierMixin):\n",
    "    def fit(self, X, y):\n",
    "        self.majority_ = y.mode()\n",
    "        return self\n",
    "    \n",
    "    def predict(self, X):\n",
    "        return np.array(X.shape[0]*[self.majority_])"
   ]
  },
  {
   "cell_type": "code",
   "execution_count": 15,
   "id": "a86aa55e-554a-49c1-90ca-b7508df5a876",
   "metadata": {
    "tags": []
   },
   "outputs": [
    {
     "name": "stdout",
     "output_type": "stream",
     "text": [
      "Accuracy of Baseline model: 0.21\n"
     ]
    }
   ],
   "source": [
    "# build baseline model\n",
    "baseline_model = BaselineClassifier()\n",
    "baseline_model.fit(X_train, y_train)\n",
    "baseline_score = baseline_model.score(X_train, y_train)\n",
    "print(\"Accuracy of Baseline model:\", round(baseline_score, 2))"
   ]
  },
  {
   "cell_type": "markdown",
   "id": "e2e1c47a-a091-48a7-8297-0a779eb38d5c",
   "metadata": {
    "tags": []
   },
   "source": [
    "# Create a pipeline"
   ]
  },
  {
   "cell_type": "markdown",
   "id": "b5ec3025-b461-4d18-bcfd-4caf60bc2b4e",
   "metadata": {
    "tags": []
   },
   "source": [
    "## Building the pipeline"
   ]
  },
  {
   "cell_type": "code",
   "execution_count": 16,
   "id": "e5bfe17b-6e0d-4deb-a699-fa9fc04f0287",
   "metadata": {
    "tags": []
   },
   "outputs": [
    {
     "data": {
      "text/html": [
       "<style>#sk-container-id-1 {color: black;background-color: white;}#sk-container-id-1 pre{padding: 0;}#sk-container-id-1 div.sk-toggleable {background-color: white;}#sk-container-id-1 label.sk-toggleable__label {cursor: pointer;display: block;width: 100%;margin-bottom: 0;padding: 0.3em;box-sizing: border-box;text-align: center;}#sk-container-id-1 label.sk-toggleable__label-arrow:before {content: \"▸\";float: left;margin-right: 0.25em;color: #696969;}#sk-container-id-1 label.sk-toggleable__label-arrow:hover:before {color: black;}#sk-container-id-1 div.sk-estimator:hover label.sk-toggleable__label-arrow:before {color: black;}#sk-container-id-1 div.sk-toggleable__content {max-height: 0;max-width: 0;overflow: hidden;text-align: left;background-color: #f0f8ff;}#sk-container-id-1 div.sk-toggleable__content pre {margin: 0.2em;color: black;border-radius: 0.25em;background-color: #f0f8ff;}#sk-container-id-1 input.sk-toggleable__control:checked~div.sk-toggleable__content {max-height: 200px;max-width: 100%;overflow: auto;}#sk-container-id-1 input.sk-toggleable__control:checked~label.sk-toggleable__label-arrow:before {content: \"▾\";}#sk-container-id-1 div.sk-estimator input.sk-toggleable__control:checked~label.sk-toggleable__label {background-color: #d4ebff;}#sk-container-id-1 div.sk-label input.sk-toggleable__control:checked~label.sk-toggleable__label {background-color: #d4ebff;}#sk-container-id-1 input.sk-hidden--visually {border: 0;clip: rect(1px 1px 1px 1px);clip: rect(1px, 1px, 1px, 1px);height: 1px;margin: -1px;overflow: hidden;padding: 0;position: absolute;width: 1px;}#sk-container-id-1 div.sk-estimator {font-family: monospace;background-color: #f0f8ff;border: 1px dotted black;border-radius: 0.25em;box-sizing: border-box;margin-bottom: 0.5em;}#sk-container-id-1 div.sk-estimator:hover {background-color: #d4ebff;}#sk-container-id-1 div.sk-parallel-item::after {content: \"\";width: 100%;border-bottom: 1px solid gray;flex-grow: 1;}#sk-container-id-1 div.sk-label:hover label.sk-toggleable__label {background-color: #d4ebff;}#sk-container-id-1 div.sk-serial::before {content: \"\";position: absolute;border-left: 1px solid gray;box-sizing: border-box;top: 0;bottom: 0;left: 50%;z-index: 0;}#sk-container-id-1 div.sk-serial {display: flex;flex-direction: column;align-items: center;background-color: white;padding-right: 0.2em;padding-left: 0.2em;position: relative;}#sk-container-id-1 div.sk-item {position: relative;z-index: 1;}#sk-container-id-1 div.sk-parallel {display: flex;align-items: stretch;justify-content: center;background-color: white;position: relative;}#sk-container-id-1 div.sk-item::before, #sk-container-id-1 div.sk-parallel-item::before {content: \"\";position: absolute;border-left: 1px solid gray;box-sizing: border-box;top: 0;bottom: 0;left: 50%;z-index: -1;}#sk-container-id-1 div.sk-parallel-item {display: flex;flex-direction: column;z-index: 1;position: relative;background-color: white;}#sk-container-id-1 div.sk-parallel-item:first-child::after {align-self: flex-end;width: 50%;}#sk-container-id-1 div.sk-parallel-item:last-child::after {align-self: flex-start;width: 50%;}#sk-container-id-1 div.sk-parallel-item:only-child::after {width: 0;}#sk-container-id-1 div.sk-dashed-wrapped {border: 1px dashed gray;margin: 0 0.4em 0.5em 0.4em;box-sizing: border-box;padding-bottom: 0.4em;background-color: white;}#sk-container-id-1 div.sk-label label {font-family: monospace;font-weight: bold;display: inline-block;line-height: 1.2em;}#sk-container-id-1 div.sk-label-container {text-align: center;}#sk-container-id-1 div.sk-container {/* jupyter's `normalize.less` sets `[hidden] { display: none; }` but bootstrap.min.css set `[hidden] { display: none !important; }` so we also need the `!important` here to be able to override the default hidden behavior on the sphinx rendered scikit-learn.org. See: https://github.com/scikit-learn/scikit-learn/issues/21755 */display: inline-block !important;position: relative;}#sk-container-id-1 div.sk-text-repr-fallback {display: none;}</style><div id=\"sk-container-id-1\" class=\"sk-top-container\"><div class=\"sk-text-repr-fallback\"><pre>Pipeline(steps=[(&#x27;preprocessor&#x27;,\n",
       "                 ColumnTransformer(transformers=[(&#x27;num&#x27;,\n",
       "                                                  Pipeline(steps=[(&#x27;imputer&#x27;,\n",
       "                                                                   SimpleImputer(strategy=&#x27;most_frequent&#x27;)),\n",
       "                                                                  (&#x27;scaler&#x27;,\n",
       "                                                                   StandardScaler())]),\n",
       "                                                  [&#x27;total_travelers&#x27;,\n",
       "                                                   &#x27;night_total&#x27;,\n",
       "                                                   &#x27;total_female&#x27;]),\n",
       "                                                 (&#x27;cat&#x27;,\n",
       "                                                  Pipeline(steps=[(&#x27;imputer&#x27;,\n",
       "                                                                   SimpleImputer(strategy=&#x27;most_frequent&#x27;)),\n",
       "                                                                  (&#x27;encoder&#x27;,\n",
       "                                                                   OneHotEncoder(handle_unknown=&#x27;ignore&#x27;))]),\n",
       "                                                  [&#x27;main_activity&#x27;,\n",
       "                                                   &#x27;package_transport_tz&#x27;,\n",
       "                                                   &#x27;age_group&#x27;,\n",
       "                                                   &#x27;package_accomodation&#x27;,\n",
       "                                                   &#x27;package_insurance&#x27;,\n",
       "                                                   &#x27;package_food&#x27;, &#x27;country&#x27;,\n",
       "                                                   &#x27;package_sightseeing&#x27;,\n",
       "                                                   &#x27;package_transport_int&#x27;,\n",
       "                                                   &#x27;package_guided_tour&#x27;,\n",
       "                                                   &#x27;travel_with&#x27;,\n",
       "                                                   &#x27;first_trip_tz&#x27;, &#x27;purpose&#x27;,\n",
       "                                                   &#x27;tour_arrangement&#x27;])])),\n",
       "                (&#x27;classifier&#x27;,\n",
       "                 RandomForestClassifier(max_depth=10, n_estimators=50))])</pre><b>In a Jupyter environment, please rerun this cell to show the HTML representation or trust the notebook. <br />On GitHub, the HTML representation is unable to render, please try loading this page with nbviewer.org.</b></div><div class=\"sk-container\" hidden><div class=\"sk-item sk-dashed-wrapped\"><div class=\"sk-label-container\"><div class=\"sk-label sk-toggleable\"><input class=\"sk-toggleable__control sk-hidden--visually\" id=\"sk-estimator-id-1\" type=\"checkbox\" ><label for=\"sk-estimator-id-1\" class=\"sk-toggleable__label sk-toggleable__label-arrow\">Pipeline</label><div class=\"sk-toggleable__content\"><pre>Pipeline(steps=[(&#x27;preprocessor&#x27;,\n",
       "                 ColumnTransformer(transformers=[(&#x27;num&#x27;,\n",
       "                                                  Pipeline(steps=[(&#x27;imputer&#x27;,\n",
       "                                                                   SimpleImputer(strategy=&#x27;most_frequent&#x27;)),\n",
       "                                                                  (&#x27;scaler&#x27;,\n",
       "                                                                   StandardScaler())]),\n",
       "                                                  [&#x27;total_travelers&#x27;,\n",
       "                                                   &#x27;night_total&#x27;,\n",
       "                                                   &#x27;total_female&#x27;]),\n",
       "                                                 (&#x27;cat&#x27;,\n",
       "                                                  Pipeline(steps=[(&#x27;imputer&#x27;,\n",
       "                                                                   SimpleImputer(strategy=&#x27;most_frequent&#x27;)),\n",
       "                                                                  (&#x27;encoder&#x27;,\n",
       "                                                                   OneHotEncoder(handle_unknown=&#x27;ignore&#x27;))]),\n",
       "                                                  [&#x27;main_activity&#x27;,\n",
       "                                                   &#x27;package_transport_tz&#x27;,\n",
       "                                                   &#x27;age_group&#x27;,\n",
       "                                                   &#x27;package_accomodation&#x27;,\n",
       "                                                   &#x27;package_insurance&#x27;,\n",
       "                                                   &#x27;package_food&#x27;, &#x27;country&#x27;,\n",
       "                                                   &#x27;package_sightseeing&#x27;,\n",
       "                                                   &#x27;package_transport_int&#x27;,\n",
       "                                                   &#x27;package_guided_tour&#x27;,\n",
       "                                                   &#x27;travel_with&#x27;,\n",
       "                                                   &#x27;first_trip_tz&#x27;, &#x27;purpose&#x27;,\n",
       "                                                   &#x27;tour_arrangement&#x27;])])),\n",
       "                (&#x27;classifier&#x27;,\n",
       "                 RandomForestClassifier(max_depth=10, n_estimators=50))])</pre></div></div></div><div class=\"sk-serial\"><div class=\"sk-item sk-dashed-wrapped\"><div class=\"sk-label-container\"><div class=\"sk-label sk-toggleable\"><input class=\"sk-toggleable__control sk-hidden--visually\" id=\"sk-estimator-id-2\" type=\"checkbox\" ><label for=\"sk-estimator-id-2\" class=\"sk-toggleable__label sk-toggleable__label-arrow\">preprocessor: ColumnTransformer</label><div class=\"sk-toggleable__content\"><pre>ColumnTransformer(transformers=[(&#x27;num&#x27;,\n",
       "                                 Pipeline(steps=[(&#x27;imputer&#x27;,\n",
       "                                                  SimpleImputer(strategy=&#x27;most_frequent&#x27;)),\n",
       "                                                 (&#x27;scaler&#x27;, StandardScaler())]),\n",
       "                                 [&#x27;total_travelers&#x27;, &#x27;night_total&#x27;,\n",
       "                                  &#x27;total_female&#x27;]),\n",
       "                                (&#x27;cat&#x27;,\n",
       "                                 Pipeline(steps=[(&#x27;imputer&#x27;,\n",
       "                                                  SimpleImputer(strategy=&#x27;most_frequent&#x27;)),\n",
       "                                                 (&#x27;encoder&#x27;,\n",
       "                                                  OneHotEncoder(handle_unknown=&#x27;ignore&#x27;))]),\n",
       "                                 [&#x27;main_activity&#x27;, &#x27;package_transport_tz&#x27;,\n",
       "                                  &#x27;age_group&#x27;, &#x27;package_accomodation&#x27;,\n",
       "                                  &#x27;package_insurance&#x27;, &#x27;package_food&#x27;,\n",
       "                                  &#x27;country&#x27;, &#x27;package_sightseeing&#x27;,\n",
       "                                  &#x27;package_transport_int&#x27;,\n",
       "                                  &#x27;package_guided_tour&#x27;, &#x27;travel_with&#x27;,\n",
       "                                  &#x27;first_trip_tz&#x27;, &#x27;purpose&#x27;,\n",
       "                                  &#x27;tour_arrangement&#x27;])])</pre></div></div></div><div class=\"sk-parallel\"><div class=\"sk-parallel-item\"><div class=\"sk-item\"><div class=\"sk-label-container\"><div class=\"sk-label sk-toggleable\"><input class=\"sk-toggleable__control sk-hidden--visually\" id=\"sk-estimator-id-3\" type=\"checkbox\" ><label for=\"sk-estimator-id-3\" class=\"sk-toggleable__label sk-toggleable__label-arrow\">num</label><div class=\"sk-toggleable__content\"><pre>[&#x27;total_travelers&#x27;, &#x27;night_total&#x27;, &#x27;total_female&#x27;]</pre></div></div></div><div class=\"sk-serial\"><div class=\"sk-item\"><div class=\"sk-serial\"><div class=\"sk-item\"><div class=\"sk-estimator sk-toggleable\"><input class=\"sk-toggleable__control sk-hidden--visually\" id=\"sk-estimator-id-4\" type=\"checkbox\" ><label for=\"sk-estimator-id-4\" class=\"sk-toggleable__label sk-toggleable__label-arrow\">SimpleImputer</label><div class=\"sk-toggleable__content\"><pre>SimpleImputer(strategy=&#x27;most_frequent&#x27;)</pre></div></div></div><div class=\"sk-item\"><div class=\"sk-estimator sk-toggleable\"><input class=\"sk-toggleable__control sk-hidden--visually\" id=\"sk-estimator-id-5\" type=\"checkbox\" ><label for=\"sk-estimator-id-5\" class=\"sk-toggleable__label sk-toggleable__label-arrow\">StandardScaler</label><div class=\"sk-toggleable__content\"><pre>StandardScaler()</pre></div></div></div></div></div></div></div></div><div class=\"sk-parallel-item\"><div class=\"sk-item\"><div class=\"sk-label-container\"><div class=\"sk-label sk-toggleable\"><input class=\"sk-toggleable__control sk-hidden--visually\" id=\"sk-estimator-id-6\" type=\"checkbox\" ><label for=\"sk-estimator-id-6\" class=\"sk-toggleable__label sk-toggleable__label-arrow\">cat</label><div class=\"sk-toggleable__content\"><pre>[&#x27;main_activity&#x27;, &#x27;package_transport_tz&#x27;, &#x27;age_group&#x27;, &#x27;package_accomodation&#x27;, &#x27;package_insurance&#x27;, &#x27;package_food&#x27;, &#x27;country&#x27;, &#x27;package_sightseeing&#x27;, &#x27;package_transport_int&#x27;, &#x27;package_guided_tour&#x27;, &#x27;travel_with&#x27;, &#x27;first_trip_tz&#x27;, &#x27;purpose&#x27;, &#x27;tour_arrangement&#x27;]</pre></div></div></div><div class=\"sk-serial\"><div class=\"sk-item\"><div class=\"sk-serial\"><div class=\"sk-item\"><div class=\"sk-estimator sk-toggleable\"><input class=\"sk-toggleable__control sk-hidden--visually\" id=\"sk-estimator-id-7\" type=\"checkbox\" ><label for=\"sk-estimator-id-7\" class=\"sk-toggleable__label sk-toggleable__label-arrow\">SimpleImputer</label><div class=\"sk-toggleable__content\"><pre>SimpleImputer(strategy=&#x27;most_frequent&#x27;)</pre></div></div></div><div class=\"sk-item\"><div class=\"sk-estimator sk-toggleable\"><input class=\"sk-toggleable__control sk-hidden--visually\" id=\"sk-estimator-id-8\" type=\"checkbox\" ><label for=\"sk-estimator-id-8\" class=\"sk-toggleable__label sk-toggleable__label-arrow\">OneHotEncoder</label><div class=\"sk-toggleable__content\"><pre>OneHotEncoder(handle_unknown=&#x27;ignore&#x27;)</pre></div></div></div></div></div></div></div></div></div></div><div class=\"sk-item\"><div class=\"sk-estimator sk-toggleable\"><input class=\"sk-toggleable__control sk-hidden--visually\" id=\"sk-estimator-id-9\" type=\"checkbox\" ><label for=\"sk-estimator-id-9\" class=\"sk-toggleable__label sk-toggleable__label-arrow\">RandomForestClassifier</label><div class=\"sk-toggleable__content\"><pre>RandomForestClassifier(max_depth=10, n_estimators=50)</pre></div></div></div></div></div></div></div>"
      ],
      "text/plain": [
       "Pipeline(steps=[('preprocessor',\n",
       "                 ColumnTransformer(transformers=[('num',\n",
       "                                                  Pipeline(steps=[('imputer',\n",
       "                                                                   SimpleImputer(strategy='most_frequent')),\n",
       "                                                                  ('scaler',\n",
       "                                                                   StandardScaler())]),\n",
       "                                                  ['total_travelers',\n",
       "                                                   'night_total',\n",
       "                                                   'total_female']),\n",
       "                                                 ('cat',\n",
       "                                                  Pipeline(steps=[('imputer',\n",
       "                                                                   SimpleImputer(strategy='most_frequent')),\n",
       "                                                                  ('encoder',\n",
       "                                                                   OneHotEncoder(handle_unknown='ignore'))]),\n",
       "                                                  ['main_activity',\n",
       "                                                   'package_transport_tz',\n",
       "                                                   'age_group',\n",
       "                                                   'package_accomodation',\n",
       "                                                   'package_insurance',\n",
       "                                                   'package_food', 'country',\n",
       "                                                   'package_sightseeing',\n",
       "                                                   'package_transport_int',\n",
       "                                                   'package_guided_tour',\n",
       "                                                   'travel_with',\n",
       "                                                   'first_trip_tz', 'purpose',\n",
       "                                                   'tour_arrangement'])])),\n",
       "                ('classifier',\n",
       "                 RandomForestClassifier(max_depth=10, n_estimators=50))])"
      ]
     },
     "execution_count": 16,
     "metadata": {},
     "output_type": "execute_result"
    }
   ],
   "source": [
    "num_transformer = Pipeline(steps=[\n",
    "    ('imputer', SimpleImputer(strategy='most_frequent')),\n",
    "    ('scaler',  StandardScaler()),\n",
    "#    ('poly',    PolynomialFeatures(degree=10))\n",
    "])\n",
    "\n",
    "cat_transformer = Pipeline(steps=[\n",
    "    ('imputer', SimpleImputer(strategy='most_frequent')),\n",
    "    ('encoder', OneHotEncoder(handle_unknown='ignore'))\n",
    "])\n",
    "\n",
    "# Combine transformers into a preprocessor using ColumnTransformer\n",
    "preprocessor = ColumnTransformer(transformers=[\n",
    "    (\"num\", num_transformer, num_features),\n",
    "    (\"cat\", cat_transformer, cat_features),\n",
    "])\n",
    "\n",
    "# Create a Logistic Regression pipeline\n",
    "estimator = Pipeline(steps=[\n",
    "    ('preprocessor', preprocessor),\n",
    "    ('classifier',   RandomForestClassifier(max_depth=10, min_samples_leaf=1, min_samples_split=2, n_estimators=50))\n",
    "#    ('classifier',   RandomForestRegressor())\n",
    "#    ('classifier', Ridge(alpha=0.5)),\n",
    "#    ('classifier', DecisionTreeClassifier(min_samples_leaf=))\n",
    "#    ('classifier', GradientBoostingClassifier(n_estimators=100))  \n",
    "#   ('classifier',   LogisticRegression(max_iter=10_000, class_weight=\"balanced\"))\n",
    "])\n",
    "\n",
    "estimator.fit(X_train, y_train)"
   ]
  },
  {
   "cell_type": "markdown",
   "id": "ec1ff422-7ed0-4466-801c-1cd6a8726bc0",
   "metadata": {
    "tags": []
   },
   "source": [
    "## Predicting"
   ]
  },
  {
   "cell_type": "code",
   "execution_count": 17,
   "id": "115208f6-c4e2-4846-8579-4643fb6474fa",
   "metadata": {
    "tags": []
   },
   "outputs": [],
   "source": [
    "# Predict for training and test sets\n",
    "y_pred_train = estimator.predict(X_train)\n",
    "y_pred_test  = estimator.predict(X_test)"
   ]
  },
  {
   "cell_type": "markdown",
   "id": "beeeaa7a-1f45-4dbe-a7f1-cc01ae42b4cc",
   "metadata": {
    "tags": [],
    "toc-hr-collapsed": true
   },
   "source": [
    "## Evaluation"
   ]
  },
  {
   "cell_type": "markdown",
   "id": "d9c6718b-f572-45bb-80bb-b4f9fa26f621",
   "metadata": {
    "tags": []
   },
   "source": [
    "### Training set evaluation"
   ]
  },
  {
   "cell_type": "code",
   "execution_count": 18,
   "id": "921f193e-1a9f-4f7a-aab1-fbf8ad4fd69b",
   "metadata": {
    "tags": []
   },
   "outputs": [
    {
     "name": "stdout",
     "output_type": "stream",
     "text": [
      "Accuracy on train set: 0.69\n",
      "Accuracy on train set: 0.69\n",
      "              precision    recall  f1-score   support\n",
      "\n",
      "        High       0.77      0.62      0.68       547\n",
      "         Low       0.65      0.54      0.59       524\n",
      "      Medium       0.64      0.64      0.64       567\n",
      "   Very high       0.70      0.88      0.78       560\n",
      "    Very low       0.71      0.77      0.74       569\n",
      "\n",
      "    accuracy                           0.69      2767\n",
      "   macro avg       0.69      0.69      0.69      2767\n",
      "weighted avg       0.69      0.69      0.69      2767\n",
      "\n"
     ]
    },
    {
     "data": {
      "image/png": "[encoded data removed]",
      "text/plain": [
       "<Figure size 400x300 with 2 Axes>"
      ]
     },
     "metadata": {},
     "output_type": "display_data"
    }
   ],
   "source": [
    "print(\"Accuracy on train set:\", round(estimator.score(X_train, y_train), 2))\n",
    "print(\"Accuracy on train set:\", round(accuracy_score(y_train, y_pred_train), 2))\n",
    "\n",
    "print(classification_report(y_train, y_pred_train))\n",
    "\n",
    "cf_train = confusion_matrix(y_train, y_pred_train)\n",
    "sns.set(rc={\"figure.figsize\":(4, 3)})\n",
    "sns.heatmap(cf_train, annot=True, fmt=\"\", cmap='Blues', xticklabels=bin_names, yticklabels=bin_names);"
   ]
  },
  {
   "cell_type": "markdown",
   "id": "043dd2f9-31fa-466b-86d3-939dbf194c4e",
   "metadata": {},
   "source": [
    "### Test set evaluation"
   ]
  },
  {
   "cell_type": "code",
   "execution_count": 19,
   "id": "e0d7437d-10c6-4a29-b114-836d28be434f",
   "metadata": {
    "tags": []
   },
   "outputs": [
    {
     "name": "stdout",
     "output_type": "stream",
     "text": [
      "Accuracy on test set: 0.49\n",
      "Accuracy on test set: 0.49\n",
      "              precision    recall  f1-score   support\n",
      "\n",
      "        High       0.47      0.39      0.43       251\n",
      "         Low       0.38      0.24      0.30       233\n",
      "      Medium       0.42      0.45      0.44       235\n",
      "   Very high       0.55      0.76      0.64       231\n",
      "    Very low       0.58      0.63      0.61       237\n",
      "\n",
      "    accuracy                           0.49      1187\n",
      "   macro avg       0.48      0.50      0.48      1187\n",
      "weighted avg       0.48      0.49      0.48      1187\n",
      "\n"
     ]
    },
    {
     "data": {
      "image/png": "[encoded data removed]",
      "text/plain": [
       "<Figure size 400x300 with 2 Axes>"
      ]
     },
     "metadata": {},
     "output_type": "display_data"
    }
   ],
   "source": [
    "print(\"Accuracy on test set:\", round(estimator.score(X_test,  y_test), 2))\n",
    "print(\"Accuracy on test set:\", round(accuracy_score(y_test, y_pred_test), 2))\n",
    "\n",
    "print(classification_report(y_test, y_pred_test))\n",
    "\n",
    "cf_test = confusion_matrix(y_test, y_pred_test)\n",
    "sns.set(rc={\"figure.figsize\":(4, 3)})\n",
    "sns.heatmap(cf_test, annot=True, fmt=\"\", cmap='Blues', xticklabels=bin_names, yticklabels=bin_names);"
   ]
  },
  {
   "cell_type": "markdown",
   "id": "6894ab7b-e47a-4df1-be6e-265ca0f8c167",
   "metadata": {
    "tags": []
   },
   "source": [
    "## Cross Validation"
   ]
  },
  {
   "cell_type": "code",
   "execution_count": 21,
   "id": "76c85a71-f055-4c83-a0ed-0886580689b4",
   "metadata": {
    "tags": []
   },
   "outputs": [],
   "source": [
    "y_pred_test_cv = cross_val_predict(estimator, X_test, y_test, cv=4)"
   ]
  },
  {
   "cell_type": "code",
   "execution_count": 22,
   "id": "24a5ca67-894c-4584-9c84-3299636440f9",
   "metadata": {
    "tags": []
   },
   "outputs": [
    {
     "name": "stdout",
     "output_type": "stream",
     "text": [
      "Cross validation scores: 0.68\n",
      "              precision    recall  f1-score   support\n",
      "\n",
      "        High       0.47      0.47      0.47       251\n",
      "         Low       0.31      0.19      0.24       233\n",
      "      Medium       0.43      0.37      0.40       235\n",
      "   Very high       0.55      0.68      0.61       231\n",
      "    Very low       0.48      0.60      0.53       237\n",
      "\n",
      "    accuracy                           0.46      1187\n",
      "   macro avg       0.45      0.46      0.45      1187\n",
      "weighted avg       0.45      0.46      0.45      1187\n",
      "\n"
     ]
    }
   ],
   "source": [
    "cv_score = estimator.score(X_test, y_pred_test_cv)\n",
    "print(\"Cross validation scores:\", round(cv_score, 2))\n",
    "print(classification_report(y_test, y_pred_test_cv))"
   ]
  },
  {
   "cell_type": "markdown",
   "id": "09fe1179-4acd-4793-8d00-f0b6642469ee",
   "metadata": {
    "tags": []
   },
   "source": [
    "# Logistic Regression"
   ]
  },
  {
   "cell_type": "code",
   "execution_count": 23,
   "id": "6dbebf21-4f11-47d5-8a3a-0edea00625f5",
   "metadata": {
    "tags": []
   },
   "outputs": [
    {
     "data": {
      "text/html": [
       "<style>#sk-container-id-2 {color: black;background-color: white;}#sk-container-id-2 pre{padding: 0;}#sk-container-id-2 div.sk-toggleable {background-color: white;}#sk-container-id-2 label.sk-toggleable__label {cursor: pointer;display: block;width: 100%;margin-bottom: 0;padding: 0.3em;box-sizing: border-box;text-align: center;}#sk-container-id-2 label.sk-toggleable__label-arrow:before {content: \"▸\";float: left;margin-right: 0.25em;color: #696969;}#sk-container-id-2 label.sk-toggleable__label-arrow:hover:before {color: black;}#sk-container-id-2 div.sk-estimator:hover label.sk-toggleable__label-arrow:before {color: black;}#sk-container-id-2 div.sk-toggleable__content {max-height: 0;max-width: 0;overflow: hidden;text-align: left;background-color: #f0f8ff;}#sk-container-id-2 div.sk-toggleable__content pre {margin: 0.2em;color: black;border-radius: 0.25em;background-color: #f0f8ff;}#sk-container-id-2 input.sk-toggleable__control:checked~div.sk-toggleable__content {max-height: 200px;max-width: 100%;overflow: auto;}#sk-container-id-2 input.sk-toggleable__control:checked~label.sk-toggleable__label-arrow:before {content: \"▾\";}#sk-container-id-2 div.sk-estimator input.sk-toggleable__control:checked~label.sk-toggleable__label {background-color: #d4ebff;}#sk-container-id-2 div.sk-label input.sk-toggleable__control:checked~label.sk-toggleable__label {background-color: #d4ebff;}#sk-container-id-2 input.sk-hidden--visually {border: 0;clip: rect(1px 1px 1px 1px);clip: rect(1px, 1px, 1px, 1px);height: 1px;margin: -1px;overflow: hidden;padding: 0;position: absolute;width: 1px;}#sk-container-id-2 div.sk-estimator {font-family: monospace;background-color: #f0f8ff;border: 1px dotted black;border-radius: 0.25em;box-sizing: border-box;margin-bottom: 0.5em;}#sk-container-id-2 div.sk-estimator:hover {background-color: #d4ebff;}#sk-container-id-2 div.sk-parallel-item::after {content: \"\";width: 100%;border-bottom: 1px solid gray;flex-grow: 1;}#sk-container-id-2 div.sk-label:hover label.sk-toggleable__label {background-color: #d4ebff;}#sk-container-id-2 div.sk-serial::before {content: \"\";position: absolute;border-left: 1px solid gray;box-sizing: border-box;top: 0;bottom: 0;left: 50%;z-index: 0;}#sk-container-id-2 div.sk-serial {display: flex;flex-direction: column;align-items: center;background-color: white;padding-right: 0.2em;padding-left: 0.2em;position: relative;}#sk-container-id-2 div.sk-item {position: relative;z-index: 1;}#sk-container-id-2 div.sk-parallel {display: flex;align-items: stretch;justify-content: center;background-color: white;position: relative;}#sk-container-id-2 div.sk-item::before, #sk-container-id-2 div.sk-parallel-item::before {content: \"\";position: absolute;border-left: 1px solid gray;box-sizing: border-box;top: 0;bottom: 0;left: 50%;z-index: -1;}#sk-container-id-2 div.sk-parallel-item {display: flex;flex-direction: column;z-index: 1;position: relative;background-color: white;}#sk-container-id-2 div.sk-parallel-item:first-child::after {align-self: flex-end;width: 50%;}#sk-container-id-2 div.sk-parallel-item:last-child::after {align-self: flex-start;width: 50%;}#sk-container-id-2 div.sk-parallel-item:only-child::after {width: 0;}#sk-container-id-2 div.sk-dashed-wrapped {border: 1px dashed gray;margin: 0 0.4em 0.5em 0.4em;box-sizing: border-box;padding-bottom: 0.4em;background-color: white;}#sk-container-id-2 div.sk-label label {font-family: monospace;font-weight: bold;display: inline-block;line-height: 1.2em;}#sk-container-id-2 div.sk-label-container {text-align: center;}#sk-container-id-2 div.sk-container {/* jupyter's `normalize.less` sets `[hidden] { display: none; }` but bootstrap.min.css set `[hidden] { display: none !important; }` so we also need the `!important` here to be able to override the default hidden behavior on the sphinx rendered scikit-learn.org. See: https://github.com/scikit-learn/scikit-learn/issues/21755 */display: inline-block !important;position: relative;}#sk-container-id-2 div.sk-text-repr-fallback {display: none;}</style><div id=\"sk-container-id-2\" class=\"sk-top-container\"><div class=\"sk-text-repr-fallback\"><pre>Pipeline(steps=[(&#x27;preprocessor&#x27;,\n",
       "                 ColumnTransformer(transformers=[(&#x27;num&#x27;,\n",
       "                                                  Pipeline(steps=[(&#x27;imputer&#x27;,\n",
       "                                                                   SimpleImputer(strategy=&#x27;most_frequent&#x27;)),\n",
       "                                                                  (&#x27;scaler&#x27;,\n",
       "                                                                   StandardScaler())]),\n",
       "                                                  [&#x27;total_travelers&#x27;,\n",
       "                                                   &#x27;night_total&#x27;,\n",
       "                                                   &#x27;total_female&#x27;]),\n",
       "                                                 (&#x27;cat&#x27;,\n",
       "                                                  Pipeline(steps=[(&#x27;imputer&#x27;,\n",
       "                                                                   SimpleImputer(strategy=&#x27;most_frequent&#x27;)),\n",
       "                                                                  (&#x27;encoder&#x27;,\n",
       "                                                                   OneHotEncoder(handle_unknown=&#x27;ignore&#x27;))]),\n",
       "                                                  [&#x27;main_activity&#x27;,\n",
       "                                                   &#x27;package_transport_tz&#x27;,\n",
       "                                                   &#x27;age_group&#x27;,\n",
       "                                                   &#x27;package_accomodation&#x27;,\n",
       "                                                   &#x27;package_insurance&#x27;,\n",
       "                                                   &#x27;package_food&#x27;, &#x27;country&#x27;,\n",
       "                                                   &#x27;package_sightseeing&#x27;,\n",
       "                                                   &#x27;package_transport_int&#x27;,\n",
       "                                                   &#x27;package_guided_tour&#x27;,\n",
       "                                                   &#x27;travel_with&#x27;,\n",
       "                                                   &#x27;first_trip_tz&#x27;, &#x27;purpose&#x27;,\n",
       "                                                   &#x27;tour_arrangement&#x27;])])),\n",
       "                (&#x27;classifier&#x27;,\n",
       "                 LogisticRegression(class_weight=&#x27;balanced&#x27;, max_iter=10000))])</pre><b>In a Jupyter environment, please rerun this cell to show the HTML representation or trust the notebook. <br />On GitHub, the HTML representation is unable to render, please try loading this page with nbviewer.org.</b></div><div class=\"sk-container\" hidden><div class=\"sk-item sk-dashed-wrapped\"><div class=\"sk-label-container\"><div class=\"sk-label sk-toggleable\"><input class=\"sk-toggleable__control sk-hidden--visually\" id=\"sk-estimator-id-10\" type=\"checkbox\" ><label for=\"sk-estimator-id-10\" class=\"sk-toggleable__label sk-toggleable__label-arrow\">Pipeline</label><div class=\"sk-toggleable__content\"><pre>Pipeline(steps=[(&#x27;preprocessor&#x27;,\n",
       "                 ColumnTransformer(transformers=[(&#x27;num&#x27;,\n",
       "                                                  Pipeline(steps=[(&#x27;imputer&#x27;,\n",
       "                                                                   SimpleImputer(strategy=&#x27;most_frequent&#x27;)),\n",
       "                                                                  (&#x27;scaler&#x27;,\n",
       "                                                                   StandardScaler())]),\n",
       "                                                  [&#x27;total_travelers&#x27;,\n",
       "                                                   &#x27;night_total&#x27;,\n",
       "                                                   &#x27;total_female&#x27;]),\n",
       "                                                 (&#x27;cat&#x27;,\n",
       "                                                  Pipeline(steps=[(&#x27;imputer&#x27;,\n",
       "                                                                   SimpleImputer(strategy=&#x27;most_frequent&#x27;)),\n",
       "                                                                  (&#x27;encoder&#x27;,\n",
       "                                                                   OneHotEncoder(handle_unknown=&#x27;ignore&#x27;))]),\n",
       "                                                  [&#x27;main_activity&#x27;,\n",
       "                                                   &#x27;package_transport_tz&#x27;,\n",
       "                                                   &#x27;age_group&#x27;,\n",
       "                                                   &#x27;package_accomodation&#x27;,\n",
       "                                                   &#x27;package_insurance&#x27;,\n",
       "                                                   &#x27;package_food&#x27;, &#x27;country&#x27;,\n",
       "                                                   &#x27;package_sightseeing&#x27;,\n",
       "                                                   &#x27;package_transport_int&#x27;,\n",
       "                                                   &#x27;package_guided_tour&#x27;,\n",
       "                                                   &#x27;travel_with&#x27;,\n",
       "                                                   &#x27;first_trip_tz&#x27;, &#x27;purpose&#x27;,\n",
       "                                                   &#x27;tour_arrangement&#x27;])])),\n",
       "                (&#x27;classifier&#x27;,\n",
       "                 LogisticRegression(class_weight=&#x27;balanced&#x27;, max_iter=10000))])</pre></div></div></div><div class=\"sk-serial\"><div class=\"sk-item sk-dashed-wrapped\"><div class=\"sk-label-container\"><div class=\"sk-label sk-toggleable\"><input class=\"sk-toggleable__control sk-hidden--visually\" id=\"sk-estimator-id-11\" type=\"checkbox\" ><label for=\"sk-estimator-id-11\" class=\"sk-toggleable__label sk-toggleable__label-arrow\">preprocessor: ColumnTransformer</label><div class=\"sk-toggleable__content\"><pre>ColumnTransformer(transformers=[(&#x27;num&#x27;,\n",
       "                                 Pipeline(steps=[(&#x27;imputer&#x27;,\n",
       "                                                  SimpleImputer(strategy=&#x27;most_frequent&#x27;)),\n",
       "                                                 (&#x27;scaler&#x27;, StandardScaler())]),\n",
       "                                 [&#x27;total_travelers&#x27;, &#x27;night_total&#x27;,\n",
       "                                  &#x27;total_female&#x27;]),\n",
       "                                (&#x27;cat&#x27;,\n",
       "                                 Pipeline(steps=[(&#x27;imputer&#x27;,\n",
       "                                                  SimpleImputer(strategy=&#x27;most_frequent&#x27;)),\n",
       "                                                 (&#x27;encoder&#x27;,\n",
       "                                                  OneHotEncoder(handle_unknown=&#x27;ignore&#x27;))]),\n",
       "                                 [&#x27;main_activity&#x27;, &#x27;package_transport_tz&#x27;,\n",
       "                                  &#x27;age_group&#x27;, &#x27;package_accomodation&#x27;,\n",
       "                                  &#x27;package_insurance&#x27;, &#x27;package_food&#x27;,\n",
       "                                  &#x27;country&#x27;, &#x27;package_sightseeing&#x27;,\n",
       "                                  &#x27;package_transport_int&#x27;,\n",
       "                                  &#x27;package_guided_tour&#x27;, &#x27;travel_with&#x27;,\n",
       "                                  &#x27;first_trip_tz&#x27;, &#x27;purpose&#x27;,\n",
       "                                  &#x27;tour_arrangement&#x27;])])</pre></div></div></div><div class=\"sk-parallel\"><div class=\"sk-parallel-item\"><div class=\"sk-item\"><div class=\"sk-label-container\"><div class=\"sk-label sk-toggleable\"><input class=\"sk-toggleable__control sk-hidden--visually\" id=\"sk-estimator-id-12\" type=\"checkbox\" ><label for=\"sk-estimator-id-12\" class=\"sk-toggleable__label sk-toggleable__label-arrow\">num</label><div class=\"sk-toggleable__content\"><pre>[&#x27;total_travelers&#x27;, &#x27;night_total&#x27;, &#x27;total_female&#x27;]</pre></div></div></div><div class=\"sk-serial\"><div class=\"sk-item\"><div class=\"sk-serial\"><div class=\"sk-item\"><div class=\"sk-estimator sk-toggleable\"><input class=\"sk-toggleable__control sk-hidden--visually\" id=\"sk-estimator-id-13\" type=\"checkbox\" ><label for=\"sk-estimator-id-13\" class=\"sk-toggleable__label sk-toggleable__label-arrow\">SimpleImputer</label><div class=\"sk-toggleable__content\"><pre>SimpleImputer(strategy=&#x27;most_frequent&#x27;)</pre></div></div></div><div class=\"sk-item\"><div class=\"sk-estimator sk-toggleable\"><input class=\"sk-toggleable__control sk-hidden--visually\" id=\"sk-estimator-id-14\" type=\"checkbox\" ><label for=\"sk-estimator-id-14\" class=\"sk-toggleable__label sk-toggleable__label-arrow\">StandardScaler</label><div class=\"sk-toggleable__content\"><pre>StandardScaler()</pre></div></div></div></div></div></div></div></div><div class=\"sk-parallel-item\"><div class=\"sk-item\"><div class=\"sk-label-container\"><div class=\"sk-label sk-toggleable\"><input class=\"sk-toggleable__control sk-hidden--visually\" id=\"sk-estimator-id-15\" type=\"checkbox\" ><label for=\"sk-estimator-id-15\" class=\"sk-toggleable__label sk-toggleable__label-arrow\">cat</label><div class=\"sk-toggleable__content\"><pre>[&#x27;main_activity&#x27;, &#x27;package_transport_tz&#x27;, &#x27;age_group&#x27;, &#x27;package_accomodation&#x27;, &#x27;package_insurance&#x27;, &#x27;package_food&#x27;, &#x27;country&#x27;, &#x27;package_sightseeing&#x27;, &#x27;package_transport_int&#x27;, &#x27;package_guided_tour&#x27;, &#x27;travel_with&#x27;, &#x27;first_trip_tz&#x27;, &#x27;purpose&#x27;, &#x27;tour_arrangement&#x27;]</pre></div></div></div><div class=\"sk-serial\"><div class=\"sk-item\"><div class=\"sk-serial\"><div class=\"sk-item\"><div class=\"sk-estimator sk-toggleable\"><input class=\"sk-toggleable__control sk-hidden--visually\" id=\"sk-estimator-id-16\" type=\"checkbox\" ><label for=\"sk-estimator-id-16\" class=\"sk-toggleable__label sk-toggleable__label-arrow\">SimpleImputer</label><div class=\"sk-toggleable__content\"><pre>SimpleImputer(strategy=&#x27;most_frequent&#x27;)</pre></div></div></div><div class=\"sk-item\"><div class=\"sk-estimator sk-toggleable\"><input class=\"sk-toggleable__control sk-hidden--visually\" id=\"sk-estimator-id-17\" type=\"checkbox\" ><label for=\"sk-estimator-id-17\" class=\"sk-toggleable__label sk-toggleable__label-arrow\">OneHotEncoder</label><div class=\"sk-toggleable__content\"><pre>OneHotEncoder(handle_unknown=&#x27;ignore&#x27;)</pre></div></div></div></div></div></div></div></div></div></div><div class=\"sk-item\"><div class=\"sk-estimator sk-toggleable\"><input class=\"sk-toggleable__control sk-hidden--visually\" id=\"sk-estimator-id-18\" type=\"checkbox\" ><label for=\"sk-estimator-id-18\" class=\"sk-toggleable__label sk-toggleable__label-arrow\">LogisticRegression</label><div class=\"sk-toggleable__content\"><pre>LogisticRegression(class_weight=&#x27;balanced&#x27;, max_iter=10000)</pre></div></div></div></div></div></div></div>"
      ],
      "text/plain": [
       "Pipeline(steps=[('preprocessor',\n",
       "                 ColumnTransformer(transformers=[('num',\n",
       "                                                  Pipeline(steps=[('imputer',\n",
       "                                                                   SimpleImputer(strategy='most_frequent')),\n",
       "                                                                  ('scaler',\n",
       "                                                                   StandardScaler())]),\n",
       "                                                  ['total_travelers',\n",
       "                                                   'night_total',\n",
       "                                                   'total_female']),\n",
       "                                                 ('cat',\n",
       "                                                  Pipeline(steps=[('imputer',\n",
       "                                                                   SimpleImputer(strategy='most_frequent')),\n",
       "                                                                  ('encoder',\n",
       "                                                                   OneHotEncoder(handle_unknown='ignore'))]),\n",
       "                                                  ['main_activity',\n",
       "                                                   'package_transport_tz',\n",
       "                                                   'age_group',\n",
       "                                                   'package_accomodation',\n",
       "                                                   'package_insurance',\n",
       "                                                   'package_food', 'country',\n",
       "                                                   'package_sightseeing',\n",
       "                                                   'package_transport_int',\n",
       "                                                   'package_guided_tour',\n",
       "                                                   'travel_with',\n",
       "                                                   'first_trip_tz', 'purpose',\n",
       "                                                   'tour_arrangement'])])),\n",
       "                ('classifier',\n",
       "                 LogisticRegression(class_weight='balanced', max_iter=10000))])"
      ]
     },
     "execution_count": 23,
     "metadata": {},
     "output_type": "execute_result"
    }
   ],
   "source": [
    "estimator2 = Pipeline(steps=[\n",
    "   ('preprocessor', preprocessor),\n",
    "   ('classifier',   LogisticRegression(max_iter=10_000, class_weight=\"balanced\"))\n",
    "])\n",
    "\n",
    "estimator2.fit(X_train, y_train)"
   ]
  },
  {
   "cell_type": "code",
   "execution_count": 24,
   "id": "6c511273-cbe2-4b8b-8573-9bcc4a432eae",
   "metadata": {
    "tags": []
   },
   "outputs": [],
   "source": [
    "# Predict for training and test sets\n",
    "y_pred_train = estimator.predict(X_train)\n",
    "y_pred_test  = estimator.predict(X_test)"
   ]
  },
  {
   "cell_type": "code",
   "execution_count": 25,
   "id": "d0f216e3-94d7-4278-8baa-b6dc6b58c6f7",
   "metadata": {
    "tags": []
   },
   "outputs": [
    {
     "name": "stdout",
     "output_type": "stream",
     "text": [
      "Accuracy on train set: 0.69\n",
      "Accuracy on train set: 0.49\n"
     ]
    }
   ],
   "source": [
    "print(\"Accuracy on train set:\", round(estimator.score(X_train, y_train), 2))\n",
    "print(\"Accuracy on train set:\", round(estimator.score(X_test, y_test), 2))"
   ]
  },
  {
   "cell_type": "markdown",
   "id": "04e1d189-4c06-4cc7-8d4f-a8c4ec08dd0e",
   "metadata": {
    "tags": []
   },
   "source": [
    "# Grid Search"
   ]
  },
  {
   "cell_type": "code",
   "execution_count": null,
   "id": "9b017d4f-3451-43e6-a4b7-3c571c77a99a",
   "metadata": {
    "tags": []
   },
   "outputs": [],
   "source": [
    "# Define a parameter grid for GridSearchCV\n",
    "param_grid = {\n",
    "    'classifier': [\n",
    "#        DecisionTreeClassifier(),\n",
    "        RandomForestClassifier(max_depth=7, n_estimators=70, min_samples_split=10),\n",
    "#        GradientBoostingClassifier(),\n",
    "    ],\n",
    "    'classifier__n_estimators': [10, 30, 50, 70, 100],\n",
    "    'classifier__min_samples_split': [2,4,7,10],\n",
    "    'classifier__min_samples_leaf': [1,2,3,4],\n",
    "    'classifier__max_depth': [2,4,6,8,10],\n",
    "    'preprocessor__num__scaler': [StandardScaler(), MinMaxScaler()],\n",
    "}\n",
    "\n",
    "# Create GridSearchCV,\n",
    "grid_search = GridSearchCV(estimator=estimator, param_grid=param_grid, cv=3, verbose=1) # scoring='neg_mean_squared_error', #'r2', \n",
    "\n",
    "# Fit the model\n",
    "%timeit grid_search.fit(X_train, y_train)\n",
    "\n",
    "# Get the best model from the grid search\n",
    "best_model   = grid_search.best_estimator_\n",
    "best_params  = grid_search.best_params_\n",
    "\n",
    "# Make predictions\n",
    "y_pred_train = best_model.predict(X_train)\n",
    "y_pred_test  = best_model.predict(X_test)"
   ]
  },
  {
   "cell_type": "code",
   "execution_count": null,
   "id": "e8e7ed9c-9135-42ea-a86c-154d737a0f87",
   "metadata": {},
   "outputs": [],
   "source": [
    "best_model"
   ]
  },
  {
   "cell_type": "code",
   "execution_count": null,
   "id": "00d8f9fc-386b-48f8-8cd3-f92bc44a48d7",
   "metadata": {},
   "outputs": [],
   "source": [
    "best_params"
   ]
  },
  {
   "cell_type": "code",
   "execution_count": null,
   "id": "04d6efbb-aea9-4e17-9e83-ae55f04a4ece",
   "metadata": {},
   "outputs": [],
   "source": [
    "print(\"Train score: \", round(best_model.score(X_train, y_train), 2))\n",
    "print(\"Test score:  \", round(best_model.score(X_test,  y_test),  2))"
   ]
  },
  {
   "cell_type": "markdown",
   "id": "2cd471a5-0339-4138-91e2-7868d2b35666",
   "metadata": {},
   "source": [
    "# Saving the model"
   ]
  },
  {
   "cell_type": "code",
   "execution_count": null,
   "id": "8669f198-4a2e-4063-9b04-91e6426332de",
   "metadata": {
    "tags": []
   },
   "outputs": [],
   "source": [
    "from scripts.model_serializer import ModelSerializer\n",
    "\n",
    "ModelSerializer('models/best_model.sav').save(best_model)"
   ]
  },
  {
   "cell_type": "markdown",
   "id": "29f0c92b-7d7b-4c1e-b1c6-c17c4d9dc631",
   "metadata": {},
   "source": [
    "---"
   ]
  },
  {
   "cell_type": "markdown",
   "id": "3ddc3890-b611-4e03-81f3-bae9844d286d",
   "metadata": {
    "tags": []
   },
   "source": [
    "---"
   ]
  },
  {
   "cell_type": "code",
   "execution_count": null,
   "id": "c175be05-00db-4b2a-9580-3e82a14195ad",
   "metadata": {},
   "outputs": [],
   "source": []
  },
  {
   "cell_type": "code",
   "execution_count": null,
   "id": "7af2e5b5-3fcf-44e3-ad00-b0cd058f923d",
   "metadata": {},
   "outputs": [],
   "source": []
  },
  {
   "cell_type": "code",
   "execution_count": null,
   "id": "65ad8b61-492c-49f0-8a0e-3ca25bcada81",
   "metadata": {},
   "outputs": [],
   "source": []
  },
  {
   "cell_type": "code",
   "execution_count": null,
   "id": "f815033a-8dfd-41b9-b082-f37061d6ae79",
   "metadata": {},
   "outputs": [],
   "source": []
  },
  {
   "cell_type": "code",
   "execution_count": null,
   "id": "0383e493-4c45-4ee3-b77b-77a8a18f47ee",
   "metadata": {},
   "outputs": [],
   "source": []
  },
  {
   "cell_type": "code",
   "execution_count": null,
   "id": "44def806-4d9b-4cce-9840-13135b543296",
   "metadata": {},
   "outputs": [],
   "source": []
  },
  {
   "cell_type": "markdown",
   "id": "a4d81459-35f0-4b51-b1e0-6d6b841fc0cf",
   "metadata": {},
   "source": [
    "# The unused rest"
   ]
  },
  {
   "cell_type": "code",
   "execution_count": null,
   "id": "d6cb3451-f854-4601-9ebf-bae73237b611",
   "metadata": {
    "tags": []
   },
   "outputs": [],
   "source": [
    "\n",
    "# Plotting the results\n",
    "plt.figure(figsize=(8, 6))\n",
    "\n",
    "# Scatter plot of true vs. predicted values\n",
    "plt.scatter(y_test, y_pred_test, color='blue', label='Actual vs. Predicted')\n",
    "\n",
    "# Plot the identity line (y = x)\n",
    "plt.plot([min(y_test), max(y_test)], [min(y_test), max(y_test)], color='red', linestyle='--', label='Identity Line')\n",
    "\n",
    "plt.title('Regression Model: Actual vs. Predicted Values')\n",
    "plt.xlabel('True Values')\n",
    "plt.ylabel('Predicted Values')\n",
    "plt.legend()\n",
    "plt.show()"
   ]
  },
  {
   "cell_type": "code",
   "execution_count": null,
   "id": "9262feb1-03bd-45b9-a446-a3ed74bd3eee",
   "metadata": {},
   "outputs": [],
   "source": []
  }
 ],
 "metadata": {
  "kernelspec": {
   "display_name": "Python 3 (ipykernel)",
   "language": "python",
   "name": "python3"
  },
  "language_info": {
   "codemirror_mode": {
    "name": "ipython",
    "version": 3
   },
   "file_extension": ".py",
   "mimetype": "text/x-python",
   "name": "python",
   "nbconvert_exporter": "python",
   "pygments_lexer": "ipython3",
   "version": "3.11.3"
  },
  "toc-showcode": false
 },
 "nbformat": 4,
 "nbformat_minor": 5
}
