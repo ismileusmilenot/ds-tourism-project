{
 "cells": [
  {
   "cell_type": "markdown",
   "id": "fe7d5293-bec2-49de-b0cf-ccdbb793c3e7",
   "metadata": {},
   "source": [
    "# Importing Libraries"
   ]
  },
  {
   "cell_type": "code",
   "execution_count": 31,
   "id": "1634e0bc-fceb-4417-992b-22b008efdfa0",
   "metadata": {
    "tags": []
   },
   "outputs": [],
   "source": [
    "import pandas as pd\n",
    "import numpy as np\n",
    "import matplotlib.pyplot as plt\n",
    "import seaborn as sns\n",
    "\n",
    "from sklearn.pipeline import Pipeline\n",
    "from sklearn.compose import ColumnTransformer\n",
    "from sklearn.impute import SimpleImputer\n",
    "from sklearn.preprocessing import (\n",
    "    PolynomialFeatures, \n",
    "    LabelEncoder,\n",
    "    StandardScaler, \n",
    "    MinMaxScaler, \n",
    "    OneHotEncoder, \n",
    "    KBinsDiscretizer\n",
    ")\n",
    "from sklearn.linear_model import (\n",
    "    LinearRegression, \n",
    "    LogisticRegression,\n",
    "    Ridge, \n",
    "    Lasso\n",
    ")\n",
    "from sklearn.tree import (\n",
    "    DecisionTreeRegressor,\n",
    "    DecisionTreeClassifier\n",
    ")\n",
    "from sklearn.ensemble import (\n",
    "    RandomForestRegressor,\n",
    "    RandomForestClassifier,\n",
    ")   \n",
    "from sklearn.model_selection import (\n",
    "    train_test_split,\n",
    "    cross_val_predict,\n",
    "    GridSearchCV,\n",
    ")\n",
    "from sklearn.metrics import (\n",
    "    mean_absolute_percentage_error,\n",
    "    mean_absolute_error, \n",
    "    mean_squared_error, \n",
    "    r2_score, \n",
    "    confusion_matrix, \n",
    "    accuracy_score, \n",
    "    classification_report,\n",
    "    recall_score,\n",
    "    precision_score\n",
    ")\n",
    "\n",
    "\n",
    "from scripts.clean_dataset import clean_dataset\n",
    "from scripts.helper import currency, cal_accuracy\n"
   ]
  },
  {
   "cell_type": "markdown",
   "id": "bd997e6f-b372-479f-8bea-94e85673b0a5",
   "metadata": {
    "toc-hr-collapsed": true
   },
   "source": [
    "# Importing the cleaned dataset"
   ]
  },
  {
   "cell_type": "code",
   "execution_count": 2,
   "id": "7b3bf664-0d75-4c29-a2d4-431dab4568fa",
   "metadata": {
    "tags": []
   },
   "outputs": [],
   "source": [
    "df_train = pd.read_csv('data/Train_cleaned.csv')\n",
    "#df_train = pd.read_csv('data/Train_cleaned_log_transformed.csv')\n",
    "#df_test  = pd.read_csv('data/Test.csv')\n",
    "#df_test  = clean_dataset(df_test)"
   ]
  },
  {
   "cell_type": "code",
   "execution_count": 3,
   "id": "26064d66-aa1c-4021-b0a0-f64d108639a5",
   "metadata": {
    "tags": []
   },
   "outputs": [
    {
     "data": {
      "text/plain": [
       "(3099, 27)"
      ]
     },
     "execution_count": 3,
     "metadata": {},
     "output_type": "execute_result"
    }
   ],
   "source": [
    "df_train.shape"
   ]
  },
  {
   "cell_type": "markdown",
   "id": "ed84d88c-3fd6-471d-9eaa-2849542f1ce9",
   "metadata": {},
   "source": [
    "## Categorization of total_cost (manually)"
   ]
  },
  {
   "cell_type": "code",
   "execution_count": 4,
   "id": "283b3796-3aed-429a-8759-4988b956c63a",
   "metadata": {
    "tags": []
   },
   "outputs": [],
   "source": [
    "#bin_edges  = [0, 500, 1500, 5000, float('inf')]\n",
    "#bin_labels = ['Low', 'Medium', 'High', 'Very High']\n",
    "\n",
    "# Create a new column 'cost_category' based on the binning\n",
    "#df_train['total_cost_category'] = pd.cut(\n",
    "#    df_train['total_cost_euro'], \n",
    "#    bins=bin_edges, \n",
    "#    labels=bin_labels, \n",
    "#    right=False,\n",
    "#    include_lowest=True,\n",
    "#)"
   ]
  },
  {
   "cell_type": "markdown",
   "id": "2676a7c0-a266-48c7-93a3-7afe590fd125",
   "metadata": {},
   "source": [
    "## Categorization of total_cost (using KBins)"
   ]
  },
  {
   "cell_type": "code",
   "execution_count": 5,
   "id": "8851ab36-70cd-46a3-8d2b-2b450de06a88",
   "metadata": {
    "tags": []
   },
   "outputs": [],
   "source": [
    "kbins = KBinsDiscretizer(\n",
    "    n_bins=5,\n",
    "    encode='onehot-dense', # onehot, onehoe-dense, ordinal\n",
    "    strategy='quantile',   # kmeans, uniform, quantile\n",
    ")\n",
    "bin_data  = kbins.fit_transform(df_train[['total_cost_euro']])\n",
    "bin_names = ['very low', 'low', 'medium', 'high', 'very high']\n",
    "bin_edges = kbins.bin_edges_[0].round()\n",
    "\n",
    "# Apply pd.cut with custom bin edges to start the first bin at zero\n",
    "bin_edges = np.concatenate(([0], bin_edges[1:]))\n",
    "\n",
    "df_train['total_cost_category'] = pd.cut(\n",
    "    df_train['total_cost_euro'], \n",
    "    bins=bin_edges, \n",
    "    labels=bin_names, \n",
    "    include_lowest=True,\n",
    ")"
   ]
  },
  {
   "cell_type": "code",
   "execution_count": 6,
   "id": "33b4cba5-780f-402b-b49a-2a4746cddf81",
   "metadata": {
    "tags": []
   },
   "outputs": [
    {
     "name": "stdout",
     "output_type": "stream",
     "text": [
      "very low         0.00 € - 208.00 €       \n",
      "low             208.00 € - 708.00 €      \n",
      "medium         708.00 € - 1,976.00 €     \n",
      "high          1,976.00 € - 4,537.00 €    \n",
      "very high     4,537.00 € - 36,330.00 €   \n"
     ]
    }
   ],
   "source": [
    "# show the bins\n",
    "for i in range(len(bin_names)):\n",
    "    print(bin_names[i].ljust(10), f\"{currency(bin_edges[i])} - {currency(bin_edges[i+1])}\".center(30))"
   ]
  },
  {
   "cell_type": "markdown",
   "id": "8f4514e7-6958-48fd-9026-e7c6cdc531e4",
   "metadata": {
    "toc-hr-collapsed": true
   },
   "source": [
    "# Target and Features"
   ]
  },
  {
   "cell_type": "code",
   "execution_count": 7,
   "id": "71d440c0-a5a1-4194-90f9-c17a4abc3ab6",
   "metadata": {
    "tags": []
   },
   "outputs": [],
   "source": [
    "# Target:\n",
    "y = df_train['total_cost_category']\n",
    "# Features:\n",
    "X = df_train.drop([\n",
    "    'total_cost', 'total_cost_euro', 'total_cost_category', \n",
    "], axis=1)"
   ]
  },
  {
   "cell_type": "markdown",
   "id": "a81835de-853f-4554-8902-c794f4feeef8",
   "metadata": {
    "tags": []
   },
   "source": [
    "## Seperate numerical and categorical features"
   ]
  },
  {
   "cell_type": "code",
   "execution_count": 9,
   "id": "565f6ed8-9d6d-4bd0-b5d1-77fa0a5cb2f0",
   "metadata": {},
   "outputs": [],
   "source": [
    "num_features = list(X.select_dtypes(include=['number']).columns)\n",
    "cat_features = list(X.select_dtypes(include=['object']).columns)"
   ]
  },
  {
   "cell_type": "code",
   "execution_count": 13,
   "id": "39d9b1fe-e3b7-4417-9474-416a02a78516",
   "metadata": {
    "tags": []
   },
   "outputs": [],
   "source": [
    "cat_features = list(set(cat_features) - set(['info_source', 'payment_mode', 'most_impressing']))\n",
    "num_features = ['total_travelers', 'night_total', 'total_female']"
   ]
  },
  {
   "cell_type": "code",
   "execution_count": null,
   "id": "502b61f3-5503-4a2c-b4d5-29633f9cd5cf",
   "metadata": {
    "tags": []
   },
   "outputs": [],
   "source": [
    "#num_features = ['total_travelers', 'night_total', 'total_female']\n",
    "#cat_features = ['country', 'age_group', 'travel_with', 'main_activity', 'tour_arrangement', 'purpose']"
   ]
  },
  {
   "cell_type": "code",
   "execution_count": 14,
   "id": "3bf3ea04-6bb0-4bb2-811f-03da5e67db4a",
   "metadata": {
    "tags": []
   },
   "outputs": [
    {
     "data": {
      "text/plain": [
       "(['tour_arrangement',\n",
       "  'purpose',\n",
       "  'age_group',\n",
       "  'country',\n",
       "  'main_activity',\n",
       "  'travel_with'],\n",
       " ['total_travelers', 'night_total', 'total_female'])"
      ]
     },
     "execution_count": 14,
     "metadata": {},
     "output_type": "execute_result"
    }
   ],
   "source": [
    "cat_features, num_features"
   ]
  },
  {
   "cell_type": "markdown",
   "id": "16cfbe6e-6f01-4291-93b2-c8971e4d57d8",
   "metadata": {
    "tags": []
   },
   "source": [
    "# Splitting the dataset"
   ]
  },
  {
   "cell_type": "code",
   "execution_count": 15,
   "id": "f5c82b90-cd6d-41f7-bfd7-f7d31e130edb",
   "metadata": {
    "tags": []
   },
   "outputs": [],
   "source": [
    "X_train, X_test, y_train, y_test = train_test_split(X, y, test_size=.2, stratify=y)#, random_state=47)"
   ]
  },
  {
   "cell_type": "markdown",
   "id": "e2d5ccf9-9596-4c3d-91df-9c0f1792fdc9",
   "metadata": {
    "tags": [],
    "toc-hr-collapsed": true
   },
   "source": [
    "# Baseline Model"
   ]
  },
  {
   "cell_type": "markdown",
   "id": "f26aecda-f510-4d45-8f29-7567f94bd8b4",
   "metadata": {
    "tags": []
   },
   "source": [
    "Given our target variable ('total_cost') is a continuous variable, this is a regression problem. "
   ]
  },
  {
   "cell_type": "code",
   "execution_count": 17,
   "id": "9e693285-bdf8-4f17-865c-2b9383b72930",
   "metadata": {
    "tags": []
   },
   "outputs": [
    {
     "name": "stdout",
     "output_type": "stream",
     "text": [
      "Mean:   2,958.33 €\n",
      "Median: 1,209.97 €\n"
     ]
    }
   ],
   "source": [
    "print('Mean:  ', currency(df_train.total_cost_euro.mean()))\n",
    "print('Median:', currency(df_train.total_cost_euro.median()))"
   ]
  },
  {
   "cell_type": "code",
   "execution_count": 18,
   "id": "492ae180-d7a0-4b73-a5e9-581142e43f0c",
   "metadata": {
    "tags": []
   },
   "outputs": [
    {
     "data": {
      "text/plain": [
       "count     3,099.00 €\n",
       "mean      2,958.33 €\n",
       "std       4,396.78 €\n",
       "min          17.88 €\n",
       "25%         302.49 €\n",
       "50%       1,209.97 €\n",
       "75%       3,629.92 €\n",
       "max      36,329.50 €\n",
       "Name: total_cost_euro, dtype: object"
      ]
     },
     "execution_count": 18,
     "metadata": {},
     "output_type": "execute_result"
    }
   ],
   "source": [
    "df_train.total_cost_euro.describe().apply(lambda x: currency(x))"
   ]
  },
  {
   "cell_type": "markdown",
   "id": "e2e1c47a-a091-48a7-8297-0a779eb38d5c",
   "metadata": {
    "tags": []
   },
   "source": [
    "# Create a pipeline"
   ]
  },
  {
   "cell_type": "markdown",
   "id": "b5ec3025-b461-4d18-bcfd-4caf60bc2b4e",
   "metadata": {
    "tags": []
   },
   "source": [
    "## Building the pipeline"
   ]
  },
  {
   "cell_type": "code",
   "execution_count": 38,
   "id": "e5bfe17b-6e0d-4deb-a699-fa9fc04f0287",
   "metadata": {
    "tags": []
   },
   "outputs": [
    {
     "data": {
      "text/html": [
       "<style>#sk-container-id-4 {color: black;background-color: white;}#sk-container-id-4 pre{padding: 0;}#sk-container-id-4 div.sk-toggleable {background-color: white;}#sk-container-id-4 label.sk-toggleable__label {cursor: pointer;display: block;width: 100%;margin-bottom: 0;padding: 0.3em;box-sizing: border-box;text-align: center;}#sk-container-id-4 label.sk-toggleable__label-arrow:before {content: \"▸\";float: left;margin-right: 0.25em;color: #696969;}#sk-container-id-4 label.sk-toggleable__label-arrow:hover:before {color: black;}#sk-container-id-4 div.sk-estimator:hover label.sk-toggleable__label-arrow:before {color: black;}#sk-container-id-4 div.sk-toggleable__content {max-height: 0;max-width: 0;overflow: hidden;text-align: left;background-color: #f0f8ff;}#sk-container-id-4 div.sk-toggleable__content pre {margin: 0.2em;color: black;border-radius: 0.25em;background-color: #f0f8ff;}#sk-container-id-4 input.sk-toggleable__control:checked~div.sk-toggleable__content {max-height: 200px;max-width: 100%;overflow: auto;}#sk-container-id-4 input.sk-toggleable__control:checked~label.sk-toggleable__label-arrow:before {content: \"▾\";}#sk-container-id-4 div.sk-estimator input.sk-toggleable__control:checked~label.sk-toggleable__label {background-color: #d4ebff;}#sk-container-id-4 div.sk-label input.sk-toggleable__control:checked~label.sk-toggleable__label {background-color: #d4ebff;}#sk-container-id-4 input.sk-hidden--visually {border: 0;clip: rect(1px 1px 1px 1px);clip: rect(1px, 1px, 1px, 1px);height: 1px;margin: -1px;overflow: hidden;padding: 0;position: absolute;width: 1px;}#sk-container-id-4 div.sk-estimator {font-family: monospace;background-color: #f0f8ff;border: 1px dotted black;border-radius: 0.25em;box-sizing: border-box;margin-bottom: 0.5em;}#sk-container-id-4 div.sk-estimator:hover {background-color: #d4ebff;}#sk-container-id-4 div.sk-parallel-item::after {content: \"\";width: 100%;border-bottom: 1px solid gray;flex-grow: 1;}#sk-container-id-4 div.sk-label:hover label.sk-toggleable__label {background-color: #d4ebff;}#sk-container-id-4 div.sk-serial::before {content: \"\";position: absolute;border-left: 1px solid gray;box-sizing: border-box;top: 0;bottom: 0;left: 50%;z-index: 0;}#sk-container-id-4 div.sk-serial {display: flex;flex-direction: column;align-items: center;background-color: white;padding-right: 0.2em;padding-left: 0.2em;position: relative;}#sk-container-id-4 div.sk-item {position: relative;z-index: 1;}#sk-container-id-4 div.sk-parallel {display: flex;align-items: stretch;justify-content: center;background-color: white;position: relative;}#sk-container-id-4 div.sk-item::before, #sk-container-id-4 div.sk-parallel-item::before {content: \"\";position: absolute;border-left: 1px solid gray;box-sizing: border-box;top: 0;bottom: 0;left: 50%;z-index: -1;}#sk-container-id-4 div.sk-parallel-item {display: flex;flex-direction: column;z-index: 1;position: relative;background-color: white;}#sk-container-id-4 div.sk-parallel-item:first-child::after {align-self: flex-end;width: 50%;}#sk-container-id-4 div.sk-parallel-item:last-child::after {align-self: flex-start;width: 50%;}#sk-container-id-4 div.sk-parallel-item:only-child::after {width: 0;}#sk-container-id-4 div.sk-dashed-wrapped {border: 1px dashed gray;margin: 0 0.4em 0.5em 0.4em;box-sizing: border-box;padding-bottom: 0.4em;background-color: white;}#sk-container-id-4 div.sk-label label {font-family: monospace;font-weight: bold;display: inline-block;line-height: 1.2em;}#sk-container-id-4 div.sk-label-container {text-align: center;}#sk-container-id-4 div.sk-container {/* jupyter's `normalize.less` sets `[hidden] { display: none; }` but bootstrap.min.css set `[hidden] { display: none !important; }` so we also need the `!important` here to be able to override the default hidden behavior on the sphinx rendered scikit-learn.org. See: https://github.com/scikit-learn/scikit-learn/issues/21755 */display: inline-block !important;position: relative;}#sk-container-id-4 div.sk-text-repr-fallback {display: none;}</style><div id=\"sk-container-id-4\" class=\"sk-top-container\"><div class=\"sk-text-repr-fallback\"><pre>Pipeline(steps=[(&#x27;preprocessor&#x27;,\n",
       "                 ColumnTransformer(transformers=[(&#x27;num&#x27;,\n",
       "                                                  Pipeline(steps=[(&#x27;imputer&#x27;,\n",
       "                                                                   SimpleImputer(strategy=&#x27;most_frequent&#x27;)),\n",
       "                                                                  (&#x27;scaler&#x27;,\n",
       "                                                                   StandardScaler()),\n",
       "                                                                  (&#x27;poly&#x27;,\n",
       "                                                                   PolynomialFeatures(degree=10))]),\n",
       "                                                  [&#x27;total_travelers&#x27;,\n",
       "                                                   &#x27;night_total&#x27;,\n",
       "                                                   &#x27;total_female&#x27;]),\n",
       "                                                 (&#x27;cat&#x27;,\n",
       "                                                  Pipeline(steps=[(&#x27;imputer&#x27;,\n",
       "                                                                   SimpleImputer(strategy=&#x27;most_frequent&#x27;)),\n",
       "                                                                  (&#x27;encoder&#x27;,\n",
       "                                                                   OneHotEncoder(handle_unknown=&#x27;ignore&#x27;))]),\n",
       "                                                  [&#x27;tour_arrangement&#x27;,\n",
       "                                                   &#x27;purpose&#x27;, &#x27;age_group&#x27;,\n",
       "                                                   &#x27;country&#x27;, &#x27;main_activity&#x27;,\n",
       "                                                   &#x27;travel_with&#x27;])])),\n",
       "                (&#x27;classifier&#x27;, RandomForestClassifier())])</pre><b>In a Jupyter environment, please rerun this cell to show the HTML representation or trust the notebook. <br />On GitHub, the HTML representation is unable to render, please try loading this page with nbviewer.org.</b></div><div class=\"sk-container\" hidden><div class=\"sk-item sk-dashed-wrapped\"><div class=\"sk-label-container\"><div class=\"sk-label sk-toggleable\"><input class=\"sk-toggleable__control sk-hidden--visually\" id=\"sk-estimator-id-31\" type=\"checkbox\" ><label for=\"sk-estimator-id-31\" class=\"sk-toggleable__label sk-toggleable__label-arrow\">Pipeline</label><div class=\"sk-toggleable__content\"><pre>Pipeline(steps=[(&#x27;preprocessor&#x27;,\n",
       "                 ColumnTransformer(transformers=[(&#x27;num&#x27;,\n",
       "                                                  Pipeline(steps=[(&#x27;imputer&#x27;,\n",
       "                                                                   SimpleImputer(strategy=&#x27;most_frequent&#x27;)),\n",
       "                                                                  (&#x27;scaler&#x27;,\n",
       "                                                                   StandardScaler()),\n",
       "                                                                  (&#x27;poly&#x27;,\n",
       "                                                                   PolynomialFeatures(degree=10))]),\n",
       "                                                  [&#x27;total_travelers&#x27;,\n",
       "                                                   &#x27;night_total&#x27;,\n",
       "                                                   &#x27;total_female&#x27;]),\n",
       "                                                 (&#x27;cat&#x27;,\n",
       "                                                  Pipeline(steps=[(&#x27;imputer&#x27;,\n",
       "                                                                   SimpleImputer(strategy=&#x27;most_frequent&#x27;)),\n",
       "                                                                  (&#x27;encoder&#x27;,\n",
       "                                                                   OneHotEncoder(handle_unknown=&#x27;ignore&#x27;))]),\n",
       "                                                  [&#x27;tour_arrangement&#x27;,\n",
       "                                                   &#x27;purpose&#x27;, &#x27;age_group&#x27;,\n",
       "                                                   &#x27;country&#x27;, &#x27;main_activity&#x27;,\n",
       "                                                   &#x27;travel_with&#x27;])])),\n",
       "                (&#x27;classifier&#x27;, RandomForestClassifier())])</pre></div></div></div><div class=\"sk-serial\"><div class=\"sk-item sk-dashed-wrapped\"><div class=\"sk-label-container\"><div class=\"sk-label sk-toggleable\"><input class=\"sk-toggleable__control sk-hidden--visually\" id=\"sk-estimator-id-32\" type=\"checkbox\" ><label for=\"sk-estimator-id-32\" class=\"sk-toggleable__label sk-toggleable__label-arrow\">preprocessor: ColumnTransformer</label><div class=\"sk-toggleable__content\"><pre>ColumnTransformer(transformers=[(&#x27;num&#x27;,\n",
       "                                 Pipeline(steps=[(&#x27;imputer&#x27;,\n",
       "                                                  SimpleImputer(strategy=&#x27;most_frequent&#x27;)),\n",
       "                                                 (&#x27;scaler&#x27;, StandardScaler()),\n",
       "                                                 (&#x27;poly&#x27;,\n",
       "                                                  PolynomialFeatures(degree=10))]),\n",
       "                                 [&#x27;total_travelers&#x27;, &#x27;night_total&#x27;,\n",
       "                                  &#x27;total_female&#x27;]),\n",
       "                                (&#x27;cat&#x27;,\n",
       "                                 Pipeline(steps=[(&#x27;imputer&#x27;,\n",
       "                                                  SimpleImputer(strategy=&#x27;most_frequent&#x27;)),\n",
       "                                                 (&#x27;encoder&#x27;,\n",
       "                                                  OneHotEncoder(handle_unknown=&#x27;ignore&#x27;))]),\n",
       "                                 [&#x27;tour_arrangement&#x27;, &#x27;purpose&#x27;, &#x27;age_group&#x27;,\n",
       "                                  &#x27;country&#x27;, &#x27;main_activity&#x27;, &#x27;travel_with&#x27;])])</pre></div></div></div><div class=\"sk-parallel\"><div class=\"sk-parallel-item\"><div class=\"sk-item\"><div class=\"sk-label-container\"><div class=\"sk-label sk-toggleable\"><input class=\"sk-toggleable__control sk-hidden--visually\" id=\"sk-estimator-id-33\" type=\"checkbox\" ><label for=\"sk-estimator-id-33\" class=\"sk-toggleable__label sk-toggleable__label-arrow\">num</label><div class=\"sk-toggleable__content\"><pre>[&#x27;total_travelers&#x27;, &#x27;night_total&#x27;, &#x27;total_female&#x27;]</pre></div></div></div><div class=\"sk-serial\"><div class=\"sk-item\"><div class=\"sk-serial\"><div class=\"sk-item\"><div class=\"sk-estimator sk-toggleable\"><input class=\"sk-toggleable__control sk-hidden--visually\" id=\"sk-estimator-id-34\" type=\"checkbox\" ><label for=\"sk-estimator-id-34\" class=\"sk-toggleable__label sk-toggleable__label-arrow\">SimpleImputer</label><div class=\"sk-toggleable__content\"><pre>SimpleImputer(strategy=&#x27;most_frequent&#x27;)</pre></div></div></div><div class=\"sk-item\"><div class=\"sk-estimator sk-toggleable\"><input class=\"sk-toggleable__control sk-hidden--visually\" id=\"sk-estimator-id-35\" type=\"checkbox\" ><label for=\"sk-estimator-id-35\" class=\"sk-toggleable__label sk-toggleable__label-arrow\">StandardScaler</label><div class=\"sk-toggleable__content\"><pre>StandardScaler()</pre></div></div></div><div class=\"sk-item\"><div class=\"sk-estimator sk-toggleable\"><input class=\"sk-toggleable__control sk-hidden--visually\" id=\"sk-estimator-id-36\" type=\"checkbox\" ><label for=\"sk-estimator-id-36\" class=\"sk-toggleable__label sk-toggleable__label-arrow\">PolynomialFeatures</label><div class=\"sk-toggleable__content\"><pre>PolynomialFeatures(degree=10)</pre></div></div></div></div></div></div></div></div><div class=\"sk-parallel-item\"><div class=\"sk-item\"><div class=\"sk-label-container\"><div class=\"sk-label sk-toggleable\"><input class=\"sk-toggleable__control sk-hidden--visually\" id=\"sk-estimator-id-37\" type=\"checkbox\" ><label for=\"sk-estimator-id-37\" class=\"sk-toggleable__label sk-toggleable__label-arrow\">cat</label><div class=\"sk-toggleable__content\"><pre>[&#x27;tour_arrangement&#x27;, &#x27;purpose&#x27;, &#x27;age_group&#x27;, &#x27;country&#x27;, &#x27;main_activity&#x27;, &#x27;travel_with&#x27;]</pre></div></div></div><div class=\"sk-serial\"><div class=\"sk-item\"><div class=\"sk-serial\"><div class=\"sk-item\"><div class=\"sk-estimator sk-toggleable\"><input class=\"sk-toggleable__control sk-hidden--visually\" id=\"sk-estimator-id-38\" type=\"checkbox\" ><label for=\"sk-estimator-id-38\" class=\"sk-toggleable__label sk-toggleable__label-arrow\">SimpleImputer</label><div class=\"sk-toggleable__content\"><pre>SimpleImputer(strategy=&#x27;most_frequent&#x27;)</pre></div></div></div><div class=\"sk-item\"><div class=\"sk-estimator sk-toggleable\"><input class=\"sk-toggleable__control sk-hidden--visually\" id=\"sk-estimator-id-39\" type=\"checkbox\" ><label for=\"sk-estimator-id-39\" class=\"sk-toggleable__label sk-toggleable__label-arrow\">OneHotEncoder</label><div class=\"sk-toggleable__content\"><pre>OneHotEncoder(handle_unknown=&#x27;ignore&#x27;)</pre></div></div></div></div></div></div></div></div></div></div><div class=\"sk-item\"><div class=\"sk-estimator sk-toggleable\"><input class=\"sk-toggleable__control sk-hidden--visually\" id=\"sk-estimator-id-40\" type=\"checkbox\" ><label for=\"sk-estimator-id-40\" class=\"sk-toggleable__label sk-toggleable__label-arrow\">RandomForestClassifier</label><div class=\"sk-toggleable__content\"><pre>RandomForestClassifier()</pre></div></div></div></div></div></div></div>"
      ],
      "text/plain": [
       "Pipeline(steps=[('preprocessor',\n",
       "                 ColumnTransformer(transformers=[('num',\n",
       "                                                  Pipeline(steps=[('imputer',\n",
       "                                                                   SimpleImputer(strategy='most_frequent')),\n",
       "                                                                  ('scaler',\n",
       "                                                                   StandardScaler()),\n",
       "                                                                  ('poly',\n",
       "                                                                   PolynomialFeatures(degree=10))]),\n",
       "                                                  ['total_travelers',\n",
       "                                                   'night_total',\n",
       "                                                   'total_female']),\n",
       "                                                 ('cat',\n",
       "                                                  Pipeline(steps=[('imputer',\n",
       "                                                                   SimpleImputer(strategy='most_frequent')),\n",
       "                                                                  ('encoder',\n",
       "                                                                   OneHotEncoder(handle_unknown='ignore'))]),\n",
       "                                                  ['tour_arrangement',\n",
       "                                                   'purpose', 'age_group',\n",
       "                                                   'country', 'main_activity',\n",
       "                                                   'travel_with'])])),\n",
       "                ('classifier', RandomForestClassifier())])"
      ]
     },
     "execution_count": 38,
     "metadata": {},
     "output_type": "execute_result"
    }
   ],
   "source": [
    "num_transformer = Pipeline(steps=[\n",
    "    ('imputer', SimpleImputer(strategy='most_frequent')),\n",
    "    ('scaler',  StandardScaler()),\n",
    "    ('poly',    PolynomialFeatures(degree=10))\n",
    "])\n",
    "\n",
    "cat_transformer = Pipeline(steps=[\n",
    "    ('imputer', SimpleImputer(strategy='most_frequent')),\n",
    "    ('encoder', OneHotEncoder(handle_unknown='ignore'))\n",
    "])\n",
    "\n",
    "# Combine transformers into a preprocessor using ColumnTransformer\n",
    "preprocessor = ColumnTransformer(transformers=[\n",
    "    (\"num\", num_transformer, num_features),\n",
    "    (\"cat\", cat_transformer, cat_features),\n",
    "])\n",
    "\n",
    "# Create a Logistic Regression pipeline\n",
    "estimator = Pipeline(steps=[\n",
    "    ('preprocessor', preprocessor),\n",
    "   # ('classifier',   LogisticRegression(max_iter=10_000, class_weight=\"balanced\"))\n",
    "    ('classifier',   RandomForestClassifier())\n",
    "#    ('classifier', Ridge(alpha=0.5)),\n",
    "#    ('classifier', DecisionTreeClassifier())\n",
    "\n",
    "])\n",
    "\n",
    "estimator.fit(X_train, y_train)"
   ]
  },
  {
   "cell_type": "markdown",
   "id": "ec1ff422-7ed0-4466-801c-1cd6a8726bc0",
   "metadata": {
    "tags": []
   },
   "source": [
    "## Predicting"
   ]
  },
  {
   "cell_type": "code",
   "execution_count": 39,
   "id": "115208f6-c4e2-4846-8579-4643fb6474fa",
   "metadata": {
    "tags": []
   },
   "outputs": [],
   "source": [
    "# Predict for training and test sets\n",
    "y_pred_train = estimator.predict(X_train)\n",
    "y_pred_test  = estimator.predict(X_test)"
   ]
  },
  {
   "cell_type": "markdown",
   "id": "beeeaa7a-1f45-4dbe-a7f1-cc01ae42b4cc",
   "metadata": {
    "tags": [],
    "toc-hr-collapsed": true
   },
   "source": [
    "## Evaluation"
   ]
  },
  {
   "cell_type": "markdown",
   "id": "d9c6718b-f572-45bb-80bb-b4f9fa26f621",
   "metadata": {
    "tags": []
   },
   "source": [
    "### Training set evaluation"
   ]
  },
  {
   "cell_type": "code",
   "execution_count": 36,
   "id": "921f193e-1a9f-4f7a-aab1-fbf8ad4fd69b",
   "metadata": {
    "tags": []
   },
   "outputs": [
    {
     "name": "stdout",
     "output_type": "stream",
     "text": [
      "Accuracy on train set: 0.92\n",
      "Accuracy on train set: 0.92\n",
      "              precision    recall  f1-score   support\n",
      "\n",
      "        high       0.92      0.90      0.91       494\n",
      "         low       0.94      0.89      0.92       499\n",
      "      medium       0.93      0.91      0.92       494\n",
      "   very high       0.89      0.95      0.92       498\n",
      "    very low       0.92      0.94      0.93       494\n",
      "\n",
      "    accuracy                           0.92      2479\n",
      "   macro avg       0.92      0.92      0.92      2479\n",
      "weighted avg       0.92      0.92      0.92      2479\n",
      "\n"
     ]
    },
    {
     "data": {
      "image/png": "[encoded data removed]",
      "text/plain": [
       "<Figure size 400x300 with 2 Axes>"
      ]
     },
     "metadata": {},
     "output_type": "display_data"
    }
   ],
   "source": [
    "train_score  = estimator.score(X_train, y_train)\n",
    "print(\"Accuracy on train set:\", round(train_score, 2))\n",
    "print(\"Accuracy on train set:\", round(accuracy_score(y_train, y_pred_train), 2))\n",
    "print(classification_report(y_train, y_pred_train))\n",
    "cf_train = confusion_matrix(y_train, y_pred_train)\n",
    "sns.set(rc={\"figure.figsize\":(4, 3)})\n",
    "sns.heatmap(cf_train, annot=True, fmt=\"\", cmap='Blues', xticklabels=bin_names, yticklabels=bin_names);"
   ]
  },
  {
   "cell_type": "markdown",
   "id": "043dd2f9-31fa-466b-86d3-939dbf194c4e",
   "metadata": {},
   "source": [
    "### Test set evaluation"
   ]
  },
  {
   "cell_type": "code",
   "execution_count": 35,
   "id": "e0d7437d-10c6-4a29-b114-836d28be434f",
   "metadata": {
    "tags": []
   },
   "outputs": [
    {
     "name": "stdout",
     "output_type": "stream",
     "text": [
      "Accuracy on test set: 0.46\n",
      "Accuracy on test set: 0.46\n",
      "              precision    recall  f1-score   support\n",
      "\n",
      "        high       0.47      0.45      0.46       124\n",
      "         low       0.35      0.26      0.30       125\n",
      "      medium       0.39      0.38      0.39       123\n",
      "   very high       0.56      0.67      0.61       124\n",
      "    very low       0.48      0.54      0.51       124\n",
      "\n",
      "    accuracy                           0.46       620\n",
      "   macro avg       0.45      0.46      0.45       620\n",
      "weighted avg       0.45      0.46      0.45       620\n",
      "\n"
     ]
    },
    {
     "data": {
      "image/png": "[encoded data removed]",
      "text/plain": [
       "<Figure size 400x300 with 2 Axes>"
      ]
     },
     "metadata": {},
     "output_type": "display_data"
    }
   ],
   "source": [
    "test_score   = estimator.score(X_test,  y_test)\n",
    "print(\"Accuracy on test set:\",  round(test_score, 2))\n",
    "print(\"Accuracy on test set:\", round(accuracy_score(y_test, y_pred_test), 2))\n",
    "print(classification_report(y_test, y_pred_test))\n",
    "\n",
    "cf_test = confusion_matrix(y_test, y_pred_test)\n",
    "sns.set(rc={\"figure.figsize\":(4, 3)})\n",
    "sns.heatmap(cf_test, annot=True, fmt=\"\", cmap='Blues', xticklabels=bin_names, yticklabels=bin_names);"
   ]
  },
  {
   "cell_type": "code",
   "execution_count": 27,
   "id": "1a106863-08ca-464c-ac81-0935e5ad8b4f",
   "metadata": {
    "tags": []
   },
   "outputs": [],
   "source": [
    "# The evaluation metric for this competition is Mean Absolute Error.\n",
    "\n",
    "#mean_absolute_error(y_train, y_pred_train)"
   ]
  },
  {
   "cell_type": "markdown",
   "id": "6894ab7b-e47a-4df1-be6e-265ca0f8c167",
   "metadata": {
    "tags": []
   },
   "source": [
    "## Cross Validation"
   ]
  },
  {
   "cell_type": "code",
   "execution_count": 28,
   "id": "76c85a71-f055-4c83-a0ed-0886580689b4",
   "metadata": {
    "tags": []
   },
   "outputs": [],
   "source": [
    "y_pred_test_cv = cross_val_predict(estimator, X_test, y_test, cv=4)"
   ]
  },
  {
   "cell_type": "code",
   "execution_count": 29,
   "id": "24a5ca67-894c-4584-9c84-3299636440f9",
   "metadata": {
    "tags": []
   },
   "outputs": [
    {
     "name": "stdout",
     "output_type": "stream",
     "text": [
      "Cross validation scores: 0.47\n",
      "              precision    recall  f1-score   support\n",
      "\n",
      "        high       0.40      0.45      0.42       124\n",
      "         low       0.39      0.34      0.36       125\n",
      "      medium       0.37      0.35      0.36       123\n",
      "   very high       0.50      0.53      0.51       124\n",
      "    very low       0.46      0.45      0.45       124\n",
      "\n",
      "    accuracy                           0.42       620\n",
      "   macro avg       0.42      0.42      0.42       620\n",
      "weighted avg       0.42      0.42      0.42       620\n",
      "\n"
     ]
    }
   ],
   "source": [
    "cv_score = estimator.score(X_test, y_pred_test_cv)\n",
    "print(\"Cross validation scores:\", round(cv_score, 2))\n",
    "print(classification_report(y_test, y_pred_test_cv))"
   ]
  },
  {
   "cell_type": "markdown",
   "id": "2cd471a5-0339-4138-91e2-7868d2b35666",
   "metadata": {},
   "source": [
    "# Saving the model"
   ]
  },
  {
   "cell_type": "code",
   "execution_count": null,
   "id": "8669f198-4a2e-4063-9b04-91e6426332de",
   "metadata": {
    "tags": []
   },
   "outputs": [],
   "source": [
    "from scripts.model_serializer import ModelSerializer\n",
    "model = estimator\n",
    "savegame = ModelSerializer('models/best_model.sav')\n",
    "savegame.dump(model)"
   ]
  },
  {
   "cell_type": "markdown",
   "id": "4c5c923d-bc87-463f-96f3-8d0766342c5a",
   "metadata": {},
   "source": [
    "# Loading the model"
   ]
  },
  {
   "cell_type": "code",
   "execution_count": null,
   "id": "e58a30cd-8f2f-40dc-ba7d-181e03a6889a",
   "metadata": {
    "tags": []
   },
   "outputs": [],
   "source": [
    "savegame = ModelSerializer('models/best_model.sav')\n",
    "model = savegame.load()\n",
    "model"
   ]
  },
  {
   "cell_type": "markdown",
   "id": "04e1d189-4c06-4cc7-8d4f-a8c4ec08dd0e",
   "metadata": {},
   "source": [
    "# Grid Search"
   ]
  },
  {
   "cell_type": "code",
   "execution_count": null,
   "id": "b03ca920-74e9-4a63-a093-bf50fa03e571",
   "metadata": {
    "tags": []
   },
   "outputs": [],
   "source": [
    "\n",
    "\n",
    "\n",
    "# !!!!!!!!!!!!!!!!!!!!!!!!!!!!!!!!!!!!!!!!!!!!!!!!!!!!!!!!!!!!!!!!!!!"
   ]
  },
  {
   "cell_type": "code",
   "execution_count": null,
   "id": "9b017d4f-3451-43e6-a4b7-3c571c77a99a",
   "metadata": {
    "tags": []
   },
   "outputs": [],
   "source": [
    "# Define a parameter grid for GridSearchCV\n",
    "param_grid = {\n",
    "    'classifier': [\n",
    "        LogisticRegression(max_iter=10_000),\n",
    "        Ridge(alpha=0.5),\n",
    "#        DecisionTreeClassifier(),\n",
    "#        RandomForestClassifier(),\n",
    "#        XGBRegressor(),\n",
    "    ],\n",
    "}\n",
    "\n",
    "# Create GridSearchCV,\n",
    "grid_search = GridSearchCV(\n",
    "    estimator,\n",
    "    param_grid,\n",
    "    cv=5,\n",
    "    scoring='neg_mean_squared_error', #'r2', \n",
    "    verbose=1\n",
    ")\n",
    "\n",
    "# Fit the model\n",
    "grid_search.fit(X_train, y_train)\n",
    "\n",
    "# Get the best model from the grid search\n",
    "best_model = grid_search.best_estimator_\n",
    "\n",
    "# Make predictions\\n\",\n",
    "y_pred_train = best_model.predict(X_train)\n",
    "y_pred_test  = best_model.predict(X_test)"
   ]
  },
  {
   "cell_type": "code",
   "execution_count": null,
   "id": "e8e7ed9c-9135-42ea-a86c-154d737a0f87",
   "metadata": {},
   "outputs": [],
   "source": []
  },
  {
   "cell_type": "code",
   "execution_count": null,
   "id": "00d8f9fc-386b-48f8-8cd3-f92bc44a48d7",
   "metadata": {},
   "outputs": [],
   "source": []
  },
  {
   "cell_type": "code",
   "execution_count": null,
   "id": "89c1d580-3cef-47d3-afa2-9cb32d79ee50",
   "metadata": {
    "tags": []
   },
   "outputs": [],
   "source": [
    "# Evaluate the best model\n",
    "print('Best Model:', best_model.named_steps['classifier'])\n",
    "print('Mean Absolute Percentage Error:', round(mean_absolute_percentage_error(y_train, y_pred_train), 2))\n",
    "print('Mean Absolute Error:', round(np.sqrt(mean_absolute_error(y_test, y_pred_test)), 2))\n",
    "print('Mean Squared Error:', round(np.sqrt(mean_squared_error(y_test, y_pred_test)), 2))\n",
    "print('R-squared:', round(r2_score(y_test, y_pred_test), 2))\n",
    "\n",
    "\n",
    "\n",
    "\n",
    "\n",
    "\n",
    "\n",
    "\n",
    "def coeff_info(model):\n",
    "    coeff_used = np.sum(model.coef_!=0)\n",
    "    print('The model is using', coeff_used, 'out of 66 features.')\n",
    "    print( \"The highest coefficient has a value of:\", max(model.coef_.round(3)))\n",
    "\n",
    "    \n",
    "#coeff_info(best_model)"
   ]
  },
  {
   "cell_type": "code",
   "execution_count": null,
   "id": "04d6efbb-aea9-4e17-9e83-ae55f04a4ece",
   "metadata": {},
   "outputs": [],
   "source": []
  },
  {
   "cell_type": "code",
   "execution_count": null,
   "id": "2700da32-570e-4dbd-a59b-e06b35be02c7",
   "metadata": {},
   "outputs": [],
   "source": []
  },
  {
   "cell_type": "code",
   "execution_count": null,
   "id": "af6e808d-1b25-425b-9205-a2481ced4e97",
   "metadata": {},
   "outputs": [],
   "source": []
  },
  {
   "cell_type": "code",
   "execution_count": null,
   "id": "71de7b50-3126-46df-ad12-5dba654a614f",
   "metadata": {},
   "outputs": [],
   "source": []
  },
  {
   "cell_type": "code",
   "execution_count": null,
   "id": "ad0ef5eb-825c-43dc-bb82-8ca47a530c3a",
   "metadata": {},
   "outputs": [],
   "source": []
  },
  {
   "cell_type": "code",
   "execution_count": null,
   "id": "7eded49e-983a-4a32-8e6b-23cbd9ea66d1",
   "metadata": {},
   "outputs": [],
   "source": []
  },
  {
   "cell_type": "code",
   "execution_count": null,
   "id": "a89ce5fa-fef0-4935-95d7-83c2ffadbcc1",
   "metadata": {},
   "outputs": [],
   "source": []
  },
  {
   "cell_type": "code",
   "execution_count": null,
   "id": "ee0418aa-cb3d-4c8f-8f62-ef2905d9ef40",
   "metadata": {
    "tags": []
   },
   "outputs": [],
   "source": [
    "def error_analysis(y_test, y_pred_test):\n",
    "    \"\"\"Generated true vs. predicted values and residual scatter plot for models\n",
    "\n",
    "    Args:\n",
    "        y_test (array): true values for y_test\n",
    "        y_pred_test (array): predicted values of model for y_test\n",
    "    \"\"\"     \n",
    "    # Calculate residuals\n",
    "    residuals = y_test - y_pred_test\n",
    "    \n",
    "    # Plot real vs. predicted values \n",
    "    fig, ax = plt.subplots(1,2, figsize=(15, 5))\n",
    "    plt.subplots_adjust(right=1)\n",
    "    plt.suptitle('Error Analysis')\n",
    "    \n",
    "    ax[0].scatter(y_pred_test, y_test, color=\"#FF5A36\", alpha=0.7)\n",
    "    ax[0].plot([-400, 350], [-400, 350], color=\"#193251\")\n",
    "    ax[0].set_title(\"True vs. predicted values\", fontsize=16)\n",
    "    ax[0].set_xlabel(\"predicted values\")\n",
    "    ax[0].set_ylabel(\"true values\")\n",
    "    ax[0].set_xlim((y_pred_test.min()-10), (y_pred_test.max()+10))\n",
    "    ax[0].set_ylim((y_test.min()-40), (y_test.max()+40))\n",
    "    \n",
    "    ax[1].scatter(y_pred_test, residuals, color=\"#FF5A36\", alpha=0.7)\n",
    "    ax[1].plot([-400, 350], [0,0], color=\"#193251\")\n",
    "    ax[1].set_title(\"Residual Scatter Plot\", fontsize=16)\n",
    "    ax[1].set_xlabel(\"predicted values\")\n",
    "    ax[1].set_ylabel(\"residuals\")\n",
    "    ax[1].set_xlim((y_pred_test.min()-10), (y_pred_test.max()+10))\n",
    "    ax[1].set_ylim((residuals.min()-10), (residuals.max()+10))\n",
    "    \n",
    "error_analysis(y_test, y_pred_test)"
   ]
  },
  {
   "cell_type": "code",
   "execution_count": null,
   "id": "816cab37-57e6-4984-b161-71d42daa5a2a",
   "metadata": {
    "tags": []
   },
   "outputs": [],
   "source": []
  },
  {
   "cell_type": "code",
   "execution_count": null,
   "id": "d6cb3451-f854-4601-9ebf-bae73237b611",
   "metadata": {
    "tags": []
   },
   "outputs": [],
   "source": [
    "\n",
    "# Plotting the results\n",
    "plt.figure(figsize=(8, 6))\n",
    "\n",
    "# Scatter plot of true vs. predicted values\n",
    "plt.scatter(y_test, y_pred_test, color='blue', label='Actual vs. Predicted')\n",
    "\n",
    "# Plot the identity line (y = x)\n",
    "plt.plot([min(y_test), max(y_test)], [min(y_test), max(y_test)], color='red', linestyle='--', label='Identity Line')\n",
    "\n",
    "plt.title('Regression Model: Actual vs. Predicted Values')\n",
    "plt.xlabel('True Values')\n",
    "plt.ylabel('Predicted Values')\n",
    "plt.legend()\n",
    "plt.show()"
   ]
  }
 ],
 "metadata": {
  "kernelspec": {
   "display_name": "Python 3 (ipykernel)",
   "language": "python",
   "name": "python3"
  },
  "language_info": {
   "codemirror_mode": {
    "name": "ipython",
    "version": 3
   },
   "file_extension": ".py",
   "mimetype": "text/x-python",
   "name": "python",
   "nbconvert_exporter": "python",
   "pygments_lexer": "ipython3",
   "version": "3.11.3"
  },
  "toc-showcode": false
 },
 "nbformat": 4,
 "nbformat_minor": 5
}
